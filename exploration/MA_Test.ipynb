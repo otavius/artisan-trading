{
 "cells": [
  {
   "cell_type": "code",
   "execution_count": 55,
   "id": "2de4c4ee",
   "metadata": {},
   "outputs": [],
   "source": [
    "import sys \n",
    "sys.path.append(\"../\")\n",
    "import pandas as pd \n",
    "import plotly.graph_objects as go \n",
    "import datetime as dt \n",
    "from plotting import CandlePlot"
   ]
  },
  {
   "cell_type": "code",
   "execution_count": 56,
   "id": "f46d5310",
   "metadata": {},
   "outputs": [],
   "source": [
    "from infratstructure.instrument_collection import instrumentCollection as ic"
   ]
  },
  {
   "cell_type": "code",
   "execution_count": 57,
   "id": "52abd677",
   "metadata": {},
   "outputs": [],
   "source": [
    "pair = \"USD_CHF\"\n",
    "granularity = \"H4\"\n",
    "df = pd.read_pickle(f\"../data/{pair}_{granularity}.pkl\")\n",
    "MA_LIST = [10, 20, 50, 200]"
   ]
  },
  {
   "cell_type": "code",
   "execution_count": 58,
   "id": "a087a82e",
   "metadata": {},
   "outputs": [
    {
     "data": {
      "text/plain": [
       "Index(['time', 'volume', 'mid_o', 'mid_h', 'mid_l', 'mid_c', 'bid_o', 'bid_h',\n",
       "       'bid_l', 'bid_c', 'ask_o', 'ask_h', 'ask_l', 'ask_c'],\n",
       "      dtype='object')"
      ]
     },
     "execution_count": 58,
     "metadata": {},
     "output_type": "execute_result"
    }
   ],
   "source": [
    "df.columns"
   ]
  },
  {
   "cell_type": "code",
   "execution_count": 59,
   "id": "ef5957cf",
   "metadata": {},
   "outputs": [],
   "source": [
    "df_ma = df[[\"time\", \"mid_o\", \"mid_h\", \"mid_l\", \"mid_c\"]].copy()"
   ]
  },
  {
   "cell_type": "code",
   "execution_count": 60,
   "id": "8a865a46",
   "metadata": {},
   "outputs": [
    {
     "data": {
      "text/html": [
       "<div>\n",
       "<style scoped>\n",
       "    .dataframe tbody tr th:only-of-type {\n",
       "        vertical-align: middle;\n",
       "    }\n",
       "\n",
       "    .dataframe tbody tr th {\n",
       "        vertical-align: top;\n",
       "    }\n",
       "\n",
       "    .dataframe thead th {\n",
       "        text-align: right;\n",
       "    }\n",
       "</style>\n",
       "<table border=\"1\" class=\"dataframe\">\n",
       "  <thead>\n",
       "    <tr style=\"text-align: right;\">\n",
       "      <th></th>\n",
       "      <th>time</th>\n",
       "      <th>mid_o</th>\n",
       "      <th>mid_h</th>\n",
       "      <th>mid_l</th>\n",
       "      <th>mid_c</th>\n",
       "    </tr>\n",
       "  </thead>\n",
       "  <tbody>\n",
       "    <tr>\n",
       "      <th>0</th>\n",
       "      <td>2022-10-13 01:00:00+00:00</td>\n",
       "      <td>0.99677</td>\n",
       "      <td>0.99832</td>\n",
       "      <td>0.99659</td>\n",
       "      <td>0.99764</td>\n",
       "    </tr>\n",
       "    <tr>\n",
       "      <th>1</th>\n",
       "      <td>2022-10-13 05:00:00+00:00</td>\n",
       "      <td>0.99761</td>\n",
       "      <td>1.00045</td>\n",
       "      <td>0.99732</td>\n",
       "      <td>0.99864</td>\n",
       "    </tr>\n",
       "    <tr>\n",
       "      <th>2</th>\n",
       "      <td>2022-10-13 09:00:00+00:00</td>\n",
       "      <td>0.99868</td>\n",
       "      <td>1.00710</td>\n",
       "      <td>0.99601</td>\n",
       "      <td>1.00454</td>\n",
       "    </tr>\n",
       "    <tr>\n",
       "      <th>3</th>\n",
       "      <td>2022-10-13 13:00:00+00:00</td>\n",
       "      <td>1.00455</td>\n",
       "      <td>1.00738</td>\n",
       "      <td>0.99697</td>\n",
       "      <td>0.99996</td>\n",
       "    </tr>\n",
       "    <tr>\n",
       "      <th>4</th>\n",
       "      <td>2022-10-13 17:00:00+00:00</td>\n",
       "      <td>0.99998</td>\n",
       "      <td>1.00136</td>\n",
       "      <td>0.99713</td>\n",
       "      <td>1.00122</td>\n",
       "    </tr>\n",
       "  </tbody>\n",
       "</table>\n",
       "</div>"
      ],
      "text/plain": [
       "                       time    mid_o    mid_h    mid_l    mid_c\n",
       "0 2022-10-13 01:00:00+00:00  0.99677  0.99832  0.99659  0.99764\n",
       "1 2022-10-13 05:00:00+00:00  0.99761  1.00045  0.99732  0.99864\n",
       "2 2022-10-13 09:00:00+00:00  0.99868  1.00710  0.99601  1.00454\n",
       "3 2022-10-13 13:00:00+00:00  1.00455  1.00738  0.99697  0.99996\n",
       "4 2022-10-13 17:00:00+00:00  0.99998  1.00136  0.99713  1.00122"
      ]
     },
     "execution_count": 60,
     "metadata": {},
     "output_type": "execute_result"
    }
   ],
   "source": [
    "df_ma.head()"
   ]
  },
  {
   "cell_type": "code",
   "execution_count": 61,
   "id": "bf3d9ef1",
   "metadata": {},
   "outputs": [],
   "source": [
    "for ma in MA_LIST:\n",
    "\n",
    "    df_ma[f\"MA_{ma}\"] = df_ma.mid_c.rolling(window=ma).mean()\n",
    "df_ma.dropna(inplace=True)\n",
    "df_ma.reset_index(inplace=True, drop=True)\n"
   ]
  },
  {
   "cell_type": "code",
   "execution_count": 62,
   "id": "2c389ffc",
   "metadata": {},
   "outputs": [],
   "source": [
    "df_plot = df_ma.iloc[:500]"
   ]
  },
  {
   "cell_type": "code",
   "execution_count": null,
   "id": "2d15f777",
   "metadata": {},
   "outputs": [],
   "source": []
  },
  {
   "cell_type": "code",
   "execution_count": null,
   "id": "a5bdba73",
   "metadata": {},
   "outputs": [],
   "source": []
  },
  {
   "cell_type": "code",
   "execution_count": 63,
   "id": "0caf7313",
   "metadata": {},
   "outputs": [],
   "source": [
    "cp = CandlePlot(df_plot)"
   ]
  },
  {
   "cell_type": "code",
   "execution_count": 64,
   "id": "1f65773d",
   "metadata": {},
   "outputs": [
    {
     "data": {
      "application/vnd.plotly.v1+json": {
       "config": {
        "plotlyServerURL": "https://plot.ly"
       },
       "data": [
        {
         "close": {
          "bdata": "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",
          "dtype": "f8"
         },
         "decreasing": {
          "fillcolor": "#CC2E3C",
          "line": {
           "color": "#FF3A4C"
          }
         },
         "high": {
          "bdata": "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",
          "dtype": "f8"
         },
         "increasing": {
          "fillcolor": "#24A06B",
          "line": {
           "color": "#2EC886"
          }
         },
         "line": {
          "width": 1
         },
         "low": {
          "bdata": "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",
          "dtype": "f8"
         },
         "opacity": 1,
         "open": {
          "bdata": "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",
          "dtype": "f8"
         },
         "type": "candlestick",
         "x": [
          "s22-11-29 06:00",
          "s22-11-29 10:00",
          "s22-11-29 14:00",
          "s22-11-29 18:00",
          "s22-11-29 22:00",
          "s22-11-30 02:00",
          "s22-11-30 06:00",
          "s22-11-30 10:00",
          "s22-11-30 14:00",
          "s22-11-30 18:00",
          "s22-11-30 22:00",
          "s22-12-01 02:00",
          "s22-12-01 06:00",
          "s22-12-01 10:00",
          "s22-12-01 14:00",
          "s22-12-01 18:00",
          "s22-12-01 22:00",
          "s22-12-02 02:00",
          "s22-12-02 06:00",
          "s22-12-02 10:00",
          "s22-12-02 14:00",
          "s22-12-02 18:00",
          "s22-12-04 22:00",
          "s22-12-05 02:00",
          "s22-12-05 06:00",
          "s22-12-05 10:00",
          "s22-12-05 14:00",
          "s22-12-05 18:00",
          "s22-12-05 22:00",
          "s22-12-06 02:00",
          "s22-12-06 06:00",
          "s22-12-06 10:00",
          "s22-12-06 14:00",
          "s22-12-06 18:00",
          "s22-12-06 22:00",
          "s22-12-07 02:00",
          "s22-12-07 06:00",
          "s22-12-07 10:00",
          "s22-12-07 14:00",
          "s22-12-07 18:00",
          "s22-12-07 22:00",
          "s22-12-08 02:00",
          "s22-12-08 06:00",
          "s22-12-08 10:00",
          "s22-12-08 14:00",
          "s22-12-08 18:00",
          "s22-12-08 22:00",
          "s22-12-09 02:00",
          "s22-12-09 06:00",
          "s22-12-09 10:00",
          "s22-12-09 14:00",
          "s22-12-09 18:00",
          "s22-12-11 22:00",
          "s22-12-12 02:00",
          "s22-12-12 06:00",
          "s22-12-12 10:00",
          "s22-12-12 14:00",
          "s22-12-12 18:00",
          "s22-12-12 22:00",
          "s22-12-13 02:00",
          "s22-12-13 06:00",
          "s22-12-13 10:00",
          "s22-12-13 14:00",
          "s22-12-13 18:00",
          "s22-12-13 22:00",
          "s22-12-14 02:00",
          "s22-12-14 06:00",
          "s22-12-14 10:00",
          "s22-12-14 14:00",
          "s22-12-14 18:00",
          "s22-12-14 22:00",
          "s22-12-15 02:00",
          "s22-12-15 06:00",
          "s22-12-15 10:00",
          "s22-12-15 14:00",
          "s22-12-15 18:00",
          "s22-12-15 22:00",
          "s22-12-16 02:00",
          "s22-12-16 06:00",
          "s22-12-16 10:00",
          "s22-12-16 14:00",
          "s22-12-16 18:00",
          "s22-12-18 22:00",
          "s22-12-19 02:00",
          "s22-12-19 06:00",
          "s22-12-19 10:00",
          "s22-12-19 14:00",
          "s22-12-19 18:00",
          "s22-12-19 22:00",
          "s22-12-20 02:00",
          "s22-12-20 06:00",
          "s22-12-20 10:00",
          "s22-12-20 14:00",
          "s22-12-20 18:00",
          "s22-12-20 22:00",
          "s22-12-21 02:00",
          "s22-12-21 06:00",
          "s22-12-21 10:00",
          "s22-12-21 14:00",
          "s22-12-21 18:00",
          "s22-12-21 22:00",
          "s22-12-22 02:00",
          "s22-12-22 06:00",
          "s22-12-22 10:00",
          "s22-12-22 14:00",
          "s22-12-22 18:00",
          "s22-12-22 22:00",
          "s22-12-23 02:00",
          "s22-12-23 06:00",
          "s22-12-23 10:00",
          "s22-12-23 14:00",
          "s22-12-23 18:00",
          "s22-12-26 22:00",
          "s22-12-27 02:00",
          "s22-12-27 06:00",
          "s22-12-27 10:00",
          "s22-12-27 14:00",
          "s22-12-27 18:00",
          "s22-12-27 22:00",
          "s22-12-28 02:00",
          "s22-12-28 06:00",
          "s22-12-28 10:00",
          "s22-12-28 14:00",
          "s22-12-28 18:00",
          "s22-12-28 22:00",
          "s22-12-29 02:00",
          "s22-12-29 06:00",
          "s22-12-29 10:00",
          "s22-12-29 14:00",
          "s22-12-29 18:00",
          "s22-12-29 22:00",
          "s22-12-30 02:00",
          "s22-12-30 06:00",
          "s22-12-30 10:00",
          "s22-12-30 14:00",
          "s22-12-30 18:00",
          "s23-01-01 22:00",
          "s23-01-02 02:00",
          "s23-01-02 06:00",
          "s23-01-02 10:00",
          "s23-01-02 14:00",
          "s23-01-02 18:00",
          "s23-01-02 22:00",
          "s23-01-03 02:00",
          "s23-01-03 06:00",
          "s23-01-03 10:00",
          "s23-01-03 14:00",
          "s23-01-03 18:00",
          "s23-01-03 22:00",
          "s23-01-04 02:00",
          "s23-01-04 06:00",
          "s23-01-04 10:00",
          "s23-01-04 14:00",
          "s23-01-04 18:00",
          "s23-01-04 22:00",
          "s23-01-05 02:00",
          "s23-01-05 06:00",
          "s23-01-05 10:00",
          "s23-01-05 14:00",
          "s23-01-05 18:00",
          "s23-01-05 22:00",
          "s23-01-06 02:00",
          "s23-01-06 06:00",
          "s23-01-06 10:00",
          "s23-01-06 14:00",
          "s23-01-06 18:00",
          "s23-01-08 22:00",
          "s23-01-09 02:00",
          "s23-01-09 06:00",
          "s23-01-09 10:00",
          "s23-01-09 14:00",
          "s23-01-09 18:00",
          "s23-01-09 22:00",
          "s23-01-10 02:00",
          "s23-01-10 06:00",
          "s23-01-10 10:00",
          "s23-01-10 14:00",
          "s23-01-10 18:00",
          "s23-01-10 22:00",
          "s23-01-11 02:00",
          "s23-01-11 06:00",
          "s23-01-11 10:00",
          "s23-01-11 14:00",
          "s23-01-11 18:00",
          "s23-01-11 22:00",
          "s23-01-12 02:00",
          "s23-01-12 06:00",
          "s23-01-12 10:00",
          "s23-01-12 14:00",
          "s23-01-12 18:00",
          "s23-01-12 22:00",
          "s23-01-13 02:00",
          "s23-01-13 06:00",
          "s23-01-13 10:00",
          "s23-01-13 14:00",
          "s23-01-13 18:00",
          "s23-01-15 22:00",
          "s23-01-16 02:00",
          "s23-01-16 06:00",
          "s23-01-16 10:00",
          "s23-01-16 14:00",
          "s23-01-16 18:00",
          "s23-01-16 22:00",
          "s23-01-17 02:00",
          "s23-01-17 06:00",
          "s23-01-17 10:00",
          "s23-01-17 14:00",
          "s23-01-17 18:00",
          "s23-01-17 22:00",
          "s23-01-18 02:00",
          "s23-01-18 06:00",
          "s23-01-18 10:00",
          "s23-01-18 14:00",
          "s23-01-18 18:00",
          "s23-01-18 22:00",
          "s23-01-19 02:00",
          "s23-01-19 06:00",
          "s23-01-19 10:00",
          "s23-01-19 14:00",
          "s23-01-19 18:00",
          "s23-01-19 22:00",
          "s23-01-20 02:00",
          "s23-01-20 06:00",
          "s23-01-20 10:00",
          "s23-01-20 14:00",
          "s23-01-20 18:00",
          "s23-01-22 22:00",
          "s23-01-23 02:00",
          "s23-01-23 06:00",
          "s23-01-23 10:00",
          "s23-01-23 14:00",
          "s23-01-23 18:00",
          "s23-01-23 22:00",
          "s23-01-24 02:00",
          "s23-01-24 06:00",
          "s23-01-24 10:00",
          "s23-01-24 14:00",
          "s23-01-24 18:00",
          "s23-01-24 22:00",
          "s23-01-25 02:00",
          "s23-01-25 06:00",
          "s23-01-25 10:00",
          "s23-01-25 14:00",
          "s23-01-25 18:00",
          "s23-01-25 22:00",
          "s23-01-26 02:00",
          "s23-01-26 06:00",
          "s23-01-26 10:00",
          "s23-01-26 14:00",
          "s23-01-26 18:00",
          "s23-01-26 22:00",
          "s23-01-27 02:00",
          "s23-01-27 06:00",
          "s23-01-27 10:00",
          "s23-01-27 14:00",
          "s23-01-27 18:00",
          "s23-01-29 22:00",
          "s23-01-30 02:00",
          "s23-01-30 06:00",
          "s23-01-30 10:00",
          "s23-01-30 14:00",
          "s23-01-30 18:00",
          "s23-01-30 22:00",
          "s23-01-31 02:00",
          "s23-01-31 06:00",
          "s23-01-31 10:00",
          "s23-01-31 14:00",
          "s23-01-31 18:00",
          "s23-01-31 22:00",
          "s23-02-01 02:00",
          "s23-02-01 06:00",
          "s23-02-01 10:00",
          "s23-02-01 14:00",
          "s23-02-01 18:00",
          "s23-02-01 22:00",
          "s23-02-02 02:00",
          "s23-02-02 06:00",
          "s23-02-02 10:00",
          "s23-02-02 14:00",
          "s23-02-02 18:00",
          "s23-02-02 22:00",
          "s23-02-03 02:00",
          "s23-02-03 06:00",
          "s23-02-03 10:00",
          "s23-02-03 14:00",
          "s23-02-03 18:00",
          "s23-02-05 22:00",
          "s23-02-06 02:00",
          "s23-02-06 06:00",
          "s23-02-06 10:00",
          "s23-02-06 14:00",
          "s23-02-06 18:00",
          "s23-02-06 22:00",
          "s23-02-07 02:00",
          "s23-02-07 06:00",
          "s23-02-07 10:00",
          "s23-02-07 14:00",
          "s23-02-07 18:00",
          "s23-02-07 22:00",
          "s23-02-08 02:00",
          "s23-02-08 06:00",
          "s23-02-08 10:00",
          "s23-02-08 14:00",
          "s23-02-08 18:00",
          "s23-02-08 22:00",
          "s23-02-09 02:00",
          "s23-02-09 06:00",
          "s23-02-09 10:00",
          "s23-02-09 14:00",
          "s23-02-09 18:00",
          "s23-02-09 22:00",
          "s23-02-10 02:00",
          "s23-02-10 06:00",
          "s23-02-10 10:00",
          "s23-02-10 14:00",
          "s23-02-10 18:00",
          "s23-02-12 22:00",
          "s23-02-13 02:00",
          "s23-02-13 06:00",
          "s23-02-13 10:00",
          "s23-02-13 14:00",
          "s23-02-13 18:00",
          "s23-02-13 22:00",
          "s23-02-14 02:00",
          "s23-02-14 06:00",
          "s23-02-14 10:00",
          "s23-02-14 14:00",
          "s23-02-14 18:00",
          "s23-02-14 22:00",
          "s23-02-15 02:00",
          "s23-02-15 06:00",
          "s23-02-15 10:00",
          "s23-02-15 14:00",
          "s23-02-15 18:00",
          "s23-02-15 22:00",
          "s23-02-16 02:00",
          "s23-02-16 06:00",
          "s23-02-16 10:00",
          "s23-02-16 14:00",
          "s23-02-16 18:00",
          "s23-02-16 22:00",
          "s23-02-17 02:00",
          "s23-02-17 06:00",
          "s23-02-17 10:00",
          "s23-02-17 14:00",
          "s23-02-17 18:00",
          "s23-02-19 22:00",
          "s23-02-20 02:00",
          "s23-02-20 06:00",
          "s23-02-20 10:00",
          "s23-02-20 14:00",
          "s23-02-20 18:00",
          "s23-02-20 22:00",
          "s23-02-21 02:00",
          "s23-02-21 06:00",
          "s23-02-21 10:00",
          "s23-02-21 14:00",
          "s23-02-21 18:00",
          "s23-02-21 22:00",
          "s23-02-22 02:00",
          "s23-02-22 06:00",
          "s23-02-22 10:00",
          "s23-02-22 14:00",
          "s23-02-22 18:00",
          "s23-02-22 22:00",
          "s23-02-23 02:00",
          "s23-02-23 06:00",
          "s23-02-23 10:00",
          "s23-02-23 14:00",
          "s23-02-23 18:00",
          "s23-02-23 22:00",
          "s23-02-24 02:00",
          "s23-02-24 06:00",
          "s23-02-24 10:00",
          "s23-02-24 14:00",
          "s23-02-24 18:00",
          "s23-02-26 22:00",
          "s23-02-27 02:00",
          "s23-02-27 06:00",
          "s23-02-27 10:00",
          "s23-02-27 14:00",
          "s23-02-27 18:00",
          "s23-02-27 22:00",
          "s23-02-28 02:00",
          "s23-02-28 06:00",
          "s23-02-28 10:00",
          "s23-02-28 14:00",
          "s23-02-28 18:00",
          "s23-02-28 22:00",
          "s23-03-01 02:00",
          "s23-03-01 06:00",
          "s23-03-01 10:00",
          "s23-03-01 14:00",
          "s23-03-01 18:00",
          "s23-03-01 22:00",
          "s23-03-02 02:00",
          "s23-03-02 06:00",
          "s23-03-02 10:00",
          "s23-03-02 14:00",
          "s23-03-02 18:00",
          "s23-03-02 22:00",
          "s23-03-03 02:00",
          "s23-03-03 06:00",
          "s23-03-03 10:00",
          "s23-03-03 14:00",
          "s23-03-03 18:00",
          "s23-03-05 22:00",
          "s23-03-06 02:00",
          "s23-03-06 06:00",
          "s23-03-06 10:00",
          "s23-03-06 14:00",
          "s23-03-06 18:00",
          "s23-03-06 22:00",
          "s23-03-07 02:00",
          "s23-03-07 06:00",
          "s23-03-07 10:00",
          "s23-03-07 14:00",
          "s23-03-07 18:00",
          "s23-03-07 22:00",
          "s23-03-08 02:00",
          "s23-03-08 06:00",
          "s23-03-08 10:00",
          "s23-03-08 14:00",
          "s23-03-08 18:00",
          "s23-03-08 22:00",
          "s23-03-09 02:00",
          "s23-03-09 06:00",
          "s23-03-09 10:00",
          "s23-03-09 14:00",
          "s23-03-09 18:00",
          "s23-03-09 22:00",
          "s23-03-10 02:00",
          "s23-03-10 06:00",
          "s23-03-10 10:00",
          "s23-03-10 14:00",
          "s23-03-10 18:00",
          "s23-03-12 21:00",
          "s23-03-13 01:00",
          "s23-03-13 05:00",
          "s23-03-13 09:00",
          "s23-03-13 13:00",
          "s23-03-13 17:00",
          "s23-03-13 21:00",
          "s23-03-14 01:00",
          "s23-03-14 05:00",
          "s23-03-14 09:00",
          "s23-03-14 13:00",
          "s23-03-14 17:00",
          "s23-03-14 21:00",
          "s23-03-15 01:00",
          "s23-03-15 05:00",
          "s23-03-15 09:00",
          "s23-03-15 13:00",
          "s23-03-15 17:00",
          "s23-03-15 21:00",
          "s23-03-16 01:00",
          "s23-03-16 05:00",
          "s23-03-16 09:00",
          "s23-03-16 13:00",
          "s23-03-16 17:00",
          "s23-03-16 21:00",
          "s23-03-17 01:00",
          "s23-03-17 05:00",
          "s23-03-17 09:00",
          "s23-03-17 13:00",
          "s23-03-17 17:00",
          "s23-03-19 21:00",
          "s23-03-20 01:00",
          "s23-03-20 05:00",
          "s23-03-20 09:00",
          "s23-03-20 13:00",
          "s23-03-20 17:00",
          "s23-03-20 21:00",
          "s23-03-21 01:00",
          "s23-03-21 05:00",
          "s23-03-21 09:00",
          "s23-03-21 13:00",
          "s23-03-21 17:00",
          "s23-03-21 21:00",
          "s23-03-22 01:00",
          "s23-03-22 05:00",
          "s23-03-22 09:00",
          "s23-03-22 13:00",
          "s23-03-22 17:00",
          "s23-03-22 21:00",
          "s23-03-23 01:00",
          "s23-03-23 05:00",
          "s23-03-23 09:00",
          "s23-03-23 13:00",
          "s23-03-23 17:00",
          "s23-03-23 21:00",
          "s23-03-24 01:00",
          "s23-03-24 05:00",
          "s23-03-24 09:00",
          "s23-03-24 13:00",
          "s23-03-24 17:00",
          "s23-03-26 21:00",
          "s23-03-27 01:00",
          "s23-03-27 05:00",
          "s23-03-27 09:00"
         ]
        },
        {
         "line": {
          "shape": "spline",
          "width": 2
         },
         "name": "MA_10",
         "type": "scatter",
         "x": [
          "s22-11-29 06:00",
          "s22-11-29 10:00",
          "s22-11-29 14:00",
          "s22-11-29 18:00",
          "s22-11-29 22:00",
          "s22-11-30 02:00",
          "s22-11-30 06:00",
          "s22-11-30 10:00",
          "s22-11-30 14:00",
          "s22-11-30 18:00",
          "s22-11-30 22:00",
          "s22-12-01 02:00",
          "s22-12-01 06:00",
          "s22-12-01 10:00",
          "s22-12-01 14:00",
          "s22-12-01 18:00",
          "s22-12-01 22:00",
          "s22-12-02 02:00",
          "s22-12-02 06:00",
          "s22-12-02 10:00",
          "s22-12-02 14:00",
          "s22-12-02 18:00",
          "s22-12-04 22:00",
          "s22-12-05 02:00",
          "s22-12-05 06:00",
          "s22-12-05 10:00",
          "s22-12-05 14:00",
          "s22-12-05 18:00",
          "s22-12-05 22:00",
          "s22-12-06 02:00",
          "s22-12-06 06:00",
          "s22-12-06 10:00",
          "s22-12-06 14:00",
          "s22-12-06 18:00",
          "s22-12-06 22:00",
          "s22-12-07 02:00",
          "s22-12-07 06:00",
          "s22-12-07 10:00",
          "s22-12-07 14:00",
          "s22-12-07 18:00",
          "s22-12-07 22:00",
          "s22-12-08 02:00",
          "s22-12-08 06:00",
          "s22-12-08 10:00",
          "s22-12-08 14:00",
          "s22-12-08 18:00",
          "s22-12-08 22:00",
          "s22-12-09 02:00",
          "s22-12-09 06:00",
          "s22-12-09 10:00",
          "s22-12-09 14:00",
          "s22-12-09 18:00",
          "s22-12-11 22:00",
          "s22-12-12 02:00",
          "s22-12-12 06:00",
          "s22-12-12 10:00",
          "s22-12-12 14:00",
          "s22-12-12 18:00",
          "s22-12-12 22:00",
          "s22-12-13 02:00",
          "s22-12-13 06:00",
          "s22-12-13 10:00",
          "s22-12-13 14:00",
          "s22-12-13 18:00",
          "s22-12-13 22:00",
          "s22-12-14 02:00",
          "s22-12-14 06:00",
          "s22-12-14 10:00",
          "s22-12-14 14:00",
          "s22-12-14 18:00",
          "s22-12-14 22:00",
          "s22-12-15 02:00",
          "s22-12-15 06:00",
          "s22-12-15 10:00",
          "s22-12-15 14:00",
          "s22-12-15 18:00",
          "s22-12-15 22:00",
          "s22-12-16 02:00",
          "s22-12-16 06:00",
          "s22-12-16 10:00",
          "s22-12-16 14:00",
          "s22-12-16 18:00",
          "s22-12-18 22:00",
          "s22-12-19 02:00",
          "s22-12-19 06:00",
          "s22-12-19 10:00",
          "s22-12-19 14:00",
          "s22-12-19 18:00",
          "s22-12-19 22:00",
          "s22-12-20 02:00",
          "s22-12-20 06:00",
          "s22-12-20 10:00",
          "s22-12-20 14:00",
          "s22-12-20 18:00",
          "s22-12-20 22:00",
          "s22-12-21 02:00",
          "s22-12-21 06:00",
          "s22-12-21 10:00",
          "s22-12-21 14:00",
          "s22-12-21 18:00",
          "s22-12-21 22:00",
          "s22-12-22 02:00",
          "s22-12-22 06:00",
          "s22-12-22 10:00",
          "s22-12-22 14:00",
          "s22-12-22 18:00",
          "s22-12-22 22:00",
          "s22-12-23 02:00",
          "s22-12-23 06:00",
          "s22-12-23 10:00",
          "s22-12-23 14:00",
          "s22-12-23 18:00",
          "s22-12-26 22:00",
          "s22-12-27 02:00",
          "s22-12-27 06:00",
          "s22-12-27 10:00",
          "s22-12-27 14:00",
          "s22-12-27 18:00",
          "s22-12-27 22:00",
          "s22-12-28 02:00",
          "s22-12-28 06:00",
          "s22-12-28 10:00",
          "s22-12-28 14:00",
          "s22-12-28 18:00",
          "s22-12-28 22:00",
          "s22-12-29 02:00",
          "s22-12-29 06:00",
          "s22-12-29 10:00",
          "s22-12-29 14:00",
          "s22-12-29 18:00",
          "s22-12-29 22:00",
          "s22-12-30 02:00",
          "s22-12-30 06:00",
          "s22-12-30 10:00",
          "s22-12-30 14:00",
          "s22-12-30 18:00",
          "s23-01-01 22:00",
          "s23-01-02 02:00",
          "s23-01-02 06:00",
          "s23-01-02 10:00",
          "s23-01-02 14:00",
          "s23-01-02 18:00",
          "s23-01-02 22:00",
          "s23-01-03 02:00",
          "s23-01-03 06:00",
          "s23-01-03 10:00",
          "s23-01-03 14:00",
          "s23-01-03 18:00",
          "s23-01-03 22:00",
          "s23-01-04 02:00",
          "s23-01-04 06:00",
          "s23-01-04 10:00",
          "s23-01-04 14:00",
          "s23-01-04 18:00",
          "s23-01-04 22:00",
          "s23-01-05 02:00",
          "s23-01-05 06:00",
          "s23-01-05 10:00",
          "s23-01-05 14:00",
          "s23-01-05 18:00",
          "s23-01-05 22:00",
          "s23-01-06 02:00",
          "s23-01-06 06:00",
          "s23-01-06 10:00",
          "s23-01-06 14:00",
          "s23-01-06 18:00",
          "s23-01-08 22:00",
          "s23-01-09 02:00",
          "s23-01-09 06:00",
          "s23-01-09 10:00",
          "s23-01-09 14:00",
          "s23-01-09 18:00",
          "s23-01-09 22:00",
          "s23-01-10 02:00",
          "s23-01-10 06:00",
          "s23-01-10 10:00",
          "s23-01-10 14:00",
          "s23-01-10 18:00",
          "s23-01-10 22:00",
          "s23-01-11 02:00",
          "s23-01-11 06:00",
          "s23-01-11 10:00",
          "s23-01-11 14:00",
          "s23-01-11 18:00",
          "s23-01-11 22:00",
          "s23-01-12 02:00",
          "s23-01-12 06:00",
          "s23-01-12 10:00",
          "s23-01-12 14:00",
          "s23-01-12 18:00",
          "s23-01-12 22:00",
          "s23-01-13 02:00",
          "s23-01-13 06:00",
          "s23-01-13 10:00",
          "s23-01-13 14:00",
          "s23-01-13 18:00",
          "s23-01-15 22:00",
          "s23-01-16 02:00",
          "s23-01-16 06:00",
          "s23-01-16 10:00",
          "s23-01-16 14:00",
          "s23-01-16 18:00",
          "s23-01-16 22:00",
          "s23-01-17 02:00",
          "s23-01-17 06:00",
          "s23-01-17 10:00",
          "s23-01-17 14:00",
          "s23-01-17 18:00",
          "s23-01-17 22:00",
          "s23-01-18 02:00",
          "s23-01-18 06:00",
          "s23-01-18 10:00",
          "s23-01-18 14:00",
          "s23-01-18 18:00",
          "s23-01-18 22:00",
          "s23-01-19 02:00",
          "s23-01-19 06:00",
          "s23-01-19 10:00",
          "s23-01-19 14:00",
          "s23-01-19 18:00",
          "s23-01-19 22:00",
          "s23-01-20 02:00",
          "s23-01-20 06:00",
          "s23-01-20 10:00",
          "s23-01-20 14:00",
          "s23-01-20 18:00",
          "s23-01-22 22:00",
          "s23-01-23 02:00",
          "s23-01-23 06:00",
          "s23-01-23 10:00",
          "s23-01-23 14:00",
          "s23-01-23 18:00",
          "s23-01-23 22:00",
          "s23-01-24 02:00",
          "s23-01-24 06:00",
          "s23-01-24 10:00",
          "s23-01-24 14:00",
          "s23-01-24 18:00",
          "s23-01-24 22:00",
          "s23-01-25 02:00",
          "s23-01-25 06:00",
          "s23-01-25 10:00",
          "s23-01-25 14:00",
          "s23-01-25 18:00",
          "s23-01-25 22:00",
          "s23-01-26 02:00",
          "s23-01-26 06:00",
          "s23-01-26 10:00",
          "s23-01-26 14:00",
          "s23-01-26 18:00",
          "s23-01-26 22:00",
          "s23-01-27 02:00",
          "s23-01-27 06:00",
          "s23-01-27 10:00",
          "s23-01-27 14:00",
          "s23-01-27 18:00",
          "s23-01-29 22:00",
          "s23-01-30 02:00",
          "s23-01-30 06:00",
          "s23-01-30 10:00",
          "s23-01-30 14:00",
          "s23-01-30 18:00",
          "s23-01-30 22:00",
          "s23-01-31 02:00",
          "s23-01-31 06:00",
          "s23-01-31 10:00",
          "s23-01-31 14:00",
          "s23-01-31 18:00",
          "s23-01-31 22:00",
          "s23-02-01 02:00",
          "s23-02-01 06:00",
          "s23-02-01 10:00",
          "s23-02-01 14:00",
          "s23-02-01 18:00",
          "s23-02-01 22:00",
          "s23-02-02 02:00",
          "s23-02-02 06:00",
          "s23-02-02 10:00",
          "s23-02-02 14:00",
          "s23-02-02 18:00",
          "s23-02-02 22:00",
          "s23-02-03 02:00",
          "s23-02-03 06:00",
          "s23-02-03 10:00",
          "s23-02-03 14:00",
          "s23-02-03 18:00",
          "s23-02-05 22:00",
          "s23-02-06 02:00",
          "s23-02-06 06:00",
          "s23-02-06 10:00",
          "s23-02-06 14:00",
          "s23-02-06 18:00",
          "s23-02-06 22:00",
          "s23-02-07 02:00",
          "s23-02-07 06:00",
          "s23-02-07 10:00",
          "s23-02-07 14:00",
          "s23-02-07 18:00",
          "s23-02-07 22:00",
          "s23-02-08 02:00",
          "s23-02-08 06:00",
          "s23-02-08 10:00",
          "s23-02-08 14:00",
          "s23-02-08 18:00",
          "s23-02-08 22:00",
          "s23-02-09 02:00",
          "s23-02-09 06:00",
          "s23-02-09 10:00",
          "s23-02-09 14:00",
          "s23-02-09 18:00",
          "s23-02-09 22:00",
          "s23-02-10 02:00",
          "s23-02-10 06:00",
          "s23-02-10 10:00",
          "s23-02-10 14:00",
          "s23-02-10 18:00",
          "s23-02-12 22:00",
          "s23-02-13 02:00",
          "s23-02-13 06:00",
          "s23-02-13 10:00",
          "s23-02-13 14:00",
          "s23-02-13 18:00",
          "s23-02-13 22:00",
          "s23-02-14 02:00",
          "s23-02-14 06:00",
          "s23-02-14 10:00",
          "s23-02-14 14:00",
          "s23-02-14 18:00",
          "s23-02-14 22:00",
          "s23-02-15 02:00",
          "s23-02-15 06:00",
          "s23-02-15 10:00",
          "s23-02-15 14:00",
          "s23-02-15 18:00",
          "s23-02-15 22:00",
          "s23-02-16 02:00",
          "s23-02-16 06:00",
          "s23-02-16 10:00",
          "s23-02-16 14:00",
          "s23-02-16 18:00",
          "s23-02-16 22:00",
          "s23-02-17 02:00",
          "s23-02-17 06:00",
          "s23-02-17 10:00",
          "s23-02-17 14:00",
          "s23-02-17 18:00",
          "s23-02-19 22:00",
          "s23-02-20 02:00",
          "s23-02-20 06:00",
          "s23-02-20 10:00",
          "s23-02-20 14:00",
          "s23-02-20 18:00",
          "s23-02-20 22:00",
          "s23-02-21 02:00",
          "s23-02-21 06:00",
          "s23-02-21 10:00",
          "s23-02-21 14:00",
          "s23-02-21 18:00",
          "s23-02-21 22:00",
          "s23-02-22 02:00",
          "s23-02-22 06:00",
          "s23-02-22 10:00",
          "s23-02-22 14:00",
          "s23-02-22 18:00",
          "s23-02-22 22:00",
          "s23-02-23 02:00",
          "s23-02-23 06:00",
          "s23-02-23 10:00",
          "s23-02-23 14:00",
          "s23-02-23 18:00",
          "s23-02-23 22:00",
          "s23-02-24 02:00",
          "s23-02-24 06:00",
          "s23-02-24 10:00",
          "s23-02-24 14:00",
          "s23-02-24 18:00",
          "s23-02-26 22:00",
          "s23-02-27 02:00",
          "s23-02-27 06:00",
          "s23-02-27 10:00",
          "s23-02-27 14:00",
          "s23-02-27 18:00",
          "s23-02-27 22:00",
          "s23-02-28 02:00",
          "s23-02-28 06:00",
          "s23-02-28 10:00",
          "s23-02-28 14:00",
          "s23-02-28 18:00",
          "s23-02-28 22:00",
          "s23-03-01 02:00",
          "s23-03-01 06:00",
          "s23-03-01 10:00",
          "s23-03-01 14:00",
          "s23-03-01 18:00",
          "s23-03-01 22:00",
          "s23-03-02 02:00",
          "s23-03-02 06:00",
          "s23-03-02 10:00",
          "s23-03-02 14:00",
          "s23-03-02 18:00",
          "s23-03-02 22:00",
          "s23-03-03 02:00",
          "s23-03-03 06:00",
          "s23-03-03 10:00",
          "s23-03-03 14:00",
          "s23-03-03 18:00",
          "s23-03-05 22:00",
          "s23-03-06 02:00",
          "s23-03-06 06:00",
          "s23-03-06 10:00",
          "s23-03-06 14:00",
          "s23-03-06 18:00",
          "s23-03-06 22:00",
          "s23-03-07 02:00",
          "s23-03-07 06:00",
          "s23-03-07 10:00",
          "s23-03-07 14:00",
          "s23-03-07 18:00",
          "s23-03-07 22:00",
          "s23-03-08 02:00",
          "s23-03-08 06:00",
          "s23-03-08 10:00",
          "s23-03-08 14:00",
          "s23-03-08 18:00",
          "s23-03-08 22:00",
          "s23-03-09 02:00",
          "s23-03-09 06:00",
          "s23-03-09 10:00",
          "s23-03-09 14:00",
          "s23-03-09 18:00",
          "s23-03-09 22:00",
          "s23-03-10 02:00",
          "s23-03-10 06:00",
          "s23-03-10 10:00",
          "s23-03-10 14:00",
          "s23-03-10 18:00",
          "s23-03-12 21:00",
          "s23-03-13 01:00",
          "s23-03-13 05:00",
          "s23-03-13 09:00",
          "s23-03-13 13:00",
          "s23-03-13 17:00",
          "s23-03-13 21:00",
          "s23-03-14 01:00",
          "s23-03-14 05:00",
          "s23-03-14 09:00",
          "s23-03-14 13:00",
          "s23-03-14 17:00",
          "s23-03-14 21:00",
          "s23-03-15 01:00",
          "s23-03-15 05:00",
          "s23-03-15 09:00",
          "s23-03-15 13:00",
          "s23-03-15 17:00",
          "s23-03-15 21:00",
          "s23-03-16 01:00",
          "s23-03-16 05:00",
          "s23-03-16 09:00",
          "s23-03-16 13:00",
          "s23-03-16 17:00",
          "s23-03-16 21:00",
          "s23-03-17 01:00",
          "s23-03-17 05:00",
          "s23-03-17 09:00",
          "s23-03-17 13:00",
          "s23-03-17 17:00",
          "s23-03-19 21:00",
          "s23-03-20 01:00",
          "s23-03-20 05:00",
          "s23-03-20 09:00",
          "s23-03-20 13:00",
          "s23-03-20 17:00",
          "s23-03-20 21:00",
          "s23-03-21 01:00",
          "s23-03-21 05:00",
          "s23-03-21 09:00",
          "s23-03-21 13:00",
          "s23-03-21 17:00",
          "s23-03-21 21:00",
          "s23-03-22 01:00",
          "s23-03-22 05:00",
          "s23-03-22 09:00",
          "s23-03-22 13:00",
          "s23-03-22 17:00",
          "s23-03-22 21:00",
          "s23-03-23 01:00",
          "s23-03-23 05:00",
          "s23-03-23 09:00",
          "s23-03-23 13:00",
          "s23-03-23 17:00",
          "s23-03-23 21:00",
          "s23-03-24 01:00",
          "s23-03-24 05:00",
          "s23-03-24 09:00",
          "s23-03-24 13:00",
          "s23-03-24 17:00",
          "s23-03-26 21:00",
          "s23-03-27 01:00",
          "s23-03-27 05:00",
          "s23-03-27 09:00"
         ],
         "y": {
          "bdata": "u3MoQ1VM7j9uL2mM1lHuP+PBFrt9Vu4/OpUMAFVc7j+QQ8TNqWTuP94DdF/ObO4/ygImcOtu7j+ieJW1TXHuPz19BP7wc+4/zuhHwylz7j8jEK/rF2zuPwM4vYv3Y+4/wB2oUx5d7j/aQLrYtFLuP44FhUGZRu4/OAzmr5A57j+VC5V/LS/uP30L68a7I+4/3soSnWUW7j8i/IugMRPuPyAuOe6UDu4/Rd0HILUJ7j9Fn48y4gLuPxCWsaGb/e0/3X9kOnT67T+wr3WpEfrtP64q+64I/u0/raWAtP8B7j/+JalMMQfuPyVDjq1nCO4/ZWoSvCEN7j+Lbyh8tg7uPxbe5SK+E+4/dp/jo8UZ7j/YSBKEKyDuPwN8t3njJO4/XnzRHi8k7j9WKxN+qR/uPxoCgGPPHu4/jT7mAwId7j87OUNxxxvuP5bkgF1NHu4/E38UdeYe7j9ibvdynxzuPyodrP9zGO4/gjekUYET7j9ycOmY8wzuP06zQLtDCu4/4LvNGycF7j/Ymq285P/tP2ItPgXA+O0/9WVpp+by7T8gmKPH7+3tP10WE5uP6+0/2jUhrTHo7T8l0jb+ROXtP1XFVPoJ5+0/HeIftvTo7T9OBdzz/OntP0hS0sPQ6u0/88e0No3t7T+2SNqNPubtP3vUX6+w4O0/BTdStkja7T8QkgVM4NbtP9B14Qfn0+0/k/YGX5jM7T+ocW9+w8TtPzVkPEolvO0/HT9UGjGz7T/jN4WVCqrtP7DkKha/qe0/fqmfNxWp7T+Sek/ltKftP6b2ItqOqe0/q5FdaRmp7T9WLH5TWKntPz4g0Jm0qe0/CjAsf76t7T/e/fFetbLtP7gehetRuO0/tkQuOIO/7T9oPXyZKMLtP3b51of1xu0/pfljWpvG7T/AG9KowMntP3NEvkupy+0/nsw/+ibN7T/LtP0rK83tPzXTvU7qy+0/mvOMfcnG7T+tGRnkLsLtP+IhjJ/Gve0/2gBsQIS47T/GnGfsS7btP4qYEkn0su0/wqvlzkyw7T9mMEYkCq3tP0NbzqW4qu0/QFBu2/eo7T9S8X9HVKjtP/4QGyycpO0/QirFjsah7T9KoMGmzqPtP8Kqevmdpu0/vRqgNNSo7T+TADW1bK3tP20hyEEJs+0/6n5OQX627T/oEaPnFrrtP2CvsOB+wO0/dbFppRDI7T9eK6G7JM7tP8gkI2dhz+0/WvCiryDN7T86Drxa7sztP4XNABdky+0/HQQdrWrJ7T+Wqx+b5MftP4qa6PNRxu0/YEIFhxfE7T+QJ0nXTL7tPzJBDd/Cuu0/FhIwury57T8wTny1o7jtP4pbBTHQte0/6hA4Emiw7T/wSLw8navtP1aBWgwepu0/kiQIV0Ch7T+bpPljWpvtP2LD0ytlme0/k1M7w9SW7T9uizIbZJLtPytM32sIju0/GOjaF9CL7T/S25+LhoztP3JYGvhRje0/4Lw48dWO7T+VLZJ2o4/tPwjlfRzNke0/DSB8KNGS7T/d71AU6JPtP2N47GexlO0/xY8xdy2h7T+7umOxTartP1o4SfPHtO0/5owo7Q2+7T9uawvPS8XtP+Ko3EQtze0/vma5bHTO7T8QPL69a9DtP4CTbeAO1O0/eouH9xzY7T9e7pOjANHtP+PYeoZwzO0/cMtHUtLD7T/VljrI68HtPy3X22YqxO0/UsQihh3G7T+OQ/0ubM3tP105e2e01e0/+JMxPsze7T8W2c73U+PtP0tE+BdB4+0/INRFCmXh7T97pMFtbeHtPwMHtHQF2+0/Ql96+3PR7T+1v7M9esPtP/Wc9L7xte0/raksCruo7T8LjpJX55jtP3JYGvhRje0/6GFodXKG7T/SqpZ0lIPtP1M1QdR9gO0/K91dZ0N+7T9wAWiULn3tPxO54Az+fu0/syjsouiB7T96qG3DKIjtP3Drbp7qkO0/eLeyRGeZ7T86X+y9+KLtP6YmwRvSqO0/NaDejJqv7T99emzLgLPtP2B+p8mMt+0/9fI7TWa87T8gVn+EYcDtP8C6KlCLwe0/bv30nzW/7T/9UGnEzL7tP93z/Gmjuu0/FmcMc4K27T9gcM0d/a/tP7CPTl35rO0/JvxSP2+q7T+mJsEb0qjtP82As5Qsp+0/mII1zqaj7T/yR1Fn7qHtP0p6GFqdnO0/wOYcPBOa7T8w3SQGgZXtP1hyFYvflO0/2JyDZ0KT7T/utaD3xpDtPxqrzf+rju0/FW9kHvmD7T+inj4Cf3jtP47k8h/Sb+0/AFMGDmhp7T8aFM0DWGTtPwONmUS9YO0/pgaaz7lb7T/wun7BbljtPxDn4QSmU+0/NsZOeAlO7T9wd9Zuu1DtP/1F0JhJVO0/w+qPMAxY7T8b1lQWhV3tP1qqC3iZYe0/CouKOJ1k7T8CqOLGLWbtP73LRXwnZu0/NjY7Un1n7T+lLa7xmWztP7gkB+xqcu0/cqsgBrp27T8FOpM2VXftP7a3W5IDdu0/Cx07qMR17T9IwVPIlXrtP0ZUqG4ufu0/i8OZX82B7T+zu0BJgYXtP2LB/YAHhu0/VtP1RNeF7T/Y8PRKWYbtP1gDlIYahe0/qCIVxhaC7T9C0TyARX7tPzI6IAn7du0/BXegTnl07T8SMpBnl2/tP62L22gAb+0/laRrJt9s7T/zBMJOsWrtP1vz4y8tau0/m4cTmE5r7T8N95Fbk27tPw6K5gEscu0/DjUKSWZ17T/6Y1qbxnbtP4gyVMVUeu0/QEtXsI147T8m32xzY3rtPz6uDRXjfO0/ldbfEoB/7T/iEKrU7IHtP/0yGCMShe0/eGAA4UOJ7T9jX7LxYIvtP+Bm8WJhiO0/A85SspyE7T9LOsrBbILtP4Jy275Hfe0/EEBqEyd37T+KkSVzLG/tP5C+SdOgaO0/xsVRuYla7T/FVtC0xErtPxso8E4+Pe0/CD4GK0417T+esS/ZeDDtP+244XfTLe0/GsbdIFor7T/uPVxy3CntP5WdflAXKe0/Iv5hS48m7T8j8l1KXTLtP80Ibw9CQO0/bTzYYrdP7T86WP/nMF/tPyvDuBtEa+0/g3Fw6Zhz7T+uKvuuCH7tP5gqGJXUie0/QmZn0TuV7T/jNhrAW6DtP1A7/DVZo+0/xSKGHcak7T8gC9EhcKTtP/KcLSC0nu0/lfHvMy6c7T8r+G2I8ZrtP4CyKVd4l+0/s9R6v9GO7T9dSfJc34ftP/tXVpqUgu0/+IkD6Pd97T/uOEVHcnntP03WqIdodO0/IjZYOElz7T8Tev1JfG7tPxtdpbvrbO0/pf0PsFZt7T+dDflnBnHtPyah9IWQc+0/RfMAFvl17T/Qtpp1xnftP8Vb598ue+0/FdGvrZ9+7T+TIcfWM4TtP13Ed2LWi+0/Xp8561OO7T+Q2sTJ/Y7tP1B2M6Mfje0/Zacf1EWK7T/j3vyGiYbtP86HZwkygu0/ArUYPEx77T/GEAAce3btP6NTVz7Lc+0/xooaTMNw7T86l+Kqsm/tP549l6lJcO0/Rnh7EAJy7T867Sk5J3btPw2LUdfae+0/dhcoKbCA7T9oXDgQkoXtP708nStKie0/44kgzsOJ7T/jZOJWQYztP/jgtUsbju0/jqomiLqP7T8lH7sLlJTtP0ARixh2mO0//rrTnSee7T+wjuOHSqPtPy3saYe/pu0//aNv0jSo7T+WqN4a2KrtP3tJY7SOqu0/7SWN0Tqq7T8u3/qw3qjtP+KZ0CSxpO0/wmwCDMuf7T+rUnqml5jtP7aizXFuk+0/hq+vdamR7T9y9s5oq5LtP2JVvfxOk+0/fo/66xWW7T8lmkARi5jtP8DOTZtxmu0/qG3DKAie7T8VWtb9Y6HtP37mrE85pu0/06HT826s7T/F/rJ78rDtP50std5vtO0/mEf+YOC57T+zCTAsf77tP8prJXSXxO0/qt+FrdnK7T/6X65FC9DtP/D3i9mS1e0/892tLNHZ7T9N+RBUjd7tP6WnyCHi5u0/PuqvV1jw7T+yNPCjGvbtP1slWBzO/O0/eiKI83AC7j/Kx+4CJQXuPzj8brplB+4/aAdcV8wI7j8tuYrFbwruPzi/YaJBCu4/I0OOrWcI7j8F/vDz3wPuP+AoeXWOAe4/UtUEUfcB7j8GdvwXCALuPyWwOQfPBO4/VuvE5XgF7j8tDmd+NQfuP5OnrKbrCe4/W6yowTQM7j/9G7RXHw/uPzv7yoP0FO4/qOfdWFAY7j94z4HlCBnuP7ozEwznGu4/enqlLEMc7j86zJcXYB/uP4UGYtnMIe4/9b9cixYg7j8ri8Iuih7uP5CeIoeIG+4/fY/66xUW7j/O9ugN9xHuP6uOHOkMDO4/JsgIqHAE7j9Y3eo56f3tPwIXZMvy9e0/XgmkxK7t7T9jBirj3+ftP0Y5mE2A4e0/mKCGb2Hd7T/aWfROBdztP95X5ULl3+0/qB/URQrl7T9oBBvXv+vtP2KnWDUI8+0/zRlR2hv87T8akpOJWwXuP/1jIToEDu4/U8prJXQX7j+dTx2rlB7uP7YRT3YzI+4/iH5t/fQf7j+FgHwJFRzuP92adFsiF+4/KjQQy2YO7j/wFHKlngXuP8iW5esy/O0/5dwm3Cvz7T8oJQSr6uXtP05Y4gFl0+0/IOnTKvrD7T8OwXEZN7XtP+YcPBOapO0/1oS0xqCT7T/d1avI6IDtPx0gmKPHb+0/PXsuU5Ng7T+yCwbX3FHtP73g05y8SO0/7q1ITFBD7T/Karqe6DrtP9BCAkaXN+0/I7VQMjk17T898ZwtIDTtPxuiCn+GN+0/NqypLAo77T+OcjCbAEPtP8gMVMa/T+0/OkAwR49f7T8TMpBnl2/tPwIwnkFDf+0/ynISSl+I7T/ywADCh5LtP9Ml4xjJnu0/QCswZHWr7T8WTz3S4LbtP+jhBKbTuu0/kKFjB5W47T8AmGvRArTtP6LsLeV8se0/+I4aE2Ku7T9A1lOrr67tP+ugEtcxru0/4srZO6Ot7T81DYrmAaztP6t5jsh3qe0/1dFxNbKr7T/tiEM2kK7tP+ooB7MJsO0/Haz/c5iv7T8aoZ+p163tP2VVhJuMqu0/UyEeiZen7T+gTQ6fdKLtP74xBADHnu0/KsjPRq6b7T8yGCMShZbtPyNE+YIWku0//fUKC+6H7T/oGJC93n3tPyLhe3+Ddu0/kPzBwHNv7T/o/upx32rtPxssnKT5Y+0/I3zvb9Be7T+qfqXz4VntPxZSflLtU+0/6x7ZXDVP7T+l4v+OqFDtP0WCqWbWUu0/ld+ik6VW7T/KAFDFjVvtP6opyTocXe0/1Zl7SPhe7T8YRnpRu1/tPw==",
          "dtype": "f8"
         }
        },
        {
         "line": {
          "shape": "spline",
          "width": 2
         },
         "name": "MA_20",
         "type": "scatter",
         "x": [
          "s22-11-29 06:00",
          "s22-11-29 10:00",
          "s22-11-29 14:00",
          "s22-11-29 18:00",
          "s22-11-29 22:00",
          "s22-11-30 02:00",
          "s22-11-30 06:00",
          "s22-11-30 10:00",
          "s22-11-30 14:00",
          "s22-11-30 18:00",
          "s22-11-30 22:00",
          "s22-12-01 02:00",
          "s22-12-01 06:00",
          "s22-12-01 10:00",
          "s22-12-01 14:00",
          "s22-12-01 18:00",
          "s22-12-01 22:00",
          "s22-12-02 02:00",
          "s22-12-02 06:00",
          "s22-12-02 10:00",
          "s22-12-02 14:00",
          "s22-12-02 18:00",
          "s22-12-04 22:00",
          "s22-12-05 02:00",
          "s22-12-05 06:00",
          "s22-12-05 10:00",
          "s22-12-05 14:00",
          "s22-12-05 18:00",
          "s22-12-05 22:00",
          "s22-12-06 02:00",
          "s22-12-06 06:00",
          "s22-12-06 10:00",
          "s22-12-06 14:00",
          "s22-12-06 18:00",
          "s22-12-06 22:00",
          "s22-12-07 02:00",
          "s22-12-07 06:00",
          "s22-12-07 10:00",
          "s22-12-07 14:00",
          "s22-12-07 18:00",
          "s22-12-07 22:00",
          "s22-12-08 02:00",
          "s22-12-08 06:00",
          "s22-12-08 10:00",
          "s22-12-08 14:00",
          "s22-12-08 18:00",
          "s22-12-08 22:00",
          "s22-12-09 02:00",
          "s22-12-09 06:00",
          "s22-12-09 10:00",
          "s22-12-09 14:00",
          "s22-12-09 18:00",
          "s22-12-11 22:00",
          "s22-12-12 02:00",
          "s22-12-12 06:00",
          "s22-12-12 10:00",
          "s22-12-12 14:00",
          "s22-12-12 18:00",
          "s22-12-12 22:00",
          "s22-12-13 02:00",
          "s22-12-13 06:00",
          "s22-12-13 10:00",
          "s22-12-13 14:00",
          "s22-12-13 18:00",
          "s22-12-13 22:00",
          "s22-12-14 02:00",
          "s22-12-14 06:00",
          "s22-12-14 10:00",
          "s22-12-14 14:00",
          "s22-12-14 18:00",
          "s22-12-14 22:00",
          "s22-12-15 02:00",
          "s22-12-15 06:00",
          "s22-12-15 10:00",
          "s22-12-15 14:00",
          "s22-12-15 18:00",
          "s22-12-15 22:00",
          "s22-12-16 02:00",
          "s22-12-16 06:00",
          "s22-12-16 10:00",
          "s22-12-16 14:00",
          "s22-12-16 18:00",
          "s22-12-18 22:00",
          "s22-12-19 02:00",
          "s22-12-19 06:00",
          "s22-12-19 10:00",
          "s22-12-19 14:00",
          "s22-12-19 18:00",
          "s22-12-19 22:00",
          "s22-12-20 02:00",
          "s22-12-20 06:00",
          "s22-12-20 10:00",
          "s22-12-20 14:00",
          "s22-12-20 18:00",
          "s22-12-20 22:00",
          "s22-12-21 02:00",
          "s22-12-21 06:00",
          "s22-12-21 10:00",
          "s22-12-21 14:00",
          "s22-12-21 18:00",
          "s22-12-21 22:00",
          "s22-12-22 02:00",
          "s22-12-22 06:00",
          "s22-12-22 10:00",
          "s22-12-22 14:00",
          "s22-12-22 18:00",
          "s22-12-22 22:00",
          "s22-12-23 02:00",
          "s22-12-23 06:00",
          "s22-12-23 10:00",
          "s22-12-23 14:00",
          "s22-12-23 18:00",
          "s22-12-26 22:00",
          "s22-12-27 02:00",
          "s22-12-27 06:00",
          "s22-12-27 10:00",
          "s22-12-27 14:00",
          "s22-12-27 18:00",
          "s22-12-27 22:00",
          "s22-12-28 02:00",
          "s22-12-28 06:00",
          "s22-12-28 10:00",
          "s22-12-28 14:00",
          "s22-12-28 18:00",
          "s22-12-28 22:00",
          "s22-12-29 02:00",
          "s22-12-29 06:00",
          "s22-12-29 10:00",
          "s22-12-29 14:00",
          "s22-12-29 18:00",
          "s22-12-29 22:00",
          "s22-12-30 02:00",
          "s22-12-30 06:00",
          "s22-12-30 10:00",
          "s22-12-30 14:00",
          "s22-12-30 18:00",
          "s23-01-01 22:00",
          "s23-01-02 02:00",
          "s23-01-02 06:00",
          "s23-01-02 10:00",
          "s23-01-02 14:00",
          "s23-01-02 18:00",
          "s23-01-02 22:00",
          "s23-01-03 02:00",
          "s23-01-03 06:00",
          "s23-01-03 10:00",
          "s23-01-03 14:00",
          "s23-01-03 18:00",
          "s23-01-03 22:00",
          "s23-01-04 02:00",
          "s23-01-04 06:00",
          "s23-01-04 10:00",
          "s23-01-04 14:00",
          "s23-01-04 18:00",
          "s23-01-04 22:00",
          "s23-01-05 02:00",
          "s23-01-05 06:00",
          "s23-01-05 10:00",
          "s23-01-05 14:00",
          "s23-01-05 18:00",
          "s23-01-05 22:00",
          "s23-01-06 02:00",
          "s23-01-06 06:00",
          "s23-01-06 10:00",
          "s23-01-06 14:00",
          "s23-01-06 18:00",
          "s23-01-08 22:00",
          "s23-01-09 02:00",
          "s23-01-09 06:00",
          "s23-01-09 10:00",
          "s23-01-09 14:00",
          "s23-01-09 18:00",
          "s23-01-09 22:00",
          "s23-01-10 02:00",
          "s23-01-10 06:00",
          "s23-01-10 10:00",
          "s23-01-10 14:00",
          "s23-01-10 18:00",
          "s23-01-10 22:00",
          "s23-01-11 02:00",
          "s23-01-11 06:00",
          "s23-01-11 10:00",
          "s23-01-11 14:00",
          "s23-01-11 18:00",
          "s23-01-11 22:00",
          "s23-01-12 02:00",
          "s23-01-12 06:00",
          "s23-01-12 10:00",
          "s23-01-12 14:00",
          "s23-01-12 18:00",
          "s23-01-12 22:00",
          "s23-01-13 02:00",
          "s23-01-13 06:00",
          "s23-01-13 10:00",
          "s23-01-13 14:00",
          "s23-01-13 18:00",
          "s23-01-15 22:00",
          "s23-01-16 02:00",
          "s23-01-16 06:00",
          "s23-01-16 10:00",
          "s23-01-16 14:00",
          "s23-01-16 18:00",
          "s23-01-16 22:00",
          "s23-01-17 02:00",
          "s23-01-17 06:00",
          "s23-01-17 10:00",
          "s23-01-17 14:00",
          "s23-01-17 18:00",
          "s23-01-17 22:00",
          "s23-01-18 02:00",
          "s23-01-18 06:00",
          "s23-01-18 10:00",
          "s23-01-18 14:00",
          "s23-01-18 18:00",
          "s23-01-18 22:00",
          "s23-01-19 02:00",
          "s23-01-19 06:00",
          "s23-01-19 10:00",
          "s23-01-19 14:00",
          "s23-01-19 18:00",
          "s23-01-19 22:00",
          "s23-01-20 02:00",
          "s23-01-20 06:00",
          "s23-01-20 10:00",
          "s23-01-20 14:00",
          "s23-01-20 18:00",
          "s23-01-22 22:00",
          "s23-01-23 02:00",
          "s23-01-23 06:00",
          "s23-01-23 10:00",
          "s23-01-23 14:00",
          "s23-01-23 18:00",
          "s23-01-23 22:00",
          "s23-01-24 02:00",
          "s23-01-24 06:00",
          "s23-01-24 10:00",
          "s23-01-24 14:00",
          "s23-01-24 18:00",
          "s23-01-24 22:00",
          "s23-01-25 02:00",
          "s23-01-25 06:00",
          "s23-01-25 10:00",
          "s23-01-25 14:00",
          "s23-01-25 18:00",
          "s23-01-25 22:00",
          "s23-01-26 02:00",
          "s23-01-26 06:00",
          "s23-01-26 10:00",
          "s23-01-26 14:00",
          "s23-01-26 18:00",
          "s23-01-26 22:00",
          "s23-01-27 02:00",
          "s23-01-27 06:00",
          "s23-01-27 10:00",
          "s23-01-27 14:00",
          "s23-01-27 18:00",
          "s23-01-29 22:00",
          "s23-01-30 02:00",
          "s23-01-30 06:00",
          "s23-01-30 10:00",
          "s23-01-30 14:00",
          "s23-01-30 18:00",
          "s23-01-30 22:00",
          "s23-01-31 02:00",
          "s23-01-31 06:00",
          "s23-01-31 10:00",
          "s23-01-31 14:00",
          "s23-01-31 18:00",
          "s23-01-31 22:00",
          "s23-02-01 02:00",
          "s23-02-01 06:00",
          "s23-02-01 10:00",
          "s23-02-01 14:00",
          "s23-02-01 18:00",
          "s23-02-01 22:00",
          "s23-02-02 02:00",
          "s23-02-02 06:00",
          "s23-02-02 10:00",
          "s23-02-02 14:00",
          "s23-02-02 18:00",
          "s23-02-02 22:00",
          "s23-02-03 02:00",
          "s23-02-03 06:00",
          "s23-02-03 10:00",
          "s23-02-03 14:00",
          "s23-02-03 18:00",
          "s23-02-05 22:00",
          "s23-02-06 02:00",
          "s23-02-06 06:00",
          "s23-02-06 10:00",
          "s23-02-06 14:00",
          "s23-02-06 18:00",
          "s23-02-06 22:00",
          "s23-02-07 02:00",
          "s23-02-07 06:00",
          "s23-02-07 10:00",
          "s23-02-07 14:00",
          "s23-02-07 18:00",
          "s23-02-07 22:00",
          "s23-02-08 02:00",
          "s23-02-08 06:00",
          "s23-02-08 10:00",
          "s23-02-08 14:00",
          "s23-02-08 18:00",
          "s23-02-08 22:00",
          "s23-02-09 02:00",
          "s23-02-09 06:00",
          "s23-02-09 10:00",
          "s23-02-09 14:00",
          "s23-02-09 18:00",
          "s23-02-09 22:00",
          "s23-02-10 02:00",
          "s23-02-10 06:00",
          "s23-02-10 10:00",
          "s23-02-10 14:00",
          "s23-02-10 18:00",
          "s23-02-12 22:00",
          "s23-02-13 02:00",
          "s23-02-13 06:00",
          "s23-02-13 10:00",
          "s23-02-13 14:00",
          "s23-02-13 18:00",
          "s23-02-13 22:00",
          "s23-02-14 02:00",
          "s23-02-14 06:00",
          "s23-02-14 10:00",
          "s23-02-14 14:00",
          "s23-02-14 18:00",
          "s23-02-14 22:00",
          "s23-02-15 02:00",
          "s23-02-15 06:00",
          "s23-02-15 10:00",
          "s23-02-15 14:00",
          "s23-02-15 18:00",
          "s23-02-15 22:00",
          "s23-02-16 02:00",
          "s23-02-16 06:00",
          "s23-02-16 10:00",
          "s23-02-16 14:00",
          "s23-02-16 18:00",
          "s23-02-16 22:00",
          "s23-02-17 02:00",
          "s23-02-17 06:00",
          "s23-02-17 10:00",
          "s23-02-17 14:00",
          "s23-02-17 18:00",
          "s23-02-19 22:00",
          "s23-02-20 02:00",
          "s23-02-20 06:00",
          "s23-02-20 10:00",
          "s23-02-20 14:00",
          "s23-02-20 18:00",
          "s23-02-20 22:00",
          "s23-02-21 02:00",
          "s23-02-21 06:00",
          "s23-02-21 10:00",
          "s23-02-21 14:00",
          "s23-02-21 18:00",
          "s23-02-21 22:00",
          "s23-02-22 02:00",
          "s23-02-22 06:00",
          "s23-02-22 10:00",
          "s23-02-22 14:00",
          "s23-02-22 18:00",
          "s23-02-22 22:00",
          "s23-02-23 02:00",
          "s23-02-23 06:00",
          "s23-02-23 10:00",
          "s23-02-23 14:00",
          "s23-02-23 18:00",
          "s23-02-23 22:00",
          "s23-02-24 02:00",
          "s23-02-24 06:00",
          "s23-02-24 10:00",
          "s23-02-24 14:00",
          "s23-02-24 18:00",
          "s23-02-26 22:00",
          "s23-02-27 02:00",
          "s23-02-27 06:00",
          "s23-02-27 10:00",
          "s23-02-27 14:00",
          "s23-02-27 18:00",
          "s23-02-27 22:00",
          "s23-02-28 02:00",
          "s23-02-28 06:00",
          "s23-02-28 10:00",
          "s23-02-28 14:00",
          "s23-02-28 18:00",
          "s23-02-28 22:00",
          "s23-03-01 02:00",
          "s23-03-01 06:00",
          "s23-03-01 10:00",
          "s23-03-01 14:00",
          "s23-03-01 18:00",
          "s23-03-01 22:00",
          "s23-03-02 02:00",
          "s23-03-02 06:00",
          "s23-03-02 10:00",
          "s23-03-02 14:00",
          "s23-03-02 18:00",
          "s23-03-02 22:00",
          "s23-03-03 02:00",
          "s23-03-03 06:00",
          "s23-03-03 10:00",
          "s23-03-03 14:00",
          "s23-03-03 18:00",
          "s23-03-05 22:00",
          "s23-03-06 02:00",
          "s23-03-06 06:00",
          "s23-03-06 10:00",
          "s23-03-06 14:00",
          "s23-03-06 18:00",
          "s23-03-06 22:00",
          "s23-03-07 02:00",
          "s23-03-07 06:00",
          "s23-03-07 10:00",
          "s23-03-07 14:00",
          "s23-03-07 18:00",
          "s23-03-07 22:00",
          "s23-03-08 02:00",
          "s23-03-08 06:00",
          "s23-03-08 10:00",
          "s23-03-08 14:00",
          "s23-03-08 18:00",
          "s23-03-08 22:00",
          "s23-03-09 02:00",
          "s23-03-09 06:00",
          "s23-03-09 10:00",
          "s23-03-09 14:00",
          "s23-03-09 18:00",
          "s23-03-09 22:00",
          "s23-03-10 02:00",
          "s23-03-10 06:00",
          "s23-03-10 10:00",
          "s23-03-10 14:00",
          "s23-03-10 18:00",
          "s23-03-12 21:00",
          "s23-03-13 01:00",
          "s23-03-13 05:00",
          "s23-03-13 09:00",
          "s23-03-13 13:00",
          "s23-03-13 17:00",
          "s23-03-13 21:00",
          "s23-03-14 01:00",
          "s23-03-14 05:00",
          "s23-03-14 09:00",
          "s23-03-14 13:00",
          "s23-03-14 17:00",
          "s23-03-14 21:00",
          "s23-03-15 01:00",
          "s23-03-15 05:00",
          "s23-03-15 09:00",
          "s23-03-15 13:00",
          "s23-03-15 17:00",
          "s23-03-15 21:00",
          "s23-03-16 01:00",
          "s23-03-16 05:00",
          "s23-03-16 09:00",
          "s23-03-16 13:00",
          "s23-03-16 17:00",
          "s23-03-16 21:00",
          "s23-03-17 01:00",
          "s23-03-17 05:00",
          "s23-03-17 09:00",
          "s23-03-17 13:00",
          "s23-03-17 17:00",
          "s23-03-19 21:00",
          "s23-03-20 01:00",
          "s23-03-20 05:00",
          "s23-03-20 09:00",
          "s23-03-20 13:00",
          "s23-03-20 17:00",
          "s23-03-20 21:00",
          "s23-03-21 01:00",
          "s23-03-21 05:00",
          "s23-03-21 09:00",
          "s23-03-21 13:00",
          "s23-03-21 17:00",
          "s23-03-21 21:00",
          "s23-03-22 01:00",
          "s23-03-22 05:00",
          "s23-03-22 09:00",
          "s23-03-22 13:00",
          "s23-03-22 17:00",
          "s23-03-22 21:00",
          "s23-03-23 01:00",
          "s23-03-23 05:00",
          "s23-03-23 09:00",
          "s23-03-23 13:00",
          "s23-03-23 17:00",
          "s23-03-23 21:00",
          "s23-03-24 01:00",
          "s23-03-24 05:00",
          "s23-03-24 09:00",
          "s23-03-24 13:00",
          "s23-03-24 17:00",
          "s23-03-26 21:00",
          "s23-03-27 01:00",
          "s23-03-27 05:00",
          "s23-03-27 09:00"
         ],
         "y": {
          "bdata": "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",
          "dtype": "f8"
         }
        },
        {
         "line": {
          "shape": "spline",
          "width": 2
         },
         "name": "MA_50",
         "type": "scatter",
         "x": [
          "s22-11-29 06:00",
          "s22-11-29 10:00",
          "s22-11-29 14:00",
          "s22-11-29 18:00",
          "s22-11-29 22:00",
          "s22-11-30 02:00",
          "s22-11-30 06:00",
          "s22-11-30 10:00",
          "s22-11-30 14:00",
          "s22-11-30 18:00",
          "s22-11-30 22:00",
          "s22-12-01 02:00",
          "s22-12-01 06:00",
          "s22-12-01 10:00",
          "s22-12-01 14:00",
          "s22-12-01 18:00",
          "s22-12-01 22:00",
          "s22-12-02 02:00",
          "s22-12-02 06:00",
          "s22-12-02 10:00",
          "s22-12-02 14:00",
          "s22-12-02 18:00",
          "s22-12-04 22:00",
          "s22-12-05 02:00",
          "s22-12-05 06:00",
          "s22-12-05 10:00",
          "s22-12-05 14:00",
          "s22-12-05 18:00",
          "s22-12-05 22:00",
          "s22-12-06 02:00",
          "s22-12-06 06:00",
          "s22-12-06 10:00",
          "s22-12-06 14:00",
          "s22-12-06 18:00",
          "s22-12-06 22:00",
          "s22-12-07 02:00",
          "s22-12-07 06:00",
          "s22-12-07 10:00",
          "s22-12-07 14:00",
          "s22-12-07 18:00",
          "s22-12-07 22:00",
          "s22-12-08 02:00",
          "s22-12-08 06:00",
          "s22-12-08 10:00",
          "s22-12-08 14:00",
          "s22-12-08 18:00",
          "s22-12-08 22:00",
          "s22-12-09 02:00",
          "s22-12-09 06:00",
          "s22-12-09 10:00",
          "s22-12-09 14:00",
          "s22-12-09 18:00",
          "s22-12-11 22:00",
          "s22-12-12 02:00",
          "s22-12-12 06:00",
          "s22-12-12 10:00",
          "s22-12-12 14:00",
          "s22-12-12 18:00",
          "s22-12-12 22:00",
          "s22-12-13 02:00",
          "s22-12-13 06:00",
          "s22-12-13 10:00",
          "s22-12-13 14:00",
          "s22-12-13 18:00",
          "s22-12-13 22:00",
          "s22-12-14 02:00",
          "s22-12-14 06:00",
          "s22-12-14 10:00",
          "s22-12-14 14:00",
          "s22-12-14 18:00",
          "s22-12-14 22:00",
          "s22-12-15 02:00",
          "s22-12-15 06:00",
          "s22-12-15 10:00",
          "s22-12-15 14:00",
          "s22-12-15 18:00",
          "s22-12-15 22:00",
          "s22-12-16 02:00",
          "s22-12-16 06:00",
          "s22-12-16 10:00",
          "s22-12-16 14:00",
          "s22-12-16 18:00",
          "s22-12-18 22:00",
          "s22-12-19 02:00",
          "s22-12-19 06:00",
          "s22-12-19 10:00",
          "s22-12-19 14:00",
          "s22-12-19 18:00",
          "s22-12-19 22:00",
          "s22-12-20 02:00",
          "s22-12-20 06:00",
          "s22-12-20 10:00",
          "s22-12-20 14:00",
          "s22-12-20 18:00",
          "s22-12-20 22:00",
          "s22-12-21 02:00",
          "s22-12-21 06:00",
          "s22-12-21 10:00",
          "s22-12-21 14:00",
          "s22-12-21 18:00",
          "s22-12-21 22:00",
          "s22-12-22 02:00",
          "s22-12-22 06:00",
          "s22-12-22 10:00",
          "s22-12-22 14:00",
          "s22-12-22 18:00",
          "s22-12-22 22:00",
          "s22-12-23 02:00",
          "s22-12-23 06:00",
          "s22-12-23 10:00",
          "s22-12-23 14:00",
          "s22-12-23 18:00",
          "s22-12-26 22:00",
          "s22-12-27 02:00",
          "s22-12-27 06:00",
          "s22-12-27 10:00",
          "s22-12-27 14:00",
          "s22-12-27 18:00",
          "s22-12-27 22:00",
          "s22-12-28 02:00",
          "s22-12-28 06:00",
          "s22-12-28 10:00",
          "s22-12-28 14:00",
          "s22-12-28 18:00",
          "s22-12-28 22:00",
          "s22-12-29 02:00",
          "s22-12-29 06:00",
          "s22-12-29 10:00",
          "s22-12-29 14:00",
          "s22-12-29 18:00",
          "s22-12-29 22:00",
          "s22-12-30 02:00",
          "s22-12-30 06:00",
          "s22-12-30 10:00",
          "s22-12-30 14:00",
          "s22-12-30 18:00",
          "s23-01-01 22:00",
          "s23-01-02 02:00",
          "s23-01-02 06:00",
          "s23-01-02 10:00",
          "s23-01-02 14:00",
          "s23-01-02 18:00",
          "s23-01-02 22:00",
          "s23-01-03 02:00",
          "s23-01-03 06:00",
          "s23-01-03 10:00",
          "s23-01-03 14:00",
          "s23-01-03 18:00",
          "s23-01-03 22:00",
          "s23-01-04 02:00",
          "s23-01-04 06:00",
          "s23-01-04 10:00",
          "s23-01-04 14:00",
          "s23-01-04 18:00",
          "s23-01-04 22:00",
          "s23-01-05 02:00",
          "s23-01-05 06:00",
          "s23-01-05 10:00",
          "s23-01-05 14:00",
          "s23-01-05 18:00",
          "s23-01-05 22:00",
          "s23-01-06 02:00",
          "s23-01-06 06:00",
          "s23-01-06 10:00",
          "s23-01-06 14:00",
          "s23-01-06 18:00",
          "s23-01-08 22:00",
          "s23-01-09 02:00",
          "s23-01-09 06:00",
          "s23-01-09 10:00",
          "s23-01-09 14:00",
          "s23-01-09 18:00",
          "s23-01-09 22:00",
          "s23-01-10 02:00",
          "s23-01-10 06:00",
          "s23-01-10 10:00",
          "s23-01-10 14:00",
          "s23-01-10 18:00",
          "s23-01-10 22:00",
          "s23-01-11 02:00",
          "s23-01-11 06:00",
          "s23-01-11 10:00",
          "s23-01-11 14:00",
          "s23-01-11 18:00",
          "s23-01-11 22:00",
          "s23-01-12 02:00",
          "s23-01-12 06:00",
          "s23-01-12 10:00",
          "s23-01-12 14:00",
          "s23-01-12 18:00",
          "s23-01-12 22:00",
          "s23-01-13 02:00",
          "s23-01-13 06:00",
          "s23-01-13 10:00",
          "s23-01-13 14:00",
          "s23-01-13 18:00",
          "s23-01-15 22:00",
          "s23-01-16 02:00",
          "s23-01-16 06:00",
          "s23-01-16 10:00",
          "s23-01-16 14:00",
          "s23-01-16 18:00",
          "s23-01-16 22:00",
          "s23-01-17 02:00",
          "s23-01-17 06:00",
          "s23-01-17 10:00",
          "s23-01-17 14:00",
          "s23-01-17 18:00",
          "s23-01-17 22:00",
          "s23-01-18 02:00",
          "s23-01-18 06:00",
          "s23-01-18 10:00",
          "s23-01-18 14:00",
          "s23-01-18 18:00",
          "s23-01-18 22:00",
          "s23-01-19 02:00",
          "s23-01-19 06:00",
          "s23-01-19 10:00",
          "s23-01-19 14:00",
          "s23-01-19 18:00",
          "s23-01-19 22:00",
          "s23-01-20 02:00",
          "s23-01-20 06:00",
          "s23-01-20 10:00",
          "s23-01-20 14:00",
          "s23-01-20 18:00",
          "s23-01-22 22:00",
          "s23-01-23 02:00",
          "s23-01-23 06:00",
          "s23-01-23 10:00",
          "s23-01-23 14:00",
          "s23-01-23 18:00",
          "s23-01-23 22:00",
          "s23-01-24 02:00",
          "s23-01-24 06:00",
          "s23-01-24 10:00",
          "s23-01-24 14:00",
          "s23-01-24 18:00",
          "s23-01-24 22:00",
          "s23-01-25 02:00",
          "s23-01-25 06:00",
          "s23-01-25 10:00",
          "s23-01-25 14:00",
          "s23-01-25 18:00",
          "s23-01-25 22:00",
          "s23-01-26 02:00",
          "s23-01-26 06:00",
          "s23-01-26 10:00",
          "s23-01-26 14:00",
          "s23-01-26 18:00",
          "s23-01-26 22:00",
          "s23-01-27 02:00",
          "s23-01-27 06:00",
          "s23-01-27 10:00",
          "s23-01-27 14:00",
          "s23-01-27 18:00",
          "s23-01-29 22:00",
          "s23-01-30 02:00",
          "s23-01-30 06:00",
          "s23-01-30 10:00",
          "s23-01-30 14:00",
          "s23-01-30 18:00",
          "s23-01-30 22:00",
          "s23-01-31 02:00",
          "s23-01-31 06:00",
          "s23-01-31 10:00",
          "s23-01-31 14:00",
          "s23-01-31 18:00",
          "s23-01-31 22:00",
          "s23-02-01 02:00",
          "s23-02-01 06:00",
          "s23-02-01 10:00",
          "s23-02-01 14:00",
          "s23-02-01 18:00",
          "s23-02-01 22:00",
          "s23-02-02 02:00",
          "s23-02-02 06:00",
          "s23-02-02 10:00",
          "s23-02-02 14:00",
          "s23-02-02 18:00",
          "s23-02-02 22:00",
          "s23-02-03 02:00",
          "s23-02-03 06:00",
          "s23-02-03 10:00",
          "s23-02-03 14:00",
          "s23-02-03 18:00",
          "s23-02-05 22:00",
          "s23-02-06 02:00",
          "s23-02-06 06:00",
          "s23-02-06 10:00",
          "s23-02-06 14:00",
          "s23-02-06 18:00",
          "s23-02-06 22:00",
          "s23-02-07 02:00",
          "s23-02-07 06:00",
          "s23-02-07 10:00",
          "s23-02-07 14:00",
          "s23-02-07 18:00",
          "s23-02-07 22:00",
          "s23-02-08 02:00",
          "s23-02-08 06:00",
          "s23-02-08 10:00",
          "s23-02-08 14:00",
          "s23-02-08 18:00",
          "s23-02-08 22:00",
          "s23-02-09 02:00",
          "s23-02-09 06:00",
          "s23-02-09 10:00",
          "s23-02-09 14:00",
          "s23-02-09 18:00",
          "s23-02-09 22:00",
          "s23-02-10 02:00",
          "s23-02-10 06:00",
          "s23-02-10 10:00",
          "s23-02-10 14:00",
          "s23-02-10 18:00",
          "s23-02-12 22:00",
          "s23-02-13 02:00",
          "s23-02-13 06:00",
          "s23-02-13 10:00",
          "s23-02-13 14:00",
          "s23-02-13 18:00",
          "s23-02-13 22:00",
          "s23-02-14 02:00",
          "s23-02-14 06:00",
          "s23-02-14 10:00",
          "s23-02-14 14:00",
          "s23-02-14 18:00",
          "s23-02-14 22:00",
          "s23-02-15 02:00",
          "s23-02-15 06:00",
          "s23-02-15 10:00",
          "s23-02-15 14:00",
          "s23-02-15 18:00",
          "s23-02-15 22:00",
          "s23-02-16 02:00",
          "s23-02-16 06:00",
          "s23-02-16 10:00",
          "s23-02-16 14:00",
          "s23-02-16 18:00",
          "s23-02-16 22:00",
          "s23-02-17 02:00",
          "s23-02-17 06:00",
          "s23-02-17 10:00",
          "s23-02-17 14:00",
          "s23-02-17 18:00",
          "s23-02-19 22:00",
          "s23-02-20 02:00",
          "s23-02-20 06:00",
          "s23-02-20 10:00",
          "s23-02-20 14:00",
          "s23-02-20 18:00",
          "s23-02-20 22:00",
          "s23-02-21 02:00",
          "s23-02-21 06:00",
          "s23-02-21 10:00",
          "s23-02-21 14:00",
          "s23-02-21 18:00",
          "s23-02-21 22:00",
          "s23-02-22 02:00",
          "s23-02-22 06:00",
          "s23-02-22 10:00",
          "s23-02-22 14:00",
          "s23-02-22 18:00",
          "s23-02-22 22:00",
          "s23-02-23 02:00",
          "s23-02-23 06:00",
          "s23-02-23 10:00",
          "s23-02-23 14:00",
          "s23-02-23 18:00",
          "s23-02-23 22:00",
          "s23-02-24 02:00",
          "s23-02-24 06:00",
          "s23-02-24 10:00",
          "s23-02-24 14:00",
          "s23-02-24 18:00",
          "s23-02-26 22:00",
          "s23-02-27 02:00",
          "s23-02-27 06:00",
          "s23-02-27 10:00",
          "s23-02-27 14:00",
          "s23-02-27 18:00",
          "s23-02-27 22:00",
          "s23-02-28 02:00",
          "s23-02-28 06:00",
          "s23-02-28 10:00",
          "s23-02-28 14:00",
          "s23-02-28 18:00",
          "s23-02-28 22:00",
          "s23-03-01 02:00",
          "s23-03-01 06:00",
          "s23-03-01 10:00",
          "s23-03-01 14:00",
          "s23-03-01 18:00",
          "s23-03-01 22:00",
          "s23-03-02 02:00",
          "s23-03-02 06:00",
          "s23-03-02 10:00",
          "s23-03-02 14:00",
          "s23-03-02 18:00",
          "s23-03-02 22:00",
          "s23-03-03 02:00",
          "s23-03-03 06:00",
          "s23-03-03 10:00",
          "s23-03-03 14:00",
          "s23-03-03 18:00",
          "s23-03-05 22:00",
          "s23-03-06 02:00",
          "s23-03-06 06:00",
          "s23-03-06 10:00",
          "s23-03-06 14:00",
          "s23-03-06 18:00",
          "s23-03-06 22:00",
          "s23-03-07 02:00",
          "s23-03-07 06:00",
          "s23-03-07 10:00",
          "s23-03-07 14:00",
          "s23-03-07 18:00",
          "s23-03-07 22:00",
          "s23-03-08 02:00",
          "s23-03-08 06:00",
          "s23-03-08 10:00",
          "s23-03-08 14:00",
          "s23-03-08 18:00",
          "s23-03-08 22:00",
          "s23-03-09 02:00",
          "s23-03-09 06:00",
          "s23-03-09 10:00",
          "s23-03-09 14:00",
          "s23-03-09 18:00",
          "s23-03-09 22:00",
          "s23-03-10 02:00",
          "s23-03-10 06:00",
          "s23-03-10 10:00",
          "s23-03-10 14:00",
          "s23-03-10 18:00",
          "s23-03-12 21:00",
          "s23-03-13 01:00",
          "s23-03-13 05:00",
          "s23-03-13 09:00",
          "s23-03-13 13:00",
          "s23-03-13 17:00",
          "s23-03-13 21:00",
          "s23-03-14 01:00",
          "s23-03-14 05:00",
          "s23-03-14 09:00",
          "s23-03-14 13:00",
          "s23-03-14 17:00",
          "s23-03-14 21:00",
          "s23-03-15 01:00",
          "s23-03-15 05:00",
          "s23-03-15 09:00",
          "s23-03-15 13:00",
          "s23-03-15 17:00",
          "s23-03-15 21:00",
          "s23-03-16 01:00",
          "s23-03-16 05:00",
          "s23-03-16 09:00",
          "s23-03-16 13:00",
          "s23-03-16 17:00",
          "s23-03-16 21:00",
          "s23-03-17 01:00",
          "s23-03-17 05:00",
          "s23-03-17 09:00",
          "s23-03-17 13:00",
          "s23-03-17 17:00",
          "s23-03-19 21:00",
          "s23-03-20 01:00",
          "s23-03-20 05:00",
          "s23-03-20 09:00",
          "s23-03-20 13:00",
          "s23-03-20 17:00",
          "s23-03-20 21:00",
          "s23-03-21 01:00",
          "s23-03-21 05:00",
          "s23-03-21 09:00",
          "s23-03-21 13:00",
          "s23-03-21 17:00",
          "s23-03-21 21:00",
          "s23-03-22 01:00",
          "s23-03-22 05:00",
          "s23-03-22 09:00",
          "s23-03-22 13:00",
          "s23-03-22 17:00",
          "s23-03-22 21:00",
          "s23-03-23 01:00",
          "s23-03-23 05:00",
          "s23-03-23 09:00",
          "s23-03-23 13:00",
          "s23-03-23 17:00",
          "s23-03-23 21:00",
          "s23-03-24 01:00",
          "s23-03-24 05:00",
          "s23-03-24 09:00",
          "s23-03-24 13:00",
          "s23-03-24 17:00",
          "s23-03-26 21:00",
          "s23-03-27 01:00",
          "s23-03-27 05:00",
          "s23-03-27 09:00"
         ],
         "y": {
          "bdata": "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",
          "dtype": "f8"
         }
        },
        {
         "line": {
          "shape": "spline",
          "width": 2
         },
         "name": "MA_200",
         "type": "scatter",
         "x": [
          "s22-11-29 06:00",
          "s22-11-29 10:00",
          "s22-11-29 14:00",
          "s22-11-29 18:00",
          "s22-11-29 22:00",
          "s22-11-30 02:00",
          "s22-11-30 06:00",
          "s22-11-30 10:00",
          "s22-11-30 14:00",
          "s22-11-30 18:00",
          "s22-11-30 22:00",
          "s22-12-01 02:00",
          "s22-12-01 06:00",
          "s22-12-01 10:00",
          "s22-12-01 14:00",
          "s22-12-01 18:00",
          "s22-12-01 22:00",
          "s22-12-02 02:00",
          "s22-12-02 06:00",
          "s22-12-02 10:00",
          "s22-12-02 14:00",
          "s22-12-02 18:00",
          "s22-12-04 22:00",
          "s22-12-05 02:00",
          "s22-12-05 06:00",
          "s22-12-05 10:00",
          "s22-12-05 14:00",
          "s22-12-05 18:00",
          "s22-12-05 22:00",
          "s22-12-06 02:00",
          "s22-12-06 06:00",
          "s22-12-06 10:00",
          "s22-12-06 14:00",
          "s22-12-06 18:00",
          "s22-12-06 22:00",
          "s22-12-07 02:00",
          "s22-12-07 06:00",
          "s22-12-07 10:00",
          "s22-12-07 14:00",
          "s22-12-07 18:00",
          "s22-12-07 22:00",
          "s22-12-08 02:00",
          "s22-12-08 06:00",
          "s22-12-08 10:00",
          "s22-12-08 14:00",
          "s22-12-08 18:00",
          "s22-12-08 22:00",
          "s22-12-09 02:00",
          "s22-12-09 06:00",
          "s22-12-09 10:00",
          "s22-12-09 14:00",
          "s22-12-09 18:00",
          "s22-12-11 22:00",
          "s22-12-12 02:00",
          "s22-12-12 06:00",
          "s22-12-12 10:00",
          "s22-12-12 14:00",
          "s22-12-12 18:00",
          "s22-12-12 22:00",
          "s22-12-13 02:00",
          "s22-12-13 06:00",
          "s22-12-13 10:00",
          "s22-12-13 14:00",
          "s22-12-13 18:00",
          "s22-12-13 22:00",
          "s22-12-14 02:00",
          "s22-12-14 06:00",
          "s22-12-14 10:00",
          "s22-12-14 14:00",
          "s22-12-14 18:00",
          "s22-12-14 22:00",
          "s22-12-15 02:00",
          "s22-12-15 06:00",
          "s22-12-15 10:00",
          "s22-12-15 14:00",
          "s22-12-15 18:00",
          "s22-12-15 22:00",
          "s22-12-16 02:00",
          "s22-12-16 06:00",
          "s22-12-16 10:00",
          "s22-12-16 14:00",
          "s22-12-16 18:00",
          "s22-12-18 22:00",
          "s22-12-19 02:00",
          "s22-12-19 06:00",
          "s22-12-19 10:00",
          "s22-12-19 14:00",
          "s22-12-19 18:00",
          "s22-12-19 22:00",
          "s22-12-20 02:00",
          "s22-12-20 06:00",
          "s22-12-20 10:00",
          "s22-12-20 14:00",
          "s22-12-20 18:00",
          "s22-12-20 22:00",
          "s22-12-21 02:00",
          "s22-12-21 06:00",
          "s22-12-21 10:00",
          "s22-12-21 14:00",
          "s22-12-21 18:00",
          "s22-12-21 22:00",
          "s22-12-22 02:00",
          "s22-12-22 06:00",
          "s22-12-22 10:00",
          "s22-12-22 14:00",
          "s22-12-22 18:00",
          "s22-12-22 22:00",
          "s22-12-23 02:00",
          "s22-12-23 06:00",
          "s22-12-23 10:00",
          "s22-12-23 14:00",
          "s22-12-23 18:00",
          "s22-12-26 22:00",
          "s22-12-27 02:00",
          "s22-12-27 06:00",
          "s22-12-27 10:00",
          "s22-12-27 14:00",
          "s22-12-27 18:00",
          "s22-12-27 22:00",
          "s22-12-28 02:00",
          "s22-12-28 06:00",
          "s22-12-28 10:00",
          "s22-12-28 14:00",
          "s22-12-28 18:00",
          "s22-12-28 22:00",
          "s22-12-29 02:00",
          "s22-12-29 06:00",
          "s22-12-29 10:00",
          "s22-12-29 14:00",
          "s22-12-29 18:00",
          "s22-12-29 22:00",
          "s22-12-30 02:00",
          "s22-12-30 06:00",
          "s22-12-30 10:00",
          "s22-12-30 14:00",
          "s22-12-30 18:00",
          "s23-01-01 22:00",
          "s23-01-02 02:00",
          "s23-01-02 06:00",
          "s23-01-02 10:00",
          "s23-01-02 14:00",
          "s23-01-02 18:00",
          "s23-01-02 22:00",
          "s23-01-03 02:00",
          "s23-01-03 06:00",
          "s23-01-03 10:00",
          "s23-01-03 14:00",
          "s23-01-03 18:00",
          "s23-01-03 22:00",
          "s23-01-04 02:00",
          "s23-01-04 06:00",
          "s23-01-04 10:00",
          "s23-01-04 14:00",
          "s23-01-04 18:00",
          "s23-01-04 22:00",
          "s23-01-05 02:00",
          "s23-01-05 06:00",
          "s23-01-05 10:00",
          "s23-01-05 14:00",
          "s23-01-05 18:00",
          "s23-01-05 22:00",
          "s23-01-06 02:00",
          "s23-01-06 06:00",
          "s23-01-06 10:00",
          "s23-01-06 14:00",
          "s23-01-06 18:00",
          "s23-01-08 22:00",
          "s23-01-09 02:00",
          "s23-01-09 06:00",
          "s23-01-09 10:00",
          "s23-01-09 14:00",
          "s23-01-09 18:00",
          "s23-01-09 22:00",
          "s23-01-10 02:00",
          "s23-01-10 06:00",
          "s23-01-10 10:00",
          "s23-01-10 14:00",
          "s23-01-10 18:00",
          "s23-01-10 22:00",
          "s23-01-11 02:00",
          "s23-01-11 06:00",
          "s23-01-11 10:00",
          "s23-01-11 14:00",
          "s23-01-11 18:00",
          "s23-01-11 22:00",
          "s23-01-12 02:00",
          "s23-01-12 06:00",
          "s23-01-12 10:00",
          "s23-01-12 14:00",
          "s23-01-12 18:00",
          "s23-01-12 22:00",
          "s23-01-13 02:00",
          "s23-01-13 06:00",
          "s23-01-13 10:00",
          "s23-01-13 14:00",
          "s23-01-13 18:00",
          "s23-01-15 22:00",
          "s23-01-16 02:00",
          "s23-01-16 06:00",
          "s23-01-16 10:00",
          "s23-01-16 14:00",
          "s23-01-16 18:00",
          "s23-01-16 22:00",
          "s23-01-17 02:00",
          "s23-01-17 06:00",
          "s23-01-17 10:00",
          "s23-01-17 14:00",
          "s23-01-17 18:00",
          "s23-01-17 22:00",
          "s23-01-18 02:00",
          "s23-01-18 06:00",
          "s23-01-18 10:00",
          "s23-01-18 14:00",
          "s23-01-18 18:00",
          "s23-01-18 22:00",
          "s23-01-19 02:00",
          "s23-01-19 06:00",
          "s23-01-19 10:00",
          "s23-01-19 14:00",
          "s23-01-19 18:00",
          "s23-01-19 22:00",
          "s23-01-20 02:00",
          "s23-01-20 06:00",
          "s23-01-20 10:00",
          "s23-01-20 14:00",
          "s23-01-20 18:00",
          "s23-01-22 22:00",
          "s23-01-23 02:00",
          "s23-01-23 06:00",
          "s23-01-23 10:00",
          "s23-01-23 14:00",
          "s23-01-23 18:00",
          "s23-01-23 22:00",
          "s23-01-24 02:00",
          "s23-01-24 06:00",
          "s23-01-24 10:00",
          "s23-01-24 14:00",
          "s23-01-24 18:00",
          "s23-01-24 22:00",
          "s23-01-25 02:00",
          "s23-01-25 06:00",
          "s23-01-25 10:00",
          "s23-01-25 14:00",
          "s23-01-25 18:00",
          "s23-01-25 22:00",
          "s23-01-26 02:00",
          "s23-01-26 06:00",
          "s23-01-26 10:00",
          "s23-01-26 14:00",
          "s23-01-26 18:00",
          "s23-01-26 22:00",
          "s23-01-27 02:00",
          "s23-01-27 06:00",
          "s23-01-27 10:00",
          "s23-01-27 14:00",
          "s23-01-27 18:00",
          "s23-01-29 22:00",
          "s23-01-30 02:00",
          "s23-01-30 06:00",
          "s23-01-30 10:00",
          "s23-01-30 14:00",
          "s23-01-30 18:00",
          "s23-01-30 22:00",
          "s23-01-31 02:00",
          "s23-01-31 06:00",
          "s23-01-31 10:00",
          "s23-01-31 14:00",
          "s23-01-31 18:00",
          "s23-01-31 22:00",
          "s23-02-01 02:00",
          "s23-02-01 06:00",
          "s23-02-01 10:00",
          "s23-02-01 14:00",
          "s23-02-01 18:00",
          "s23-02-01 22:00",
          "s23-02-02 02:00",
          "s23-02-02 06:00",
          "s23-02-02 10:00",
          "s23-02-02 14:00",
          "s23-02-02 18:00",
          "s23-02-02 22:00",
          "s23-02-03 02:00",
          "s23-02-03 06:00",
          "s23-02-03 10:00",
          "s23-02-03 14:00",
          "s23-02-03 18:00",
          "s23-02-05 22:00",
          "s23-02-06 02:00",
          "s23-02-06 06:00",
          "s23-02-06 10:00",
          "s23-02-06 14:00",
          "s23-02-06 18:00",
          "s23-02-06 22:00",
          "s23-02-07 02:00",
          "s23-02-07 06:00",
          "s23-02-07 10:00",
          "s23-02-07 14:00",
          "s23-02-07 18:00",
          "s23-02-07 22:00",
          "s23-02-08 02:00",
          "s23-02-08 06:00",
          "s23-02-08 10:00",
          "s23-02-08 14:00",
          "s23-02-08 18:00",
          "s23-02-08 22:00",
          "s23-02-09 02:00",
          "s23-02-09 06:00",
          "s23-02-09 10:00",
          "s23-02-09 14:00",
          "s23-02-09 18:00",
          "s23-02-09 22:00",
          "s23-02-10 02:00",
          "s23-02-10 06:00",
          "s23-02-10 10:00",
          "s23-02-10 14:00",
          "s23-02-10 18:00",
          "s23-02-12 22:00",
          "s23-02-13 02:00",
          "s23-02-13 06:00",
          "s23-02-13 10:00",
          "s23-02-13 14:00",
          "s23-02-13 18:00",
          "s23-02-13 22:00",
          "s23-02-14 02:00",
          "s23-02-14 06:00",
          "s23-02-14 10:00",
          "s23-02-14 14:00",
          "s23-02-14 18:00",
          "s23-02-14 22:00",
          "s23-02-15 02:00",
          "s23-02-15 06:00",
          "s23-02-15 10:00",
          "s23-02-15 14:00",
          "s23-02-15 18:00",
          "s23-02-15 22:00",
          "s23-02-16 02:00",
          "s23-02-16 06:00",
          "s23-02-16 10:00",
          "s23-02-16 14:00",
          "s23-02-16 18:00",
          "s23-02-16 22:00",
          "s23-02-17 02:00",
          "s23-02-17 06:00",
          "s23-02-17 10:00",
          "s23-02-17 14:00",
          "s23-02-17 18:00",
          "s23-02-19 22:00",
          "s23-02-20 02:00",
          "s23-02-20 06:00",
          "s23-02-20 10:00",
          "s23-02-20 14:00",
          "s23-02-20 18:00",
          "s23-02-20 22:00",
          "s23-02-21 02:00",
          "s23-02-21 06:00",
          "s23-02-21 10:00",
          "s23-02-21 14:00",
          "s23-02-21 18:00",
          "s23-02-21 22:00",
          "s23-02-22 02:00",
          "s23-02-22 06:00",
          "s23-02-22 10:00",
          "s23-02-22 14:00",
          "s23-02-22 18:00",
          "s23-02-22 22:00",
          "s23-02-23 02:00",
          "s23-02-23 06:00",
          "s23-02-23 10:00",
          "s23-02-23 14:00",
          "s23-02-23 18:00",
          "s23-02-23 22:00",
          "s23-02-24 02:00",
          "s23-02-24 06:00",
          "s23-02-24 10:00",
          "s23-02-24 14:00",
          "s23-02-24 18:00",
          "s23-02-26 22:00",
          "s23-02-27 02:00",
          "s23-02-27 06:00",
          "s23-02-27 10:00",
          "s23-02-27 14:00",
          "s23-02-27 18:00",
          "s23-02-27 22:00",
          "s23-02-28 02:00",
          "s23-02-28 06:00",
          "s23-02-28 10:00",
          "s23-02-28 14:00",
          "s23-02-28 18:00",
          "s23-02-28 22:00",
          "s23-03-01 02:00",
          "s23-03-01 06:00",
          "s23-03-01 10:00",
          "s23-03-01 14:00",
          "s23-03-01 18:00",
          "s23-03-01 22:00",
          "s23-03-02 02:00",
          "s23-03-02 06:00",
          "s23-03-02 10:00",
          "s23-03-02 14:00",
          "s23-03-02 18:00",
          "s23-03-02 22:00",
          "s23-03-03 02:00",
          "s23-03-03 06:00",
          "s23-03-03 10:00",
          "s23-03-03 14:00",
          "s23-03-03 18:00",
          "s23-03-05 22:00",
          "s23-03-06 02:00",
          "s23-03-06 06:00",
          "s23-03-06 10:00",
          "s23-03-06 14:00",
          "s23-03-06 18:00",
          "s23-03-06 22:00",
          "s23-03-07 02:00",
          "s23-03-07 06:00",
          "s23-03-07 10:00",
          "s23-03-07 14:00",
          "s23-03-07 18:00",
          "s23-03-07 22:00",
          "s23-03-08 02:00",
          "s23-03-08 06:00",
          "s23-03-08 10:00",
          "s23-03-08 14:00",
          "s23-03-08 18:00",
          "s23-03-08 22:00",
          "s23-03-09 02:00",
          "s23-03-09 06:00",
          "s23-03-09 10:00",
          "s23-03-09 14:00",
          "s23-03-09 18:00",
          "s23-03-09 22:00",
          "s23-03-10 02:00",
          "s23-03-10 06:00",
          "s23-03-10 10:00",
          "s23-03-10 14:00",
          "s23-03-10 18:00",
          "s23-03-12 21:00",
          "s23-03-13 01:00",
          "s23-03-13 05:00",
          "s23-03-13 09:00",
          "s23-03-13 13:00",
          "s23-03-13 17:00",
          "s23-03-13 21:00",
          "s23-03-14 01:00",
          "s23-03-14 05:00",
          "s23-03-14 09:00",
          "s23-03-14 13:00",
          "s23-03-14 17:00",
          "s23-03-14 21:00",
          "s23-03-15 01:00",
          "s23-03-15 05:00",
          "s23-03-15 09:00",
          "s23-03-15 13:00",
          "s23-03-15 17:00",
          "s23-03-15 21:00",
          "s23-03-16 01:00",
          "s23-03-16 05:00",
          "s23-03-16 09:00",
          "s23-03-16 13:00",
          "s23-03-16 17:00",
          "s23-03-16 21:00",
          "s23-03-17 01:00",
          "s23-03-17 05:00",
          "s23-03-17 09:00",
          "s23-03-17 13:00",
          "s23-03-17 17:00",
          "s23-03-19 21:00",
          "s23-03-20 01:00",
          "s23-03-20 05:00",
          "s23-03-20 09:00",
          "s23-03-20 13:00",
          "s23-03-20 17:00",
          "s23-03-20 21:00",
          "s23-03-21 01:00",
          "s23-03-21 05:00",
          "s23-03-21 09:00",
          "s23-03-21 13:00",
          "s23-03-21 17:00",
          "s23-03-21 21:00",
          "s23-03-22 01:00",
          "s23-03-22 05:00",
          "s23-03-22 09:00",
          "s23-03-22 13:00",
          "s23-03-22 17:00",
          "s23-03-22 21:00",
          "s23-03-23 01:00",
          "s23-03-23 05:00",
          "s23-03-23 09:00",
          "s23-03-23 13:00",
          "s23-03-23 17:00",
          "s23-03-23 21:00",
          "s23-03-24 01:00",
          "s23-03-24 05:00",
          "s23-03-24 09:00",
          "s23-03-24 13:00",
          "s23-03-24 17:00",
          "s23-03-26 21:00",
          "s23-03-27 01:00",
          "s23-03-27 05:00",
          "s23-03-27 09:00"
         ],
         "y": {
          "bdata": "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",
          "dtype": "f8"
         }
        }
       ],
       "layout": {
        "font": {
         "color": "#e1e1e1",
         "size": 8
        },
        "height": 900,
        "margin": {
         "b": 10,
         "l": 10,
         "r": 10,
         "t": 10
        },
        "paper_bgcolor": "#2c303c",
        "plot_bgcolor": "#2c303c",
        "template": {
         "data": {
          "bar": [
           {
            "error_x": {
             "color": "#2a3f5f"
            },
            "error_y": {
             "color": "#2a3f5f"
            },
            "marker": {
             "line": {
              "color": "#E5ECF6",
              "width": 0.5
             },
             "pattern": {
              "fillmode": "overlay",
              "size": 10,
              "solidity": 0.2
             }
            },
            "type": "bar"
           }
          ],
          "barpolar": [
           {
            "marker": {
             "line": {
              "color": "#E5ECF6",
              "width": 0.5
             },
             "pattern": {
              "fillmode": "overlay",
              "size": 10,
              "solidity": 0.2
             }
            },
            "type": "barpolar"
           }
          ],
          "carpet": [
           {
            "aaxis": {
             "endlinecolor": "#2a3f5f",
             "gridcolor": "white",
             "linecolor": "white",
             "minorgridcolor": "white",
             "startlinecolor": "#2a3f5f"
            },
            "baxis": {
             "endlinecolor": "#2a3f5f",
             "gridcolor": "white",
             "linecolor": "white",
             "minorgridcolor": "white",
             "startlinecolor": "#2a3f5f"
            },
            "type": "carpet"
           }
          ],
          "choropleth": [
           {
            "colorbar": {
             "outlinewidth": 0,
             "ticks": ""
            },
            "type": "choropleth"
           }
          ],
          "contour": [
           {
            "colorbar": {
             "outlinewidth": 0,
             "ticks": ""
            },
            "colorscale": [
             [
              0,
              "#0d0887"
             ],
             [
              0.1111111111111111,
              "#46039f"
             ],
             [
              0.2222222222222222,
              "#7201a8"
             ],
             [
              0.3333333333333333,
              "#9c179e"
             ],
             [
              0.4444444444444444,
              "#bd3786"
             ],
             [
              0.5555555555555556,
              "#d8576b"
             ],
             [
              0.6666666666666666,
              "#ed7953"
             ],
             [
              0.7777777777777778,
              "#fb9f3a"
             ],
             [
              0.8888888888888888,
              "#fdca26"
             ],
             [
              1,
              "#f0f921"
             ]
            ],
            "type": "contour"
           }
          ],
          "contourcarpet": [
           {
            "colorbar": {
             "outlinewidth": 0,
             "ticks": ""
            },
            "type": "contourcarpet"
           }
          ],
          "heatmap": [
           {
            "colorbar": {
             "outlinewidth": 0,
             "ticks": ""
            },
            "colorscale": [
             [
              0,
              "#0d0887"
             ],
             [
              0.1111111111111111,
              "#46039f"
             ],
             [
              0.2222222222222222,
              "#7201a8"
             ],
             [
              0.3333333333333333,
              "#9c179e"
             ],
             [
              0.4444444444444444,
              "#bd3786"
             ],
             [
              0.5555555555555556,
              "#d8576b"
             ],
             [
              0.6666666666666666,
              "#ed7953"
             ],
             [
              0.7777777777777778,
              "#fb9f3a"
             ],
             [
              0.8888888888888888,
              "#fdca26"
             ],
             [
              1,
              "#f0f921"
             ]
            ],
            "type": "heatmap"
           }
          ],
          "histogram": [
           {
            "marker": {
             "pattern": {
              "fillmode": "overlay",
              "size": 10,
              "solidity": 0.2
             }
            },
            "type": "histogram"
           }
          ],
          "histogram2d": [
           {
            "colorbar": {
             "outlinewidth": 0,
             "ticks": ""
            },
            "colorscale": [
             [
              0,
              "#0d0887"
             ],
             [
              0.1111111111111111,
              "#46039f"
             ],
             [
              0.2222222222222222,
              "#7201a8"
             ],
             [
              0.3333333333333333,
              "#9c179e"
             ],
             [
              0.4444444444444444,
              "#bd3786"
             ],
             [
              0.5555555555555556,
              "#d8576b"
             ],
             [
              0.6666666666666666,
              "#ed7953"
             ],
             [
              0.7777777777777778,
              "#fb9f3a"
             ],
             [
              0.8888888888888888,
              "#fdca26"
             ],
             [
              1,
              "#f0f921"
             ]
            ],
            "type": "histogram2d"
           }
          ],
          "histogram2dcontour": [
           {
            "colorbar": {
             "outlinewidth": 0,
             "ticks": ""
            },
            "colorscale": [
             [
              0,
              "#0d0887"
             ],
             [
              0.1111111111111111,
              "#46039f"
             ],
             [
              0.2222222222222222,
              "#7201a8"
             ],
             [
              0.3333333333333333,
              "#9c179e"
             ],
             [
              0.4444444444444444,
              "#bd3786"
             ],
             [
              0.5555555555555556,
              "#d8576b"
             ],
             [
              0.6666666666666666,
              "#ed7953"
             ],
             [
              0.7777777777777778,
              "#fb9f3a"
             ],
             [
              0.8888888888888888,
              "#fdca26"
             ],
             [
              1,
              "#f0f921"
             ]
            ],
            "type": "histogram2dcontour"
           }
          ],
          "mesh3d": [
           {
            "colorbar": {
             "outlinewidth": 0,
             "ticks": ""
            },
            "type": "mesh3d"
           }
          ],
          "parcoords": [
           {
            "line": {
             "colorbar": {
              "outlinewidth": 0,
              "ticks": ""
             }
            },
            "type": "parcoords"
           }
          ],
          "pie": [
           {
            "automargin": true,
            "type": "pie"
           }
          ],
          "scatter": [
           {
            "fillpattern": {
             "fillmode": "overlay",
             "size": 10,
             "solidity": 0.2
            },
            "type": "scatter"
           }
          ],
          "scatter3d": [
           {
            "line": {
             "colorbar": {
              "outlinewidth": 0,
              "ticks": ""
             }
            },
            "marker": {
             "colorbar": {
              "outlinewidth": 0,
              "ticks": ""
             }
            },
            "type": "scatter3d"
           }
          ],
          "scattercarpet": [
           {
            "marker": {
             "colorbar": {
              "outlinewidth": 0,
              "ticks": ""
             }
            },
            "type": "scattercarpet"
           }
          ],
          "scattergeo": [
           {
            "marker": {
             "colorbar": {
              "outlinewidth": 0,
              "ticks": ""
             }
            },
            "type": "scattergeo"
           }
          ],
          "scattergl": [
           {
            "marker": {
             "colorbar": {
              "outlinewidth": 0,
              "ticks": ""
             }
            },
            "type": "scattergl"
           }
          ],
          "scattermap": [
           {
            "marker": {
             "colorbar": {
              "outlinewidth": 0,
              "ticks": ""
             }
            },
            "type": "scattermap"
           }
          ],
          "scattermapbox": [
           {
            "marker": {
             "colorbar": {
              "outlinewidth": 0,
              "ticks": ""
             }
            },
            "type": "scattermapbox"
           }
          ],
          "scatterpolar": [
           {
            "marker": {
             "colorbar": {
              "outlinewidth": 0,
              "ticks": ""
             }
            },
            "type": "scatterpolar"
           }
          ],
          "scatterpolargl": [
           {
            "marker": {
             "colorbar": {
              "outlinewidth": 0,
              "ticks": ""
             }
            },
            "type": "scatterpolargl"
           }
          ],
          "scatterternary": [
           {
            "marker": {
             "colorbar": {
              "outlinewidth": 0,
              "ticks": ""
             }
            },
            "type": "scatterternary"
           }
          ],
          "surface": [
           {
            "colorbar": {
             "outlinewidth": 0,
             "ticks": ""
            },
            "colorscale": [
             [
              0,
              "#0d0887"
             ],
             [
              0.1111111111111111,
              "#46039f"
             ],
             [
              0.2222222222222222,
              "#7201a8"
             ],
             [
              0.3333333333333333,
              "#9c179e"
             ],
             [
              0.4444444444444444,
              "#bd3786"
             ],
             [
              0.5555555555555556,
              "#d8576b"
             ],
             [
              0.6666666666666666,
              "#ed7953"
             ],
             [
              0.7777777777777778,
              "#fb9f3a"
             ],
             [
              0.8888888888888888,
              "#fdca26"
             ],
             [
              1,
              "#f0f921"
             ]
            ],
            "type": "surface"
           }
          ],
          "table": [
           {
            "cells": {
             "fill": {
              "color": "#EBF0F8"
             },
             "line": {
              "color": "white"
             }
            },
            "header": {
             "fill": {
              "color": "#C8D4E3"
             },
             "line": {
              "color": "white"
             }
            },
            "type": "table"
           }
          ]
         },
         "layout": {
          "annotationdefaults": {
           "arrowcolor": "#2a3f5f",
           "arrowhead": 0,
           "arrowwidth": 1
          },
          "autotypenumbers": "strict",
          "coloraxis": {
           "colorbar": {
            "outlinewidth": 0,
            "ticks": ""
           }
          },
          "colorscale": {
           "diverging": [
            [
             0,
             "#8e0152"
            ],
            [
             0.1,
             "#c51b7d"
            ],
            [
             0.2,
             "#de77ae"
            ],
            [
             0.3,
             "#f1b6da"
            ],
            [
             0.4,
             "#fde0ef"
            ],
            [
             0.5,
             "#f7f7f7"
            ],
            [
             0.6,
             "#e6f5d0"
            ],
            [
             0.7,
             "#b8e186"
            ],
            [
             0.8,
             "#7fbc41"
            ],
            [
             0.9,
             "#4d9221"
            ],
            [
             1,
             "#276419"
            ]
           ],
           "sequential": [
            [
             0,
             "#0d0887"
            ],
            [
             0.1111111111111111,
             "#46039f"
            ],
            [
             0.2222222222222222,
             "#7201a8"
            ],
            [
             0.3333333333333333,
             "#9c179e"
            ],
            [
             0.4444444444444444,
             "#bd3786"
            ],
            [
             0.5555555555555556,
             "#d8576b"
            ],
            [
             0.6666666666666666,
             "#ed7953"
            ],
            [
             0.7777777777777778,
             "#fb9f3a"
            ],
            [
             0.8888888888888888,
             "#fdca26"
            ],
            [
             1,
             "#f0f921"
            ]
           ],
           "sequentialminus": [
            [
             0,
             "#0d0887"
            ],
            [
             0.1111111111111111,
             "#46039f"
            ],
            [
             0.2222222222222222,
             "#7201a8"
            ],
            [
             0.3333333333333333,
             "#9c179e"
            ],
            [
             0.4444444444444444,
             "#bd3786"
            ],
            [
             0.5555555555555556,
             "#d8576b"
            ],
            [
             0.6666666666666666,
             "#ed7953"
            ],
            [
             0.7777777777777778,
             "#fb9f3a"
            ],
            [
             0.8888888888888888,
             "#fdca26"
            ],
            [
             1,
             "#f0f921"
            ]
           ]
          },
          "colorway": [
           "#636efa",
           "#EF553B",
           "#00cc96",
           "#ab63fa",
           "#FFA15A",
           "#19d3f3",
           "#FF6692",
           "#B6E880",
           "#FF97FF",
           "#FECB52"
          ],
          "font": {
           "color": "#2a3f5f"
          },
          "geo": {
           "bgcolor": "white",
           "lakecolor": "white",
           "landcolor": "#E5ECF6",
           "showlakes": true,
           "showland": true,
           "subunitcolor": "white"
          },
          "hoverlabel": {
           "align": "left"
          },
          "hovermode": "closest",
          "mapbox": {
           "style": "light"
          },
          "paper_bgcolor": "white",
          "plot_bgcolor": "#E5ECF6",
          "polar": {
           "angularaxis": {
            "gridcolor": "white",
            "linecolor": "white",
            "ticks": ""
           },
           "bgcolor": "#E5ECF6",
           "radialaxis": {
            "gridcolor": "white",
            "linecolor": "white",
            "ticks": ""
           }
          },
          "scene": {
           "xaxis": {
            "backgroundcolor": "#E5ECF6",
            "gridcolor": "white",
            "gridwidth": 2,
            "linecolor": "white",
            "showbackground": true,
            "ticks": "",
            "zerolinecolor": "white"
           },
           "yaxis": {
            "backgroundcolor": "#E5ECF6",
            "gridcolor": "white",
            "gridwidth": 2,
            "linecolor": "white",
            "showbackground": true,
            "ticks": "",
            "zerolinecolor": "white"
           },
           "zaxis": {
            "backgroundcolor": "#E5ECF6",
            "gridcolor": "white",
            "gridwidth": 2,
            "linecolor": "white",
            "showbackground": true,
            "ticks": "",
            "zerolinecolor": "white"
           }
          },
          "shapedefaults": {
           "line": {
            "color": "#2a3f5f"
           }
          },
          "ternary": {
           "aaxis": {
            "gridcolor": "white",
            "linecolor": "white",
            "ticks": ""
           },
           "baxis": {
            "gridcolor": "white",
            "linecolor": "white",
            "ticks": ""
           },
           "bgcolor": "#E5ECF6",
           "caxis": {
            "gridcolor": "white",
            "linecolor": "white",
            "ticks": ""
           }
          },
          "title": {
           "x": 0.05
          },
          "xaxis": {
           "automargin": true,
           "gridcolor": "white",
           "linecolor": "white",
           "ticks": "",
           "title": {
            "standoff": 15
           },
           "zerolinecolor": "white",
           "zerolinewidth": 2
          },
          "yaxis": {
           "automargin": true,
           "gridcolor": "white",
           "linecolor": "white",
           "ticks": "",
           "title": {
            "standoff": 15
           },
           "zerolinecolor": "white",
           "zerolinewidth": 2
          }
         }
        },
        "width": 900,
        "xaxis": {
         "gridcolor": "#1f292f",
         "nticks": 5,
         "rangeslider": {
          "visible": false
         }
        },
        "yaxis": {
         "gridcolor": "#1f292f"
        }
       }
      }
     },
     "metadata": {},
     "output_type": "display_data"
    }
   ],
   "source": [
    "traces = [f\"MA_{x}\" for x in MA_LIST]\n",
    "cp.show_plot(line_traces=traces)"
   ]
  },
  {
   "cell_type": "code",
   "execution_count": 65,
   "id": "7d2f57d5",
   "metadata": {},
   "outputs": [],
   "source": [
    "MA_S = \"MA_50\"\n",
    "MA_L = \"MA_200\"\n",
    "BUY = 1 \n",
    "SELL = -1 \n",
    "NONE = 0"
   ]
  },
  {
   "cell_type": "code",
   "execution_count": 66,
   "id": "2f1b746f",
   "metadata": {},
   "outputs": [],
   "source": [
    "df_an = df_ma[[\"time\", \"mid_o\", \"mid_h\", \"mid_l\", \"mid_c\", MA_S, MA_L]].copy()"
   ]
  },
  {
   "cell_type": "code",
   "execution_count": 67,
   "id": "83e4b2fc",
   "metadata": {},
   "outputs": [
    {
     "data": {
      "text/html": [
       "<div>\n",
       "<style scoped>\n",
       "    .dataframe tbody tr th:only-of-type {\n",
       "        vertical-align: middle;\n",
       "    }\n",
       "\n",
       "    .dataframe tbody tr th {\n",
       "        vertical-align: top;\n",
       "    }\n",
       "\n",
       "    .dataframe thead th {\n",
       "        text-align: right;\n",
       "    }\n",
       "</style>\n",
       "<table border=\"1\" class=\"dataframe\">\n",
       "  <thead>\n",
       "    <tr style=\"text-align: right;\">\n",
       "      <th></th>\n",
       "      <th>time</th>\n",
       "      <th>mid_o</th>\n",
       "      <th>mid_h</th>\n",
       "      <th>mid_l</th>\n",
       "      <th>mid_c</th>\n",
       "      <th>MA_50</th>\n",
       "      <th>MA_200</th>\n",
       "    </tr>\n",
       "  </thead>\n",
       "  <tbody>\n",
       "    <tr>\n",
       "      <th>0</th>\n",
       "      <td>2022-11-29 06:00:00+00:00</td>\n",
       "      <td>0.94633</td>\n",
       "      <td>0.95247</td>\n",
       "      <td>0.94626</td>\n",
       "      <td>0.95185</td>\n",
       "      <td>0.949444</td>\n",
       "      <td>0.978628</td>\n",
       "    </tr>\n",
       "    <tr>\n",
       "      <th>1</th>\n",
       "      <td>2022-11-29 10:00:00+00:00</td>\n",
       "      <td>0.95182</td>\n",
       "      <td>0.95396</td>\n",
       "      <td>0.94844</td>\n",
       "      <td>0.95272</td>\n",
       "      <td>0.949590</td>\n",
       "      <td>0.978403</td>\n",
       "    </tr>\n",
       "    <tr>\n",
       "      <th>2</th>\n",
       "      <td>2022-11-29 14:00:00+00:00</td>\n",
       "      <td>0.95270</td>\n",
       "      <td>0.95458</td>\n",
       "      <td>0.95011</td>\n",
       "      <td>0.95228</td>\n",
       "      <td>0.949688</td>\n",
       "      <td>0.978172</td>\n",
       "    </tr>\n",
       "    <tr>\n",
       "      <th>3</th>\n",
       "      <td>2022-11-29 18:00:00+00:00</td>\n",
       "      <td>0.95230</td>\n",
       "      <td>0.95452</td>\n",
       "      <td>0.95222</td>\n",
       "      <td>0.95391</td>\n",
       "      <td>0.949724</td>\n",
       "      <td>0.977918</td>\n",
       "    </tr>\n",
       "    <tr>\n",
       "      <th>4</th>\n",
       "      <td>2022-11-29 22:00:00+00:00</td>\n",
       "      <td>0.95200</td>\n",
       "      <td>0.95472</td>\n",
       "      <td>0.95200</td>\n",
       "      <td>0.95284</td>\n",
       "      <td>0.949725</td>\n",
       "      <td>0.977683</td>\n",
       "    </tr>\n",
       "  </tbody>\n",
       "</table>\n",
       "</div>"
      ],
      "text/plain": [
       "                       time    mid_o    mid_h    mid_l    mid_c     MA_50  \\\n",
       "0 2022-11-29 06:00:00+00:00  0.94633  0.95247  0.94626  0.95185  0.949444   \n",
       "1 2022-11-29 10:00:00+00:00  0.95182  0.95396  0.94844  0.95272  0.949590   \n",
       "2 2022-11-29 14:00:00+00:00  0.95270  0.95458  0.95011  0.95228  0.949688   \n",
       "3 2022-11-29 18:00:00+00:00  0.95230  0.95452  0.95222  0.95391  0.949724   \n",
       "4 2022-11-29 22:00:00+00:00  0.95200  0.95472  0.95200  0.95284  0.949725   \n",
       "\n",
       "     MA_200  \n",
       "0  0.978628  \n",
       "1  0.978403  \n",
       "2  0.978172  \n",
       "3  0.977918  \n",
       "4  0.977683  "
      ]
     },
     "execution_count": 67,
     "metadata": {},
     "output_type": "execute_result"
    }
   ],
   "source": [
    "df_an.head()"
   ]
  },
  {
   "cell_type": "code",
   "execution_count": 68,
   "id": "656e156c",
   "metadata": {},
   "outputs": [],
   "source": [
    "df_an[\"DELTA\"] = df_an.MA_50 - df_an.MA_200\n",
    "df_an[\"DELTA_PREV\"] = df_an.DELTA.shift(1)"
   ]
  },
  {
   "cell_type": "code",
   "execution_count": 69,
   "id": "b96db1d2",
   "metadata": {},
   "outputs": [],
   "source": [
    "def is_trade(row):\n",
    "    if row.DELTA >= 0 and row.DELTA_PREV < 0:\n",
    "        return BUY\n",
    "    elif row.DELTA < 0 and row.DELTA_PREV >= 0:\n",
    "        return SELL\n",
    "    return NONE\n",
    "    "
   ]
  },
  {
   "cell_type": "code",
   "execution_count": 70,
   "id": "3b138551",
   "metadata": {},
   "outputs": [],
   "source": [
    "df_an[\"TRADE\"] = df_an.apply(is_trade, axis=1)"
   ]
  },
  {
   "cell_type": "code",
   "execution_count": 71,
   "id": "50d443cd",
   "metadata": {},
   "outputs": [],
   "source": [
    "df_trades = df_an[df_an.TRADE != NONE].copy()"
   ]
  },
  {
   "cell_type": "code",
   "execution_count": 72,
   "id": "27d08057",
   "metadata": {},
   "outputs": [
    {
     "data": {
      "text/html": [
       "<div>\n",
       "<style scoped>\n",
       "    .dataframe tbody tr th:only-of-type {\n",
       "        vertical-align: middle;\n",
       "    }\n",
       "\n",
       "    .dataframe tbody tr th {\n",
       "        vertical-align: top;\n",
       "    }\n",
       "\n",
       "    .dataframe thead th {\n",
       "        text-align: right;\n",
       "    }\n",
       "</style>\n",
       "<table border=\"1\" class=\"dataframe\">\n",
       "  <thead>\n",
       "    <tr style=\"text-align: right;\">\n",
       "      <th></th>\n",
       "      <th>time</th>\n",
       "      <th>mid_o</th>\n",
       "      <th>mid_h</th>\n",
       "      <th>mid_l</th>\n",
       "      <th>mid_c</th>\n",
       "      <th>MA_50</th>\n",
       "      <th>MA_200</th>\n",
       "      <th>DELTA</th>\n",
       "      <th>DELTA_PREV</th>\n",
       "      <th>TRADE</th>\n",
       "    </tr>\n",
       "  </thead>\n",
       "  <tbody>\n",
       "    <tr>\n",
       "      <th>349</th>\n",
       "      <td>2023-02-20 10:00:00+00:00</td>\n",
       "      <td>0.92380</td>\n",
       "      <td>0.92452</td>\n",
       "      <td>0.92226</td>\n",
       "      <td>0.92408</td>\n",
       "      <td>0.922784</td>\n",
       "      <td>0.922704</td>\n",
       "      <td>0.000080</td>\n",
       "      <td>-0.000016</td>\n",
       "      <td>1</td>\n",
       "    </tr>\n",
       "    <tr>\n",
       "      <th>464</th>\n",
       "      <td>2023-03-17 13:00:00+00:00</td>\n",
       "      <td>0.92792</td>\n",
       "      <td>0.92934</td>\n",
       "      <td>0.92638</td>\n",
       "      <td>0.92866</td>\n",
       "      <td>0.927109</td>\n",
       "      <td>0.927126</td>\n",
       "      <td>-0.000018</td>\n",
       "      <td>0.000073</td>\n",
       "      <td>-1</td>\n",
       "    </tr>\n",
       "    <tr>\n",
       "      <th>733</th>\n",
       "      <td>2023-05-19 09:00:00+00:00</td>\n",
       "      <td>0.90298</td>\n",
       "      <td>0.90366</td>\n",
       "      <td>0.90040</td>\n",
       "      <td>0.90188</td>\n",
       "      <td>0.895849</td>\n",
       "      <td>0.895780</td>\n",
       "      <td>0.000069</td>\n",
       "      <td>-0.000231</td>\n",
       "      <td>1</td>\n",
       "    </tr>\n",
       "    <tr>\n",
       "      <th>865</th>\n",
       "      <td>2023-06-20 09:00:00+00:00</td>\n",
       "      <td>0.89690</td>\n",
       "      <td>0.89840</td>\n",
       "      <td>0.89641</td>\n",
       "      <td>0.89750</td>\n",
       "      <td>0.900077</td>\n",
       "      <td>0.900154</td>\n",
       "      <td>-0.000077</td>\n",
       "      <td>0.000232</td>\n",
       "      <td>-1</td>\n",
       "    </tr>\n",
       "    <tr>\n",
       "      <th>1107</th>\n",
       "      <td>2023-08-15 17:00:00+00:00</td>\n",
       "      <td>0.87834</td>\n",
       "      <td>0.87890</td>\n",
       "      <td>0.87724</td>\n",
       "      <td>0.87849</td>\n",
       "      <td>0.875709</td>\n",
       "      <td>0.875557</td>\n",
       "      <td>0.000153</td>\n",
       "      <td>-0.000013</td>\n",
       "      <td>1</td>\n",
       "    </tr>\n",
       "  </tbody>\n",
       "</table>\n",
       "</div>"
      ],
      "text/plain": [
       "                          time    mid_o    mid_h    mid_l    mid_c     MA_50  \\\n",
       "349  2023-02-20 10:00:00+00:00  0.92380  0.92452  0.92226  0.92408  0.922784   \n",
       "464  2023-03-17 13:00:00+00:00  0.92792  0.92934  0.92638  0.92866  0.927109   \n",
       "733  2023-05-19 09:00:00+00:00  0.90298  0.90366  0.90040  0.90188  0.895849   \n",
       "865  2023-06-20 09:00:00+00:00  0.89690  0.89840  0.89641  0.89750  0.900077   \n",
       "1107 2023-08-15 17:00:00+00:00  0.87834  0.87890  0.87724  0.87849  0.875709   \n",
       "\n",
       "        MA_200     DELTA  DELTA_PREV  TRADE  \n",
       "349   0.922704  0.000080   -0.000016      1  \n",
       "464   0.927126 -0.000018    0.000073     -1  \n",
       "733   0.895780  0.000069   -0.000231      1  \n",
       "865   0.900154 -0.000077    0.000232     -1  \n",
       "1107  0.875557  0.000153   -0.000013      1  "
      ]
     },
     "execution_count": 72,
     "metadata": {},
     "output_type": "execute_result"
    }
   ],
   "source": [
    "df_trades.head()"
   ]
  },
  {
   "cell_type": "code",
   "execution_count": 83,
   "id": "cd822e7c",
   "metadata": {},
   "outputs": [
    {
     "ename": "SyntaxError",
     "evalue": "invalid syntax. Perhaps you forgot a comma? (2429351855.py, line 1)",
     "output_type": "error",
     "traceback": [
      "  \u001b[36mCell\u001b[39m\u001b[36m \u001b[39m\u001b[32mIn[83]\u001b[39m\u001b[32m, line 1\u001b[39m\n\u001b[31m    \u001b[39m\u001b[31mcp = CandlePlot(df_an.iloc[])\u001b[39m\n                    ^\n\u001b[31mSyntaxError\u001b[39m\u001b[31m:\u001b[39m invalid syntax. Perhaps you forgot a comma?\n"
     ]
    }
   ],
   "source": [
    "cp = CandlePlot(df_an.iloc[])\n",
    "cp.show_plot(line_traces=[MA_S, MA_L])"
   ]
  },
  {
   "cell_type": "code",
   "execution_count": 84,
   "id": "3c90b48a",
   "metadata": {},
   "outputs": [],
   "source": [
    "ic.load_instruments(\"../data\")"
   ]
  },
  {
   "cell_type": "code",
   "execution_count": 85,
   "id": "232b9236",
   "metadata": {},
   "outputs": [
    {
     "data": {
      "text/plain": [
       "{'name': 'USD_CHF', 'ins_type': 'CURRENCY', 'displayName': 'USD/CHF', 'pipLocation': 0.0001, 'tradeUnitsPercision': 0, 'marginRate': 0.03}"
      ]
     },
     "execution_count": 85,
     "metadata": {},
     "output_type": "execute_result"
    }
   ],
   "source": [
    "ic.instruments_dict[pair]"
   ]
  },
  {
   "cell_type": "code",
   "execution_count": 86,
   "id": "b3f6f429",
   "metadata": {},
   "outputs": [],
   "source": [
    "ins_data = ic.instruments_dict[pair]"
   ]
  },
  {
   "cell_type": "code",
   "execution_count": 87,
   "id": "90346bac",
   "metadata": {},
   "outputs": [
    {
     "data": {
      "text/html": [
       "<div>\n",
       "<style scoped>\n",
       "    .dataframe tbody tr th:only-of-type {\n",
       "        vertical-align: middle;\n",
       "    }\n",
       "\n",
       "    .dataframe tbody tr th {\n",
       "        vertical-align: top;\n",
       "    }\n",
       "\n",
       "    .dataframe thead th {\n",
       "        text-align: right;\n",
       "    }\n",
       "</style>\n",
       "<table border=\"1\" class=\"dataframe\">\n",
       "  <thead>\n",
       "    <tr style=\"text-align: right;\">\n",
       "      <th></th>\n",
       "      <th>time</th>\n",
       "      <th>mid_o</th>\n",
       "      <th>mid_h</th>\n",
       "      <th>mid_l</th>\n",
       "      <th>mid_c</th>\n",
       "      <th>MA_50</th>\n",
       "      <th>MA_200</th>\n",
       "      <th>DELTA</th>\n",
       "      <th>DELTA_PREV</th>\n",
       "      <th>TRADE</th>\n",
       "      <th>DIFF</th>\n",
       "      <th>GAIN</th>\n",
       "      <th>GAIN_C</th>\n",
       "    </tr>\n",
       "  </thead>\n",
       "  <tbody>\n",
       "    <tr>\n",
       "      <th>349</th>\n",
       "      <td>2023-02-20 10:00:00+00:00</td>\n",
       "      <td>0.92380</td>\n",
       "      <td>0.92452</td>\n",
       "      <td>0.92226</td>\n",
       "      <td>0.92408</td>\n",
       "      <td>0.922784</td>\n",
       "      <td>0.922704</td>\n",
       "      <td>0.000080</td>\n",
       "      <td>-0.000016</td>\n",
       "      <td>1</td>\n",
       "      <td>0.00458</td>\n",
       "      <td>45.8</td>\n",
       "      <td>45.8</td>\n",
       "    </tr>\n",
       "    <tr>\n",
       "      <th>464</th>\n",
       "      <td>2023-03-17 13:00:00+00:00</td>\n",
       "      <td>0.92792</td>\n",
       "      <td>0.92934</td>\n",
       "      <td>0.92638</td>\n",
       "      <td>0.92866</td>\n",
       "      <td>0.927109</td>\n",
       "      <td>0.927126</td>\n",
       "      <td>-0.000018</td>\n",
       "      <td>0.000073</td>\n",
       "      <td>-1</td>\n",
       "      <td>-0.02678</td>\n",
       "      <td>267.8</td>\n",
       "      <td>313.6</td>\n",
       "    </tr>\n",
       "    <tr>\n",
       "      <th>733</th>\n",
       "      <td>2023-05-19 09:00:00+00:00</td>\n",
       "      <td>0.90298</td>\n",
       "      <td>0.90366</td>\n",
       "      <td>0.90040</td>\n",
       "      <td>0.90188</td>\n",
       "      <td>0.895849</td>\n",
       "      <td>0.895780</td>\n",
       "      <td>0.000069</td>\n",
       "      <td>-0.000231</td>\n",
       "      <td>1</td>\n",
       "      <td>-0.00438</td>\n",
       "      <td>-43.8</td>\n",
       "      <td>269.8</td>\n",
       "    </tr>\n",
       "    <tr>\n",
       "      <th>865</th>\n",
       "      <td>2023-06-20 09:00:00+00:00</td>\n",
       "      <td>0.89690</td>\n",
       "      <td>0.89840</td>\n",
       "      <td>0.89641</td>\n",
       "      <td>0.89750</td>\n",
       "      <td>0.900077</td>\n",
       "      <td>0.900154</td>\n",
       "      <td>-0.000077</td>\n",
       "      <td>0.000232</td>\n",
       "      <td>-1</td>\n",
       "      <td>-0.01901</td>\n",
       "      <td>190.1</td>\n",
       "      <td>459.9</td>\n",
       "    </tr>\n",
       "    <tr>\n",
       "      <th>1107</th>\n",
       "      <td>2023-08-15 17:00:00+00:00</td>\n",
       "      <td>0.87834</td>\n",
       "      <td>0.87890</td>\n",
       "      <td>0.87724</td>\n",
       "      <td>0.87849</td>\n",
       "      <td>0.875709</td>\n",
       "      <td>0.875557</td>\n",
       "      <td>0.000153</td>\n",
       "      <td>-0.000013</td>\n",
       "      <td>1</td>\n",
       "      <td>0.01798</td>\n",
       "      <td>179.8</td>\n",
       "      <td>639.7</td>\n",
       "    </tr>\n",
       "  </tbody>\n",
       "</table>\n",
       "</div>"
      ],
      "text/plain": [
       "                          time    mid_o    mid_h    mid_l    mid_c     MA_50  \\\n",
       "349  2023-02-20 10:00:00+00:00  0.92380  0.92452  0.92226  0.92408  0.922784   \n",
       "464  2023-03-17 13:00:00+00:00  0.92792  0.92934  0.92638  0.92866  0.927109   \n",
       "733  2023-05-19 09:00:00+00:00  0.90298  0.90366  0.90040  0.90188  0.895849   \n",
       "865  2023-06-20 09:00:00+00:00  0.89690  0.89840  0.89641  0.89750  0.900077   \n",
       "1107 2023-08-15 17:00:00+00:00  0.87834  0.87890  0.87724  0.87849  0.875709   \n",
       "\n",
       "        MA_200     DELTA  DELTA_PREV  TRADE     DIFF   GAIN  GAIN_C  \n",
       "349   0.922704  0.000080   -0.000016      1  0.00458   45.8    45.8  \n",
       "464   0.927126 -0.000018    0.000073     -1 -0.02678  267.8   313.6  \n",
       "733   0.895780  0.000069   -0.000231      1 -0.00438  -43.8   269.8  \n",
       "865   0.900154 -0.000077    0.000232     -1 -0.01901  190.1   459.9  \n",
       "1107  0.875557  0.000153   -0.000013      1  0.01798  179.8   639.7  "
      ]
     },
     "execution_count": 87,
     "metadata": {},
     "output_type": "execute_result"
    }
   ],
   "source": [
    "df_trades.head()"
   ]
  },
  {
   "cell_type": "code",
   "execution_count": 88,
   "id": "075ca474",
   "metadata": {},
   "outputs": [],
   "source": [
    "df_trades[\"DIFF\"] = df_trades.mid_c.diff().shift(-1)\n",
    "df_trades.fillna(0, inplace=True)"
   ]
  },
  {
   "cell_type": "code",
   "execution_count": 89,
   "id": "14674c67",
   "metadata": {},
   "outputs": [],
   "source": [
    "df_trades[\"GAIN\"] = df_trades[\"DIFF\"] / ins_data.pipLocation\n",
    "df_trades[\"GAIN\"] = df_trades[\"GAIN\"] * df_trades[\"TRADE\"]"
   ]
  },
  {
   "cell_type": "code",
   "execution_count": 90,
   "id": "5d21affe",
   "metadata": {},
   "outputs": [
    {
     "data": {
      "text/plain": [
       "np.float64(1632.199999999999)"
      ]
     },
     "execution_count": 90,
     "metadata": {},
     "output_type": "execute_result"
    }
   ],
   "source": [
    "df_trades.GAIN.sum()"
   ]
  },
  {
   "cell_type": "code",
   "execution_count": 91,
   "id": "5a5652ea",
   "metadata": {},
   "outputs": [],
   "source": [
    "df_trades[\"GAIN_C\"] = df_trades[\"GAIN\"].cumsum()"
   ]
  },
  {
   "cell_type": "code",
   "execution_count": 92,
   "id": "e9c5ee99",
   "metadata": {},
   "outputs": [
    {
     "data": {
      "application/vnd.plotly.v1+json": {
       "config": {
        "plotlyServerURL": "https://plot.ly"
       },
       "data": [
        {
         "line": {
          "shape": "spline",
          "width": 2
         },
         "name": "GAIN_C",
         "type": "scatter",
         "x": [
          "s23-02-20 10:00",
          "s23-03-17 13:00",
          "s23-05-19 09:00",
          "s23-06-20 09:00",
          "s23-08-15 17:00",
          "s23-10-19 09:00",
          "s24-01-23 02:00",
          "s24-05-13 09:00",
          "s24-05-27 21:00",
          "s24-06-03 21:00",
          "s24-07-05 01:00",
          "s24-07-18 01:00",
          "s24-10-06 21:00",
          "s25-02-13 18:00"
         ],
         "y": {
          "bdata": "jmZmZmbmRkCjmZmZmZlzQM3MzMzM3HBAYmZmZma+fECXmZmZmf2DQC4zMzMzm41AlJmZmZkHlUAsMzMzM9+TQGFmZmZmGpFAMDMzMzOXkED5/////9eMQC4zMzMzhZJAyMzMzMyAmUDIzMzMzICZQA==",
          "dtype": "f8"
         }
        }
       ],
       "layout": {
        "font": {
         "color": "#e1e1e1",
         "size": 8
        },
        "height": 900,
        "margin": {
         "b": 10,
         "l": 10,
         "r": 10,
         "t": 10
        },
        "paper_bgcolor": "#2c303c",
        "plot_bgcolor": "#2c303c",
        "template": {
         "data": {
          "bar": [
           {
            "error_x": {
             "color": "#2a3f5f"
            },
            "error_y": {
             "color": "#2a3f5f"
            },
            "marker": {
             "line": {
              "color": "#E5ECF6",
              "width": 0.5
             },
             "pattern": {
              "fillmode": "overlay",
              "size": 10,
              "solidity": 0.2
             }
            },
            "type": "bar"
           }
          ],
          "barpolar": [
           {
            "marker": {
             "line": {
              "color": "#E5ECF6",
              "width": 0.5
             },
             "pattern": {
              "fillmode": "overlay",
              "size": 10,
              "solidity": 0.2
             }
            },
            "type": "barpolar"
           }
          ],
          "carpet": [
           {
            "aaxis": {
             "endlinecolor": "#2a3f5f",
             "gridcolor": "white",
             "linecolor": "white",
             "minorgridcolor": "white",
             "startlinecolor": "#2a3f5f"
            },
            "baxis": {
             "endlinecolor": "#2a3f5f",
             "gridcolor": "white",
             "linecolor": "white",
             "minorgridcolor": "white",
             "startlinecolor": "#2a3f5f"
            },
            "type": "carpet"
           }
          ],
          "choropleth": [
           {
            "colorbar": {
             "outlinewidth": 0,
             "ticks": ""
            },
            "type": "choropleth"
           }
          ],
          "contour": [
           {
            "colorbar": {
             "outlinewidth": 0,
             "ticks": ""
            },
            "colorscale": [
             [
              0,
              "#0d0887"
             ],
             [
              0.1111111111111111,
              "#46039f"
             ],
             [
              0.2222222222222222,
              "#7201a8"
             ],
             [
              0.3333333333333333,
              "#9c179e"
             ],
             [
              0.4444444444444444,
              "#bd3786"
             ],
             [
              0.5555555555555556,
              "#d8576b"
             ],
             [
              0.6666666666666666,
              "#ed7953"
             ],
             [
              0.7777777777777778,
              "#fb9f3a"
             ],
             [
              0.8888888888888888,
              "#fdca26"
             ],
             [
              1,
              "#f0f921"
             ]
            ],
            "type": "contour"
           }
          ],
          "contourcarpet": [
           {
            "colorbar": {
             "outlinewidth": 0,
             "ticks": ""
            },
            "type": "contourcarpet"
           }
          ],
          "heatmap": [
           {
            "colorbar": {
             "outlinewidth": 0,
             "ticks": ""
            },
            "colorscale": [
             [
              0,
              "#0d0887"
             ],
             [
              0.1111111111111111,
              "#46039f"
             ],
             [
              0.2222222222222222,
              "#7201a8"
             ],
             [
              0.3333333333333333,
              "#9c179e"
             ],
             [
              0.4444444444444444,
              "#bd3786"
             ],
             [
              0.5555555555555556,
              "#d8576b"
             ],
             [
              0.6666666666666666,
              "#ed7953"
             ],
             [
              0.7777777777777778,
              "#fb9f3a"
             ],
             [
              0.8888888888888888,
              "#fdca26"
             ],
             [
              1,
              "#f0f921"
             ]
            ],
            "type": "heatmap"
           }
          ],
          "histogram": [
           {
            "marker": {
             "pattern": {
              "fillmode": "overlay",
              "size": 10,
              "solidity": 0.2
             }
            },
            "type": "histogram"
           }
          ],
          "histogram2d": [
           {
            "colorbar": {
             "outlinewidth": 0,
             "ticks": ""
            },
            "colorscale": [
             [
              0,
              "#0d0887"
             ],
             [
              0.1111111111111111,
              "#46039f"
             ],
             [
              0.2222222222222222,
              "#7201a8"
             ],
             [
              0.3333333333333333,
              "#9c179e"
             ],
             [
              0.4444444444444444,
              "#bd3786"
             ],
             [
              0.5555555555555556,
              "#d8576b"
             ],
             [
              0.6666666666666666,
              "#ed7953"
             ],
             [
              0.7777777777777778,
              "#fb9f3a"
             ],
             [
              0.8888888888888888,
              "#fdca26"
             ],
             [
              1,
              "#f0f921"
             ]
            ],
            "type": "histogram2d"
           }
          ],
          "histogram2dcontour": [
           {
            "colorbar": {
             "outlinewidth": 0,
             "ticks": ""
            },
            "colorscale": [
             [
              0,
              "#0d0887"
             ],
             [
              0.1111111111111111,
              "#46039f"
             ],
             [
              0.2222222222222222,
              "#7201a8"
             ],
             [
              0.3333333333333333,
              "#9c179e"
             ],
             [
              0.4444444444444444,
              "#bd3786"
             ],
             [
              0.5555555555555556,
              "#d8576b"
             ],
             [
              0.6666666666666666,
              "#ed7953"
             ],
             [
              0.7777777777777778,
              "#fb9f3a"
             ],
             [
              0.8888888888888888,
              "#fdca26"
             ],
             [
              1,
              "#f0f921"
             ]
            ],
            "type": "histogram2dcontour"
           }
          ],
          "mesh3d": [
           {
            "colorbar": {
             "outlinewidth": 0,
             "ticks": ""
            },
            "type": "mesh3d"
           }
          ],
          "parcoords": [
           {
            "line": {
             "colorbar": {
              "outlinewidth": 0,
              "ticks": ""
             }
            },
            "type": "parcoords"
           }
          ],
          "pie": [
           {
            "automargin": true,
            "type": "pie"
           }
          ],
          "scatter": [
           {
            "fillpattern": {
             "fillmode": "overlay",
             "size": 10,
             "solidity": 0.2
            },
            "type": "scatter"
           }
          ],
          "scatter3d": [
           {
            "line": {
             "colorbar": {
              "outlinewidth": 0,
              "ticks": ""
             }
            },
            "marker": {
             "colorbar": {
              "outlinewidth": 0,
              "ticks": ""
             }
            },
            "type": "scatter3d"
           }
          ],
          "scattercarpet": [
           {
            "marker": {
             "colorbar": {
              "outlinewidth": 0,
              "ticks": ""
             }
            },
            "type": "scattercarpet"
           }
          ],
          "scattergeo": [
           {
            "marker": {
             "colorbar": {
              "outlinewidth": 0,
              "ticks": ""
             }
            },
            "type": "scattergeo"
           }
          ],
          "scattergl": [
           {
            "marker": {
             "colorbar": {
              "outlinewidth": 0,
              "ticks": ""
             }
            },
            "type": "scattergl"
           }
          ],
          "scattermap": [
           {
            "marker": {
             "colorbar": {
              "outlinewidth": 0,
              "ticks": ""
             }
            },
            "type": "scattermap"
           }
          ],
          "scattermapbox": [
           {
            "marker": {
             "colorbar": {
              "outlinewidth": 0,
              "ticks": ""
             }
            },
            "type": "scattermapbox"
           }
          ],
          "scatterpolar": [
           {
            "marker": {
             "colorbar": {
              "outlinewidth": 0,
              "ticks": ""
             }
            },
            "type": "scatterpolar"
           }
          ],
          "scatterpolargl": [
           {
            "marker": {
             "colorbar": {
              "outlinewidth": 0,
              "ticks": ""
             }
            },
            "type": "scatterpolargl"
           }
          ],
          "scatterternary": [
           {
            "marker": {
             "colorbar": {
              "outlinewidth": 0,
              "ticks": ""
             }
            },
            "type": "scatterternary"
           }
          ],
          "surface": [
           {
            "colorbar": {
             "outlinewidth": 0,
             "ticks": ""
            },
            "colorscale": [
             [
              0,
              "#0d0887"
             ],
             [
              0.1111111111111111,
              "#46039f"
             ],
             [
              0.2222222222222222,
              "#7201a8"
             ],
             [
              0.3333333333333333,
              "#9c179e"
             ],
             [
              0.4444444444444444,
              "#bd3786"
             ],
             [
              0.5555555555555556,
              "#d8576b"
             ],
             [
              0.6666666666666666,
              "#ed7953"
             ],
             [
              0.7777777777777778,
              "#fb9f3a"
             ],
             [
              0.8888888888888888,
              "#fdca26"
             ],
             [
              1,
              "#f0f921"
             ]
            ],
            "type": "surface"
           }
          ],
          "table": [
           {
            "cells": {
             "fill": {
              "color": "#EBF0F8"
             },
             "line": {
              "color": "white"
             }
            },
            "header": {
             "fill": {
              "color": "#C8D4E3"
             },
             "line": {
              "color": "white"
             }
            },
            "type": "table"
           }
          ]
         },
         "layout": {
          "annotationdefaults": {
           "arrowcolor": "#2a3f5f",
           "arrowhead": 0,
           "arrowwidth": 1
          },
          "autotypenumbers": "strict",
          "coloraxis": {
           "colorbar": {
            "outlinewidth": 0,
            "ticks": ""
           }
          },
          "colorscale": {
           "diverging": [
            [
             0,
             "#8e0152"
            ],
            [
             0.1,
             "#c51b7d"
            ],
            [
             0.2,
             "#de77ae"
            ],
            [
             0.3,
             "#f1b6da"
            ],
            [
             0.4,
             "#fde0ef"
            ],
            [
             0.5,
             "#f7f7f7"
            ],
            [
             0.6,
             "#e6f5d0"
            ],
            [
             0.7,
             "#b8e186"
            ],
            [
             0.8,
             "#7fbc41"
            ],
            [
             0.9,
             "#4d9221"
            ],
            [
             1,
             "#276419"
            ]
           ],
           "sequential": [
            [
             0,
             "#0d0887"
            ],
            [
             0.1111111111111111,
             "#46039f"
            ],
            [
             0.2222222222222222,
             "#7201a8"
            ],
            [
             0.3333333333333333,
             "#9c179e"
            ],
            [
             0.4444444444444444,
             "#bd3786"
            ],
            [
             0.5555555555555556,
             "#d8576b"
            ],
            [
             0.6666666666666666,
             "#ed7953"
            ],
            [
             0.7777777777777778,
             "#fb9f3a"
            ],
            [
             0.8888888888888888,
             "#fdca26"
            ],
            [
             1,
             "#f0f921"
            ]
           ],
           "sequentialminus": [
            [
             0,
             "#0d0887"
            ],
            [
             0.1111111111111111,
             "#46039f"
            ],
            [
             0.2222222222222222,
             "#7201a8"
            ],
            [
             0.3333333333333333,
             "#9c179e"
            ],
            [
             0.4444444444444444,
             "#bd3786"
            ],
            [
             0.5555555555555556,
             "#d8576b"
            ],
            [
             0.6666666666666666,
             "#ed7953"
            ],
            [
             0.7777777777777778,
             "#fb9f3a"
            ],
            [
             0.8888888888888888,
             "#fdca26"
            ],
            [
             1,
             "#f0f921"
            ]
           ]
          },
          "colorway": [
           "#636efa",
           "#EF553B",
           "#00cc96",
           "#ab63fa",
           "#FFA15A",
           "#19d3f3",
           "#FF6692",
           "#B6E880",
           "#FF97FF",
           "#FECB52"
          ],
          "font": {
           "color": "#2a3f5f"
          },
          "geo": {
           "bgcolor": "white",
           "lakecolor": "white",
           "landcolor": "#E5ECF6",
           "showlakes": true,
           "showland": true,
           "subunitcolor": "white"
          },
          "hoverlabel": {
           "align": "left"
          },
          "hovermode": "closest",
          "mapbox": {
           "style": "light"
          },
          "paper_bgcolor": "white",
          "plot_bgcolor": "#E5ECF6",
          "polar": {
           "angularaxis": {
            "gridcolor": "white",
            "linecolor": "white",
            "ticks": ""
           },
           "bgcolor": "#E5ECF6",
           "radialaxis": {
            "gridcolor": "white",
            "linecolor": "white",
            "ticks": ""
           }
          },
          "scene": {
           "xaxis": {
            "backgroundcolor": "#E5ECF6",
            "gridcolor": "white",
            "gridwidth": 2,
            "linecolor": "white",
            "showbackground": true,
            "ticks": "",
            "zerolinecolor": "white"
           },
           "yaxis": {
            "backgroundcolor": "#E5ECF6",
            "gridcolor": "white",
            "gridwidth": 2,
            "linecolor": "white",
            "showbackground": true,
            "ticks": "",
            "zerolinecolor": "white"
           },
           "zaxis": {
            "backgroundcolor": "#E5ECF6",
            "gridcolor": "white",
            "gridwidth": 2,
            "linecolor": "white",
            "showbackground": true,
            "ticks": "",
            "zerolinecolor": "white"
           }
          },
          "shapedefaults": {
           "line": {
            "color": "#2a3f5f"
           }
          },
          "ternary": {
           "aaxis": {
            "gridcolor": "white",
            "linecolor": "white",
            "ticks": ""
           },
           "baxis": {
            "gridcolor": "white",
            "linecolor": "white",
            "ticks": ""
           },
           "bgcolor": "#E5ECF6",
           "caxis": {
            "gridcolor": "white",
            "linecolor": "white",
            "ticks": ""
           }
          },
          "title": {
           "x": 0.05
          },
          "xaxis": {
           "automargin": true,
           "gridcolor": "white",
           "linecolor": "white",
           "ticks": "",
           "title": {
            "standoff": 15
           },
           "zerolinecolor": "white",
           "zerolinewidth": 2
          },
          "yaxis": {
           "automargin": true,
           "gridcolor": "white",
           "linecolor": "white",
           "ticks": "",
           "title": {
            "standoff": 15
           },
           "zerolinecolor": "white",
           "zerolinewidth": 2
          }
         }
        },
        "width": 900,
        "xaxis": {
         "gridcolor": "#1f292f",
         "nticks": 5,
         "rangeslider": {
          "visible": false
         }
        },
        "yaxis": {
         "gridcolor": "#1f292f"
        }
       }
      }
     },
     "metadata": {},
     "output_type": "display_data"
    }
   ],
   "source": [
    "cp = CandlePlot(df_trades, candles=False)\n",
    "cp.show_plot(line_traces=[\"GAIN_C\"])"
   ]
  },
  {
   "cell_type": "code",
   "execution_count": null,
   "id": "dd17a0e6",
   "metadata": {},
   "outputs": [],
   "source": []
  },
  {
   "cell_type": "code",
   "execution_count": null,
   "id": "a6a6271f",
   "metadata": {},
   "outputs": [],
   "source": []
  },
  {
   "cell_type": "code",
   "execution_count": null,
   "id": "01305705",
   "metadata": {},
   "outputs": [],
   "source": []
  }
 ],
 "metadata": {
  "kernelspec": {
   "display_name": "trade-framework-nii59TSx-py3.12",
   "language": "python",
   "name": "python3"
  },
  "language_info": {
   "codemirror_mode": {
    "name": "ipython",
    "version": 3
   },
   "file_extension": ".py",
   "mimetype": "text/x-python",
   "name": "python",
   "nbconvert_exporter": "python",
   "pygments_lexer": "ipython3",
   "version": "3.12.7"
  }
 },
 "nbformat": 4,
 "nbformat_minor": 5
}
