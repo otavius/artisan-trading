{
 "cells": [
  {
   "cell_type": "code",
   "execution_count": null,
   "id": "75fa1b7d",
   "metadata": {},
   "outputs": [],
   "source": []
  },
  {
   "cell_type": "code",
   "execution_count": 1,
   "id": "96e94193",
   "metadata": {},
   "outputs": [],
   "source": [
    "import sys\n",
    "sys.path.append(\"../\")\n",
    "from plotting import CandlePlot\n",
    "import pandas as pd\n",
    "from technical.patterns import apply_patterns"
   ]
  },
  {
   "cell_type": "code",
   "execution_count": 2,
   "id": "6682e435",
   "metadata": {},
   "outputs": [],
   "source": [
    "df = pd.read_pickle(\"../data/GBP_JPY_H1.pkl\")"
   ]
  },
  {
   "cell_type": "code",
   "execution_count": 3,
   "id": "725b05e1",
   "metadata": {},
   "outputs": [],
   "source": [
    "df_an = df[[\"time\", \"mid_o\", \"mid_h\",\"mid_l\", \"mid_c\" ]].copy()"
   ]
  },
  {
   "cell_type": "code",
   "execution_count": 4,
   "id": "80b39f4c",
   "metadata": {},
   "outputs": [
    {
     "data": {
      "text/html": [
       "<div>\n",
       "<style scoped>\n",
       "    .dataframe tbody tr th:only-of-type {\n",
       "        vertical-align: middle;\n",
       "    }\n",
       "\n",
       "    .dataframe tbody tr th {\n",
       "        vertical-align: top;\n",
       "    }\n",
       "\n",
       "    .dataframe thead th {\n",
       "        text-align: right;\n",
       "    }\n",
       "</style>\n",
       "<table border=\"1\" class=\"dataframe\">\n",
       "  <thead>\n",
       "    <tr style=\"text-align: right;\">\n",
       "      <th></th>\n",
       "      <th>time</th>\n",
       "      <th>mid_o</th>\n",
       "      <th>mid_h</th>\n",
       "      <th>mid_l</th>\n",
       "      <th>mid_c</th>\n",
       "    </tr>\n",
       "  </thead>\n",
       "  <tbody>\n",
       "    <tr>\n",
       "      <th>3996</th>\n",
       "      <td>2025-05-09 16:00:00+00:00</td>\n",
       "      <td>193.280</td>\n",
       "      <td>193.392</td>\n",
       "      <td>193.222</td>\n",
       "      <td>193.326</td>\n",
       "    </tr>\n",
       "    <tr>\n",
       "      <th>3997</th>\n",
       "      <td>2025-05-09 17:00:00+00:00</td>\n",
       "      <td>193.322</td>\n",
       "      <td>193.469</td>\n",
       "      <td>193.291</td>\n",
       "      <td>193.385</td>\n",
       "    </tr>\n",
       "    <tr>\n",
       "      <th>3998</th>\n",
       "      <td>2025-05-09 18:00:00+00:00</td>\n",
       "      <td>193.384</td>\n",
       "      <td>193.438</td>\n",
       "      <td>193.274</td>\n",
       "      <td>193.424</td>\n",
       "    </tr>\n",
       "    <tr>\n",
       "      <th>3999</th>\n",
       "      <td>2025-05-09 19:00:00+00:00</td>\n",
       "      <td>193.416</td>\n",
       "      <td>193.460</td>\n",
       "      <td>193.336</td>\n",
       "      <td>193.422</td>\n",
       "    </tr>\n",
       "    <tr>\n",
       "      <th>4000</th>\n",
       "      <td>2025-05-09 20:00:00+00:00</td>\n",
       "      <td>193.415</td>\n",
       "      <td>193.455</td>\n",
       "      <td>193.282</td>\n",
       "      <td>193.408</td>\n",
       "    </tr>\n",
       "  </tbody>\n",
       "</table>\n",
       "</div>"
      ],
      "text/plain": [
       "                          time    mid_o    mid_h    mid_l    mid_c\n",
       "3996 2025-05-09 16:00:00+00:00  193.280  193.392  193.222  193.326\n",
       "3997 2025-05-09 17:00:00+00:00  193.322  193.469  193.291  193.385\n",
       "3998 2025-05-09 18:00:00+00:00  193.384  193.438  193.274  193.424\n",
       "3999 2025-05-09 19:00:00+00:00  193.416  193.460  193.336  193.422\n",
       "4000 2025-05-09 20:00:00+00:00  193.415  193.455  193.282  193.408"
      ]
     },
     "execution_count": 4,
     "metadata": {},
     "output_type": "execute_result"
    }
   ],
   "source": [
    "df_an.tail()"
   ]
  },
  {
   "cell_type": "code",
   "execution_count": 9,
   "id": "f736f13a",
   "metadata": {},
   "outputs": [],
   "source": [
    "direction = df_an.mid_c - df_an.mid_o \n",
    "body_size = abs(direction)\n",
    "direction = [1 if x>= 0 else -1 for x in direction]\n",
    "full_range = df_an.mid_h - df_an.mid_l\n",
    "body_perc = (body_size / full_range) * 100 \n",
    "body_lower = df_an[[\"mid_c\", \"mid_o\"]].min(axis=1)\n",
    "body_upper = df_an[[\"mid_c\", \"mid_o\"]].max(axis=1)\n",
    "body_bottom_perc =( body_lower - df_an.mid_l) / full_range * 100\n",
    "body_top_perc = 100 - (((df_an.mid_h - body_upper) / full_range) * 100)"
   ]
  },
  {
   "cell_type": "code",
   "execution_count": 10,
   "id": "fd9f1ec3",
   "metadata": {},
   "outputs": [],
   "source": [
    "df_an['body_lower'] = body_lower\n",
    "df_an[\"body_upper\"] = body_upper\n",
    "df_an['body_bottom_perc'] = body_bottom_perc\n",
    "df_an[\"body_top_perc\"] = body_top_perc\n",
    "df_an['body_per'] = body_perc"
   ]
  },
  {
   "cell_type": "code",
   "execution_count": 5,
   "id": "c5e0bb23",
   "metadata": {},
   "outputs": [],
   "source": [
    "df_an = apply_patterns(df_an)"
   ]
  },
  {
   "cell_type": "code",
   "execution_count": 6,
   "id": "f8592a4d",
   "metadata": {},
   "outputs": [
    {
     "data": {
      "application/vnd.plotly.v1+json": {
       "config": {
        "plotlyServerURL": "https://plot.ly"
       },
       "data": [
        {
         "close": {
          "bdata": "nu+nxkvnZ0CTGARWDuVnQEa28/3U5GdA9ihcj8LlZ0DRItv5fuZnQH9qvHST6GdAyXa+nxrvZ0CDwMqhRfZnQD81XrpJ9GdA2c73U+P1Z0BI4XoUrvdnQArXo3A9+mdAGQRWDi36Z0D6fmq8dANoQIGVQ4tsB2hAN4lBYOUAaEDjpZvEIBhoQBsv3SQGGWhA46WbxCAYaEDjpZvEICBoQLKd76fGJ2hAGQRWDi0qaECuR+F6FCZoQCcxCKwcKmhAMQisHFooaEAGgZVDiyhoQAAAAAAALGhAgZVDi2wnaEAIrBxaZCdoQL6fGi/dHGhA2/l+arwYaECiRbbz/RhoQPp+arx0F2hAUI2XbhITaEAZBFYOLRJoQKJFtvP9DGhADAIrhxYRaEBaZDvfTxVoQESLbOf7GWhA/tR46SYZaED2KFyPwhVoQNejcD0KH2hApHA9CtcbaEA9CtejcB1oQBsv3SQGKWhA30+Nl24qaEC4HoXrUSxoQCGwcmiRLWhAL90kBoEtaECTGARWDi1oQA==",
          "dtype": "f8"
         },
         "decreasing": {
          "fillcolor": "#CC2E3C",
          "line": {
           "color": "#FF3A4C"
          }
         },
         "high": {
          "bdata": "/Knx0k3uZ0D+1HjpJulnQFpkO99P5WdACKwcWmTnZ0C4HoXrUehnQKRwPQrX62dADi2yne/vZ0BkO99PjfdnQMUgsHJo+WdAc2iR7Xz3Z0A3iUFg5fhnQM3MzMzM/GdAkxgEVg79Z0B1kxgEVgZoQLByaJHtCGhA8KfGSzcNaEDpJjEIrBxoQAisHFpkI2hAPzVeukkcaECyne+nxiNoQKJFtvP9KGhAvp8aL90saEBqvHSTGCxoQKRwPQrXK2hA46WbxCAwaECDwMqhRSpoQHE9CtejLGhA6SYxCKwsaEDsUbgehStoQGIQWDm0KGhASgwCK4ceaEAfhetRuB5oQJhuEoPAGmhAObTIdr4XaECiRbbz/RRoQHsUrkfhEmhA46WbxCAYaEAQWDm0yBZoQJHtfD81GmhAkxgEVg4daECTGARWDh1oQIGVQ4tsH2hA001iEFghaEBEi2zn+yFoQBsv3SQGKWhABoGVQ4ssaEBeukkMAi9oQLx0kxgELmhAH4XrUbguaEDD9Shcjy5oQA==",
          "dtype": "f8"
         },
         "increasing": {
          "fillcolor": "#24A06B",
          "line": {
           "color": "#2EC886"
          }
         },
         "line": {
          "width": 1
         },
         "low": {
          "bdata": "hxbZzvffZ0BMN4lBYOFnQDm0yHa+32dA+n5qvHTjZ0Cmm8QgsOJnQAAAAAAA4GdAF9nO91PjZ0BKDAIrh+5nQN9PjZdu8mdAQmDl0CLzZ0Dwp8ZLN/FnQEw3iUFg8WdA1XjpJjH0Z0C4HoXrUfhnQAIrhxbZAmhABoGVQ4sAaEDJdr6fGvdnQAIrhxbZFmhAK4cW2c4TaECR7Xw/NRZoQDEIrBxaHGhA2/l+arwkaEASg8DKoSVoQEa28/3UJGhAvHSTGAQmaEAUrkfheiRoQGIQWDm0JGhATmIQWDkkaEC8dJMYBCZoQN9PjZduGmhAarx0kxgYaEAdWmQ73xdoQLKd76fGE2hAd76fGi8RaECyne+nxg9oQA4tsp3vC2hACKwcWmQLaEASg8DKoQ1oQFCNl24SE2hAHVpkO98XaEDjpZvEIBBoQHe+nxovFWhAAAAAAAAYaED+1HjpJhloQJMYBFYOHWhAyXa+nxonaEBaZDvfTyloQFTjpZvEKGhAmG4Sg8AqaEAbL90kBiloQA==",
          "dtype": "f8"
         },
         "opacity": 1,
         "open": {
          "bdata": "SgwCK4fmZ0Dl0CLb+eZnQGQ730+N42dAaJHtfD/lZ0DLoUW28+VnQFg5tMh25mdAVOOlm8ToZ0DJdr6fGu9nQJHtfD819mdATmIQWDn0Z0BSuB6F6/VnQI/C9Shc92dAbxKDwMr5Z0CDwMqhRfpnQN0kBoGVA2hAc2iR7XwHaEBU46WbxABoQFyPwvUoGGhADAIrhxYZaEBqvHSTGBhoQD81XrpJIGhAK4cW2c4naEAZBFYOLSpoQDVeukkMJmhArkfhehQqaEC4HoXrUShoQGZmZmZmJmhAuB6F61EsaEAX2c73UydoQI/C9ShcJ2hA/tR46SYdaEBiEFg5tBhoQDeJQWDlGGhArBxaZDsXaEBQjZduEhNoQArXo3A9EmhAokW28/0MaECF61G4HhFoQEw3iUFgFWhARIts5/sZaED+1HjpJhloQOf7qfHSFWhA16NwPQofaEAdWmQ73xtoQLbz/dR4HWhAKVyPwvUoaED8qfHSTSpoQD81XrpJLGhAWmQ7308taEDhehSuRy1oQA==",
          "dtype": "f8"
         },
         "type": "candlestick",
         "x": [
          "s25-05-07 19:00",
          "s25-05-07 20:00",
          "s25-05-07 21:00",
          "s25-05-07 22:00",
          "s25-05-07 23:00",
          "s25-05-08 00:00",
          "s25-05-08 01:00",
          "s25-05-08 02:00",
          "s25-05-08 03:00",
          "s25-05-08 04:00",
          "s25-05-08 05:00",
          "s25-05-08 06:00",
          "s25-05-08 07:00",
          "s25-05-08 08:00",
          "s25-05-08 09:00",
          "s25-05-08 10:00",
          "s25-05-08 11:00",
          "s25-05-08 12:00",
          "s25-05-08 13:00",
          "s25-05-08 14:00",
          "s25-05-08 15:00",
          "s25-05-08 16:00",
          "s25-05-08 17:00",
          "s25-05-08 18:00",
          "s25-05-08 19:00",
          "s25-05-08 20:00",
          "s25-05-08 21:00",
          "s25-05-08 22:00",
          "s25-05-08 23:00",
          "s25-05-09 00:00",
          "s25-05-09 01:00",
          "s25-05-09 02:00",
          "s25-05-09 03:00",
          "s25-05-09 04:00",
          "s25-05-09 05:00",
          "s25-05-09 06:00",
          "s25-05-09 07:00",
          "s25-05-09 08:00",
          "s25-05-09 09:00",
          "s25-05-09 10:00",
          "s25-05-09 11:00",
          "s25-05-09 12:00",
          "s25-05-09 13:00",
          "s25-05-09 14:00",
          "s25-05-09 15:00",
          "s25-05-09 16:00",
          "s25-05-09 17:00",
          "s25-05-09 18:00",
          "s25-05-09 19:00",
          "s25-05-09 20:00"
         ]
        }
       ],
       "layout": {
        "font": {
         "color": "#e1e1e1",
         "size": 8
        },
        "height": 900,
        "margin": {
         "b": 10,
         "l": 10,
         "r": 10,
         "t": 10
        },
        "paper_bgcolor": "#2c303c",
        "plot_bgcolor": "#2c303c",
        "template": {
         "data": {
          "bar": [
           {
            "error_x": {
             "color": "#2a3f5f"
            },
            "error_y": {
             "color": "#2a3f5f"
            },
            "marker": {
             "line": {
              "color": "#E5ECF6",
              "width": 0.5
             },
             "pattern": {
              "fillmode": "overlay",
              "size": 10,
              "solidity": 0.2
             }
            },
            "type": "bar"
           }
          ],
          "barpolar": [
           {
            "marker": {
             "line": {
              "color": "#E5ECF6",
              "width": 0.5
             },
             "pattern": {
              "fillmode": "overlay",
              "size": 10,
              "solidity": 0.2
             }
            },
            "type": "barpolar"
           }
          ],
          "carpet": [
           {
            "aaxis": {
             "endlinecolor": "#2a3f5f",
             "gridcolor": "white",
             "linecolor": "white",
             "minorgridcolor": "white",
             "startlinecolor": "#2a3f5f"
            },
            "baxis": {
             "endlinecolor": "#2a3f5f",
             "gridcolor": "white",
             "linecolor": "white",
             "minorgridcolor": "white",
             "startlinecolor": "#2a3f5f"
            },
            "type": "carpet"
           }
          ],
          "choropleth": [
           {
            "colorbar": {
             "outlinewidth": 0,
             "ticks": ""
            },
            "type": "choropleth"
           }
          ],
          "contour": [
           {
            "colorbar": {
             "outlinewidth": 0,
             "ticks": ""
            },
            "colorscale": [
             [
              0,
              "#0d0887"
             ],
             [
              0.1111111111111111,
              "#46039f"
             ],
             [
              0.2222222222222222,
              "#7201a8"
             ],
             [
              0.3333333333333333,
              "#9c179e"
             ],
             [
              0.4444444444444444,
              "#bd3786"
             ],
             [
              0.5555555555555556,
              "#d8576b"
             ],
             [
              0.6666666666666666,
              "#ed7953"
             ],
             [
              0.7777777777777778,
              "#fb9f3a"
             ],
             [
              0.8888888888888888,
              "#fdca26"
             ],
             [
              1,
              "#f0f921"
             ]
            ],
            "type": "contour"
           }
          ],
          "contourcarpet": [
           {
            "colorbar": {
             "outlinewidth": 0,
             "ticks": ""
            },
            "type": "contourcarpet"
           }
          ],
          "heatmap": [
           {
            "colorbar": {
             "outlinewidth": 0,
             "ticks": ""
            },
            "colorscale": [
             [
              0,
              "#0d0887"
             ],
             [
              0.1111111111111111,
              "#46039f"
             ],
             [
              0.2222222222222222,
              "#7201a8"
             ],
             [
              0.3333333333333333,
              "#9c179e"
             ],
             [
              0.4444444444444444,
              "#bd3786"
             ],
             [
              0.5555555555555556,
              "#d8576b"
             ],
             [
              0.6666666666666666,
              "#ed7953"
             ],
             [
              0.7777777777777778,
              "#fb9f3a"
             ],
             [
              0.8888888888888888,
              "#fdca26"
             ],
             [
              1,
              "#f0f921"
             ]
            ],
            "type": "heatmap"
           }
          ],
          "histogram": [
           {
            "marker": {
             "pattern": {
              "fillmode": "overlay",
              "size": 10,
              "solidity": 0.2
             }
            },
            "type": "histogram"
           }
          ],
          "histogram2d": [
           {
            "colorbar": {
             "outlinewidth": 0,
             "ticks": ""
            },
            "colorscale": [
             [
              0,
              "#0d0887"
             ],
             [
              0.1111111111111111,
              "#46039f"
             ],
             [
              0.2222222222222222,
              "#7201a8"
             ],
             [
              0.3333333333333333,
              "#9c179e"
             ],
             [
              0.4444444444444444,
              "#bd3786"
             ],
             [
              0.5555555555555556,
              "#d8576b"
             ],
             [
              0.6666666666666666,
              "#ed7953"
             ],
             [
              0.7777777777777778,
              "#fb9f3a"
             ],
             [
              0.8888888888888888,
              "#fdca26"
             ],
             [
              1,
              "#f0f921"
             ]
            ],
            "type": "histogram2d"
           }
          ],
          "histogram2dcontour": [
           {
            "colorbar": {
             "outlinewidth": 0,
             "ticks": ""
            },
            "colorscale": [
             [
              0,
              "#0d0887"
             ],
             [
              0.1111111111111111,
              "#46039f"
             ],
             [
              0.2222222222222222,
              "#7201a8"
             ],
             [
              0.3333333333333333,
              "#9c179e"
             ],
             [
              0.4444444444444444,
              "#bd3786"
             ],
             [
              0.5555555555555556,
              "#d8576b"
             ],
             [
              0.6666666666666666,
              "#ed7953"
             ],
             [
              0.7777777777777778,
              "#fb9f3a"
             ],
             [
              0.8888888888888888,
              "#fdca26"
             ],
             [
              1,
              "#f0f921"
             ]
            ],
            "type": "histogram2dcontour"
           }
          ],
          "mesh3d": [
           {
            "colorbar": {
             "outlinewidth": 0,
             "ticks": ""
            },
            "type": "mesh3d"
           }
          ],
          "parcoords": [
           {
            "line": {
             "colorbar": {
              "outlinewidth": 0,
              "ticks": ""
             }
            },
            "type": "parcoords"
           }
          ],
          "pie": [
           {
            "automargin": true,
            "type": "pie"
           }
          ],
          "scatter": [
           {
            "fillpattern": {
             "fillmode": "overlay",
             "size": 10,
             "solidity": 0.2
            },
            "type": "scatter"
           }
          ],
          "scatter3d": [
           {
            "line": {
             "colorbar": {
              "outlinewidth": 0,
              "ticks": ""
             }
            },
            "marker": {
             "colorbar": {
              "outlinewidth": 0,
              "ticks": ""
             }
            },
            "type": "scatter3d"
           }
          ],
          "scattercarpet": [
           {
            "marker": {
             "colorbar": {
              "outlinewidth": 0,
              "ticks": ""
             }
            },
            "type": "scattercarpet"
           }
          ],
          "scattergeo": [
           {
            "marker": {
             "colorbar": {
              "outlinewidth": 0,
              "ticks": ""
             }
            },
            "type": "scattergeo"
           }
          ],
          "scattergl": [
           {
            "marker": {
             "colorbar": {
              "outlinewidth": 0,
              "ticks": ""
             }
            },
            "type": "scattergl"
           }
          ],
          "scattermap": [
           {
            "marker": {
             "colorbar": {
              "outlinewidth": 0,
              "ticks": ""
             }
            },
            "type": "scattermap"
           }
          ],
          "scattermapbox": [
           {
            "marker": {
             "colorbar": {
              "outlinewidth": 0,
              "ticks": ""
             }
            },
            "type": "scattermapbox"
           }
          ],
          "scatterpolar": [
           {
            "marker": {
             "colorbar": {
              "outlinewidth": 0,
              "ticks": ""
             }
            },
            "type": "scatterpolar"
           }
          ],
          "scatterpolargl": [
           {
            "marker": {
             "colorbar": {
              "outlinewidth": 0,
              "ticks": ""
             }
            },
            "type": "scatterpolargl"
           }
          ],
          "scatterternary": [
           {
            "marker": {
             "colorbar": {
              "outlinewidth": 0,
              "ticks": ""
             }
            },
            "type": "scatterternary"
           }
          ],
          "surface": [
           {
            "colorbar": {
             "outlinewidth": 0,
             "ticks": ""
            },
            "colorscale": [
             [
              0,
              "#0d0887"
             ],
             [
              0.1111111111111111,
              "#46039f"
             ],
             [
              0.2222222222222222,
              "#7201a8"
             ],
             [
              0.3333333333333333,
              "#9c179e"
             ],
             [
              0.4444444444444444,
              "#bd3786"
             ],
             [
              0.5555555555555556,
              "#d8576b"
             ],
             [
              0.6666666666666666,
              "#ed7953"
             ],
             [
              0.7777777777777778,
              "#fb9f3a"
             ],
             [
              0.8888888888888888,
              "#fdca26"
             ],
             [
              1,
              "#f0f921"
             ]
            ],
            "type": "surface"
           }
          ],
          "table": [
           {
            "cells": {
             "fill": {
              "color": "#EBF0F8"
             },
             "line": {
              "color": "white"
             }
            },
            "header": {
             "fill": {
              "color": "#C8D4E3"
             },
             "line": {
              "color": "white"
             }
            },
            "type": "table"
           }
          ]
         },
         "layout": {
          "annotationdefaults": {
           "arrowcolor": "#2a3f5f",
           "arrowhead": 0,
           "arrowwidth": 1
          },
          "autotypenumbers": "strict",
          "coloraxis": {
           "colorbar": {
            "outlinewidth": 0,
            "ticks": ""
           }
          },
          "colorscale": {
           "diverging": [
            [
             0,
             "#8e0152"
            ],
            [
             0.1,
             "#c51b7d"
            ],
            [
             0.2,
             "#de77ae"
            ],
            [
             0.3,
             "#f1b6da"
            ],
            [
             0.4,
             "#fde0ef"
            ],
            [
             0.5,
             "#f7f7f7"
            ],
            [
             0.6,
             "#e6f5d0"
            ],
            [
             0.7,
             "#b8e186"
            ],
            [
             0.8,
             "#7fbc41"
            ],
            [
             0.9,
             "#4d9221"
            ],
            [
             1,
             "#276419"
            ]
           ],
           "sequential": [
            [
             0,
             "#0d0887"
            ],
            [
             0.1111111111111111,
             "#46039f"
            ],
            [
             0.2222222222222222,
             "#7201a8"
            ],
            [
             0.3333333333333333,
             "#9c179e"
            ],
            [
             0.4444444444444444,
             "#bd3786"
            ],
            [
             0.5555555555555556,
             "#d8576b"
            ],
            [
             0.6666666666666666,
             "#ed7953"
            ],
            [
             0.7777777777777778,
             "#fb9f3a"
            ],
            [
             0.8888888888888888,
             "#fdca26"
            ],
            [
             1,
             "#f0f921"
            ]
           ],
           "sequentialminus": [
            [
             0,
             "#0d0887"
            ],
            [
             0.1111111111111111,
             "#46039f"
            ],
            [
             0.2222222222222222,
             "#7201a8"
            ],
            [
             0.3333333333333333,
             "#9c179e"
            ],
            [
             0.4444444444444444,
             "#bd3786"
            ],
            [
             0.5555555555555556,
             "#d8576b"
            ],
            [
             0.6666666666666666,
             "#ed7953"
            ],
            [
             0.7777777777777778,
             "#fb9f3a"
            ],
            [
             0.8888888888888888,
             "#fdca26"
            ],
            [
             1,
             "#f0f921"
            ]
           ]
          },
          "colorway": [
           "#636efa",
           "#EF553B",
           "#00cc96",
           "#ab63fa",
           "#FFA15A",
           "#19d3f3",
           "#FF6692",
           "#B6E880",
           "#FF97FF",
           "#FECB52"
          ],
          "font": {
           "color": "#2a3f5f"
          },
          "geo": {
           "bgcolor": "white",
           "lakecolor": "white",
           "landcolor": "#E5ECF6",
           "showlakes": true,
           "showland": true,
           "subunitcolor": "white"
          },
          "hoverlabel": {
           "align": "left"
          },
          "hovermode": "closest",
          "mapbox": {
           "style": "light"
          },
          "paper_bgcolor": "white",
          "plot_bgcolor": "#E5ECF6",
          "polar": {
           "angularaxis": {
            "gridcolor": "white",
            "linecolor": "white",
            "ticks": ""
           },
           "bgcolor": "#E5ECF6",
           "radialaxis": {
            "gridcolor": "white",
            "linecolor": "white",
            "ticks": ""
           }
          },
          "scene": {
           "xaxis": {
            "backgroundcolor": "#E5ECF6",
            "gridcolor": "white",
            "gridwidth": 2,
            "linecolor": "white",
            "showbackground": true,
            "ticks": "",
            "zerolinecolor": "white"
           },
           "yaxis": {
            "backgroundcolor": "#E5ECF6",
            "gridcolor": "white",
            "gridwidth": 2,
            "linecolor": "white",
            "showbackground": true,
            "ticks": "",
            "zerolinecolor": "white"
           },
           "zaxis": {
            "backgroundcolor": "#E5ECF6",
            "gridcolor": "white",
            "gridwidth": 2,
            "linecolor": "white",
            "showbackground": true,
            "ticks": "",
            "zerolinecolor": "white"
           }
          },
          "shapedefaults": {
           "line": {
            "color": "#2a3f5f"
           }
          },
          "ternary": {
           "aaxis": {
            "gridcolor": "white",
            "linecolor": "white",
            "ticks": ""
           },
           "baxis": {
            "gridcolor": "white",
            "linecolor": "white",
            "ticks": ""
           },
           "bgcolor": "#E5ECF6",
           "caxis": {
            "gridcolor": "white",
            "linecolor": "white",
            "ticks": ""
           }
          },
          "title": {
           "x": 0.05
          },
          "xaxis": {
           "automargin": true,
           "gridcolor": "white",
           "linecolor": "white",
           "ticks": "",
           "title": {
            "standoff": 15
           },
           "zerolinecolor": "white",
           "zerolinewidth": 2
          },
          "yaxis": {
           "automargin": true,
           "gridcolor": "white",
           "linecolor": "white",
           "ticks": "",
           "title": {
            "standoff": 15
           },
           "zerolinecolor": "white",
           "zerolinewidth": 2
          }
         }
        },
        "width": 900,
        "xaxis": {
         "anchor": "y",
         "domain": [
          0,
          0.94
         ],
         "gridcolor": "#1f292f",
         "nticks": 5,
         "rangeslider": {
          "visible": false
         }
        },
        "yaxis": {
         "anchor": "x",
         "domain": [
          0,
          1
         ],
         "gridcolor": "#1f292f"
        },
        "yaxis2": {
         "anchor": "x",
         "gridcolor": "#1f292f",
         "overlaying": "y",
         "side": "right"
        }
       }
      }
     },
     "metadata": {},
     "output_type": "display_data"
    }
   ],
   "source": [
    "dfp = df_an.iloc[-50:]\n",
    "cp = CandlePlot(dfp)\n",
    "cp.show_plot(line_traces=[])"
   ]
  },
  {
   "cell_type": "code",
   "execution_count": null,
   "id": "4842b550",
   "metadata": {},
   "outputs": [],
   "source": []
  },
  {
   "cell_type": "code",
   "execution_count": 14,
   "id": "e7a1b56c",
   "metadata": {},
   "outputs": [
    {
     "data": {
      "text/plain": [
       "time                2025-05-09 15:00:00+00:00\n",
       "mid_o                                 192.921\n",
       "mid_h                                 193.282\n",
       "mid_l                                 192.908\n",
       "mid_c                                 193.282\n",
       "body_lower                            192.921\n",
       "body_upper                            193.282\n",
       "body_bottom_perc                     3.475936\n",
       "body_top_perc                           100.0\n",
       "body_per                            96.524064\n",
       "Name: 3995, dtype: object"
      ]
     },
     "execution_count": 14,
     "metadata": {},
     "output_type": "execute_result"
    }
   ],
   "source": [
    "df_an.iloc[-6]"
   ]
  },
  {
   "cell_type": "code",
   "execution_count": null,
   "id": "b1eb11c6",
   "metadata": {},
   "outputs": [],
   "source": []
  }
 ],
 "metadata": {
  "kernelspec": {
   "display_name": "Python 3",
   "language": "python",
   "name": "python3"
  },
  "language_info": {
   "codemirror_mode": {
    "name": "ipython",
    "version": 3
   },
   "file_extension": ".py",
   "mimetype": "text/x-python",
   "name": "python",
   "nbconvert_exporter": "python",
   "pygments_lexer": "ipython3",
   "version": "3.12.9"
  }
 },
 "nbformat": 4,
 "nbformat_minor": 5
}
