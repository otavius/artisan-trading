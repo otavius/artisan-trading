{
 "cells": [
  {
   "cell_type": "code",
   "execution_count": 1,
   "id": "2de4c4ee",
   "metadata": {},
   "outputs": [],
   "source": [
    "import pandas as pd \n",
    "import plotly.graph_objects as go \n",
    "import datetime as dt "
   ]
  },
  {
   "cell_type": "code",
   "execution_count": 2,
   "id": "52abd677",
   "metadata": {},
   "outputs": [],
   "source": [
    "pair = \"EUR_USD\"\n",
    "granularity = \"H4\"\n",
    "df = pd.read_pickle(f\"../data/{pair}_{granularity}.pkl\")"
   ]
  },
  {
   "cell_type": "code",
   "execution_count": 15,
   "id": "38ffe4b3",
   "metadata": {},
   "outputs": [],
   "source": [
    "df[\"sTime\"] = [dt.datetime.strftime(x, \"s%y-%m-%d %H:%M\") for x in df.time]"
   ]
  },
  {
   "cell_type": "code",
   "execution_count": 16,
   "id": "4fc95774",
   "metadata": {},
   "outputs": [],
   "source": [
    "df_plot = df.iloc[:100]"
   ]
  },
  {
   "cell_type": "code",
   "execution_count": 18,
   "id": "46182e6f",
   "metadata": {},
   "outputs": [
    {
     "data": {
      "application/vnd.plotly.v1+json": {
       "config": {
        "plotlyServerURL": "https://plot.ly"
       },
       "data": [
        {
         "close": {
          "bdata": "WUxsPq4N7z+EKjV7oBXvP47MI38w8O4/gc8PI4RH7z/tuyL430rvP/z7jAsHQu8/k8ZoHVVN7z/BVgkWhzPvP0pBt5c0Ru8/KQXdXtIY7z+SkbOwpx3vP+S9amXCL+8/DhXj/E0o7z+1T8djBirvP9UEUfcBSO8/XD0nvW987z+NCwdCsoDvPyDvVSsTfu8/QX3LnC6L7z/5oGez6nPvP5tyhXe5iO8/0gDeAgmK7z+x+bg2VIzvPzy9UpYhju8/d4TTghd97z987ZklAWrvP88UOq+xS+8/VcGopE5A7z/2C3bDtkXvPzp6/N6mP+8/fA+XHHdK7z/MtP0rK03vPzyInSl0Xu8/dXYyOEpe7z8Xmus00lLvP799HThnRO8/ho+IKZFE7z8q499nXDjvP5pfzQGCOe8/zhlR2ht87z/LEMe6uI3vP2qkpfJ2hO8/iEuOO6WD7z9GtvP91HjvP6uy74rgf+8/SiTRyyiW7z8qHaz/c5jvP+9VKxN+qe8/P3RBfcuc7z97a2CrBIvvPwx2w7ZFme8/mfViKCfa7z/ZWl8ktOXvP9szSwLU1O8/l8XE5uPa7z+PqiaIug/wP25MT1jiAfA/OsyXF2Af8D9tyhXe5SLwPzmc+dUcIPA/d0oH6/8c8D9i83FtqBjwP1GlZg+0AvA/klz+Q/rt7z9Qx2MGKuPvPxR5knTN5O8/wcqhRbbz7z+rlQm/1M/vP2ZOl8XE5u8/WcAEbt3N7z/5MeauJeTvP5HVrZ6T3u8/x2MGKuPf7z/FVWXfFcHvP9pVSPlJte8/J71vfO2Z7z/kTulg/Z/vPxmto6oJou8/w552+Guy7z9UqdkDrcDvP+SDns2qz+8/yuAoeXWO7z9+Uu3T8ZjvP6RwPQrXo+8/Gt1B7Eyh7z91WUxsPq7vP8Fu2LYos+8/3QcgtYmT7z/w+WGE8GjvP+jZrPpcbe8/f6SIDKt47z+LTwEwnkHvP0ATYcPTK+8/Ugq6vaQx7z8zMzMzMzPvPxMsDmd+Ne8/U+i8xi5R7z9miGNd3EbvP/tXVpqUgu8/tI6qJoi67z8=",
          "dtype": "f8"
         },
         "decreasing": {
          "fillcolor": "#CC2E3C",
          "line": {
           "color": "#FF3A4C"
          }
         },
         "high": {
          "bdata": "g/qWOV0W7z8STgte9BXvP4TYmULnNe8/JNHLKJZb7z+MLQQ5KGHvP7PNjekJS+8/iJ0pdF5j7z99lufB3VnvP0WBPpEnSe8/lX1XBP9b7z8UBfpEniTvPzIDlfHvM+8/hQg4hCo17z8ps0EmGTnvP1ZI+Um1T+8/EK/rF+yG7z9LzR5oBYbvP2XkLOxph+8/NJ2dDI6S7z8NpmH4iJjvP3k7wmnBi+8/0VeQZiya7z8cti3KbJDvPytNSkG3l+8/cOtunuqQ7z851sVtNIDvP3JtqBjnb+8/WP/nMF9e7z9CIQIOoUrvPyo6kst/SO8/cY+lD11Q7z9kr3d/vFfvP5eL+E7Meu8/jNtoAG+B7z88iJ0pdF7vPzPhl/p5U+8/rd12oblO7z+R7Xw/NV7vP+7rwDkjSu8/ayv2l92T7z8UlnhA2ZTvPyAkC5jAre8/FD/G3LWE7z87jbRU3o7vP8+goX+Ci+8/1A5/Tdao7z/mriXkg57vP7LXuz/eq+8/Bd1e0hit7z+u8C4X8Z3vP+7O2m0Xmu8/6fF7m/7s7z+6g9iZQufvP73jFB3J5e8/jnVxGw3g7z8YJlMFoxLwP0/MejGUE/A/NQwfEVMi8D9qatlaXyTwP5/Ik6RrJvA/36Y/+5Ei8D8YldQJaCLwP+/mqQ65GfA/bqMBvAUS8D/qeMxAZfzvPwxZ3eo56e8/A2A8g4b+7z+bAwRz9PjvPweZZOQs7O8/K4cW2c737z8vwD46deXvP1DHYwYq4+8/MiB7vfvj7z+pvB3htODvP7xcxHdi1u8/CcTr+gW77z97SWO0jqrvP6DgYkUNpu8/TTJyFva07z8T8kHPZtXvPxPyQc9m1e8/XwfOGVHa7z8YfQVpxqLvP04LXvQVpO8/5zV2ieqt7z8WpBmLprPvP0dy+Q/pt+8/e6AVGLK67z/Oqs/VVuzvP9mZQuc1du8/6WD9n8N87z8oDwu1pnnvP07RkVz+Q+8/K8HicOZX7z8/OnXlszzvP8+9h0uOO+8/wjQMHxFT7z8oYabtX1nvP2dEaW/whe8/V2DI6lbP7z8=",
          "dtype": "f8"
         },
         "increasing": {
          "fillcolor": "#24A06B",
          "line": {
           "color": "#2EC886"
          }
         },
         "line": {
          "width": 1
         },
         "low": {
          "bdata": "Zyyazk4G7z8f14aKcf7uP4qO5PIf0u4/BOJ1/YLd7j9tqBjnb0LvPwZM4NbdPO8//PuMCwdC7z/l7QinBS/vP8QI4dHGEe8/x2gdVU0Q7z+hoX+CixXvP3va4a/JGu8/oijQJ/Ik7z+0yHa+nxrvP8Iv9fOmIu8/9gt2w7ZF7z8tz4O7s3bvPwpoImx4eu8/c51GWipv7z8AkX77OnDvPxEBh1ClZu8/knTN5Jtt7z+uEiwOZ37vP7kZbsDnh+8/0XmNXaJ67z9mZmZmZmbvP3uIRncQO+8/c2iR7Xw/7z8ps0EmGTnvP9IdxM4UOu8/EMzR4/c27z8Us14M5UTvP2e4AZ8fRu8/CAPPvYdL7z9KQbeXNEbvP/z7jAsHQu8/yM1wAz4/7z/2tMNfkzXvP5EKYwtBDu8/9+RhodY07z9V9l0R/G/vP4RkARO4de8//mDgufdw7z/SUnk7wmnvP4v9ZffkYe8/Ne84RUdy7z/5Tsx6MZTvPxSWeEDZlO8/626e6pCb7z9l5CzsaYfvP9yAzw8jhO8/gIKLFTWY7z/y6hwDstfvPzZZox6i0e8/F4IclDDT7z/xun7BbtjvP+p4zEBl/O8/4lgXt9EA8D+WIY51cRvwPz0s1JrmHfA/YcPTK2UZ8D+fceFASBbwP7+aAwRz9O8/D7kZbsDn7z8+0AoMWd3vP698lufB3e8/+5EiMqzi7z8W+8vuycPvPwkbnl4py+8/hEcbR6zF7z98J2a9GMrvP4qO5PIf0u8/U9DtJY3R7z+ZR/5g4LnvP2rZWl8ktO8/1edqK/aX7z+c+dUcIJjvPx+duvJZnu8/U8vW+iKh7z/EzhQ6r7HvP7SOqiaIuu8/K/aX3ZOH7z+WsgxxrIvvP/buj/eqle8/P3RBfcuc7z/YR6eufJbvP+HurN12oe8/eAskKH6M7z/XEvJBz2bvPzEIrBxaZO8/zZIANbVs7z+xFp8CYDzvP1BTy9b6Iu8/npj1Yign7z+TGARWDi3vP3ehuU4jLe8/GRwlr84x7z9iodY07zjvP6OvIM1YNO8/P8bctYR87z8=",
          "dtype": "f8"
         },
         "opacity": 1,
         "open": {
          "bdata": "vOgrSDMW7z9ZTGw+rg3vPxN+qZ83Fe8/AKlNnNzv7j+dRloqb0fvP7q9pDFaR+8/ww34/DBC7z+wPbMkQE3vP4hodAexM+8/SkG3lzRG7z9i83FtqBjvP8kfDDz3Hu8/cuFASBYw7z8qjC0EOSjvP+49XHLcKe8/DvPlBdhH7z9cPSe9b3zvP3eE04IXfe8/IO9VKxN+7z8lBoGVQ4vvP/mgZ7Pqc+8/KZZbWg2J7z+1iZP7HYrvP7RZ9bnaiu8/PL1SliGO7z+wcmiR7XzvP7SrkPKTau8/lialoNtL7z9VwaikTkDvP0xxVdl3Re8/yM1wAz4/7z98D5ccd0rvP3ZPHhZqTe8/ApoIG55e7z9Y/+cwX17vP+I7MevFUO8/v30dOGdE7z+Gj4gpkUTvPw1slWBxOO8/001iEFg57z/OGVHaG3zvP4eiQJ/Ik+8/aqSl8naE7z/6J7hYUYPvP9PZyeAoee8/csRafAqA7z8urYbEPZbvP0Q0uoPYme8/1A5/Tdao7z9b64uEtpzvPwiPNo5Yi+8/flLt0/GY7z/S4/c2/dnvP79DUaBP5O8/2zNLAtTU7z/tKqT8pNrvP6shcY+lD/A/i8OZX80B8D/IBz2bVR/wP6gY529CIfA/OZz51Rwg8D9b07zjFB3wP0Z8J2a9GPA/NC4cCMkC8D8fgNQmTu7vP4iFWtO84+8/9wFIbeLk7z/ByqFFtvPvP8R8eQH20e8/LWACt+7m7z/n49pQMc7vP3tOet/42u8/kdWtnpPe7z86QDBHj9/vP+LMr+YAwe8/oWez6nO17z/RV5BmLJrvP63AkNWtnu8/NSTusfSh7z/8jAsHQrLvP4xn0NA/we8/cqd0sP7P7z/K4Ch5dY7vP/+VlSaloO8/+tUcIJij7z/h7qzddqHvPzxrt11oru8/+1xtxf6y7z/BkNWtnpPvP10WE5uPa+8/6Nms+lxt7z9/pIgMq3jvP2/YtiizQe8/eQH20akr7z/+1HjpJjHvP73GLlG9Ne8/2T15WKg17z9wXwfOGVHvPyyazk4GR+8/GM+goX+C7z8=",
          "dtype": "f8"
         },
         "type": "candlestick",
         "x": [
          "s22-10-13 01:00",
          "s22-10-13 05:00",
          "s22-10-13 09:00",
          "s22-10-13 13:00",
          "s22-10-13 17:00",
          "s22-10-13 21:00",
          "s22-10-14 01:00",
          "s22-10-14 05:00",
          "s22-10-14 09:00",
          "s22-10-14 13:00",
          "s22-10-14 17:00",
          "s22-10-16 21:00",
          "s22-10-17 01:00",
          "s22-10-17 05:00",
          "s22-10-17 09:00",
          "s22-10-17 13:00",
          "s22-10-17 17:00",
          "s22-10-17 21:00",
          "s22-10-18 01:00",
          "s22-10-18 05:00",
          "s22-10-18 09:00",
          "s22-10-18 13:00",
          "s22-10-18 17:00",
          "s22-10-18 21:00",
          "s22-10-19 01:00",
          "s22-10-19 05:00",
          "s22-10-19 09:00",
          "s22-10-19 13:00",
          "s22-10-19 17:00",
          "s22-10-19 21:00",
          "s22-10-20 01:00",
          "s22-10-20 05:00",
          "s22-10-20 09:00",
          "s22-10-20 13:00",
          "s22-10-20 17:00",
          "s22-10-20 21:00",
          "s22-10-21 01:00",
          "s22-10-21 05:00",
          "s22-10-21 09:00",
          "s22-10-21 13:00",
          "s22-10-21 17:00",
          "s22-10-23 21:00",
          "s22-10-24 01:00",
          "s22-10-24 05:00",
          "s22-10-24 09:00",
          "s22-10-24 13:00",
          "s22-10-24 17:00",
          "s22-10-24 21:00",
          "s22-10-25 01:00",
          "s22-10-25 05:00",
          "s22-10-25 09:00",
          "s22-10-25 13:00",
          "s22-10-25 17:00",
          "s22-10-25 21:00",
          "s22-10-26 01:00",
          "s22-10-26 05:00",
          "s22-10-26 09:00",
          "s22-10-26 13:00",
          "s22-10-26 17:00",
          "s22-10-26 21:00",
          "s22-10-27 01:00",
          "s22-10-27 05:00",
          "s22-10-27 09:00",
          "s22-10-27 13:00",
          "s22-10-27 17:00",
          "s22-10-27 21:00",
          "s22-10-28 01:00",
          "s22-10-28 05:00",
          "s22-10-28 09:00",
          "s22-10-28 13:00",
          "s22-10-28 17:00",
          "s22-10-30 21:00",
          "s22-10-31 01:00",
          "s22-10-31 05:00",
          "s22-10-31 09:00",
          "s22-10-31 13:00",
          "s22-10-31 17:00",
          "s22-10-31 21:00",
          "s22-11-01 01:00",
          "s22-11-01 05:00",
          "s22-11-01 09:00",
          "s22-11-01 13:00",
          "s22-11-01 17:00",
          "s22-11-01 21:00",
          "s22-11-02 01:00",
          "s22-11-02 05:00",
          "s22-11-02 09:00",
          "s22-11-02 13:00",
          "s22-11-02 17:00",
          "s22-11-02 21:00",
          "s22-11-03 01:00",
          "s22-11-03 05:00",
          "s22-11-03 09:00",
          "s22-11-03 13:00",
          "s22-11-03 17:00",
          "s22-11-03 21:00",
          "s22-11-04 01:00",
          "s22-11-04 05:00",
          "s22-11-04 09:00",
          "s22-11-04 13:00"
         ]
        }
       ],
       "layout": {
        "font": {
         "color": "#e1e1e1",
         "size": 8
        },
        "height": 400,
        "margin": {
         "b": 10,
         "l": 10,
         "r": 10,
         "t": 10
        },
        "paper_bgcolor": "#2c303c",
        "plot_bgcolor": "#2c303c",
        "template": {
         "data": {
          "bar": [
           {
            "error_x": {
             "color": "#2a3f5f"
            },
            "error_y": {
             "color": "#2a3f5f"
            },
            "marker": {
             "line": {
              "color": "#E5ECF6",
              "width": 0.5
             },
             "pattern": {
              "fillmode": "overlay",
              "size": 10,
              "solidity": 0.2
             }
            },
            "type": "bar"
           }
          ],
          "barpolar": [
           {
            "marker": {
             "line": {
              "color": "#E5ECF6",
              "width": 0.5
             },
             "pattern": {
              "fillmode": "overlay",
              "size": 10,
              "solidity": 0.2
             }
            },
            "type": "barpolar"
           }
          ],
          "carpet": [
           {
            "aaxis": {
             "endlinecolor": "#2a3f5f",
             "gridcolor": "white",
             "linecolor": "white",
             "minorgridcolor": "white",
             "startlinecolor": "#2a3f5f"
            },
            "baxis": {
             "endlinecolor": "#2a3f5f",
             "gridcolor": "white",
             "linecolor": "white",
             "minorgridcolor": "white",
             "startlinecolor": "#2a3f5f"
            },
            "type": "carpet"
           }
          ],
          "choropleth": [
           {
            "colorbar": {
             "outlinewidth": 0,
             "ticks": ""
            },
            "type": "choropleth"
           }
          ],
          "contour": [
           {
            "colorbar": {
             "outlinewidth": 0,
             "ticks": ""
            },
            "colorscale": [
             [
              0,
              "#0d0887"
             ],
             [
              0.1111111111111111,
              "#46039f"
             ],
             [
              0.2222222222222222,
              "#7201a8"
             ],
             [
              0.3333333333333333,
              "#9c179e"
             ],
             [
              0.4444444444444444,
              "#bd3786"
             ],
             [
              0.5555555555555556,
              "#d8576b"
             ],
             [
              0.6666666666666666,
              "#ed7953"
             ],
             [
              0.7777777777777778,
              "#fb9f3a"
             ],
             [
              0.8888888888888888,
              "#fdca26"
             ],
             [
              1,
              "#f0f921"
             ]
            ],
            "type": "contour"
           }
          ],
          "contourcarpet": [
           {
            "colorbar": {
             "outlinewidth": 0,
             "ticks": ""
            },
            "type": "contourcarpet"
           }
          ],
          "heatmap": [
           {
            "colorbar": {
             "outlinewidth": 0,
             "ticks": ""
            },
            "colorscale": [
             [
              0,
              "#0d0887"
             ],
             [
              0.1111111111111111,
              "#46039f"
             ],
             [
              0.2222222222222222,
              "#7201a8"
             ],
             [
              0.3333333333333333,
              "#9c179e"
             ],
             [
              0.4444444444444444,
              "#bd3786"
             ],
             [
              0.5555555555555556,
              "#d8576b"
             ],
             [
              0.6666666666666666,
              "#ed7953"
             ],
             [
              0.7777777777777778,
              "#fb9f3a"
             ],
             [
              0.8888888888888888,
              "#fdca26"
             ],
             [
              1,
              "#f0f921"
             ]
            ],
            "type": "heatmap"
           }
          ],
          "histogram": [
           {
            "marker": {
             "pattern": {
              "fillmode": "overlay",
              "size": 10,
              "solidity": 0.2
             }
            },
            "type": "histogram"
           }
          ],
          "histogram2d": [
           {
            "colorbar": {
             "outlinewidth": 0,
             "ticks": ""
            },
            "colorscale": [
             [
              0,
              "#0d0887"
             ],
             [
              0.1111111111111111,
              "#46039f"
             ],
             [
              0.2222222222222222,
              "#7201a8"
             ],
             [
              0.3333333333333333,
              "#9c179e"
             ],
             [
              0.4444444444444444,
              "#bd3786"
             ],
             [
              0.5555555555555556,
              "#d8576b"
             ],
             [
              0.6666666666666666,
              "#ed7953"
             ],
             [
              0.7777777777777778,
              "#fb9f3a"
             ],
             [
              0.8888888888888888,
              "#fdca26"
             ],
             [
              1,
              "#f0f921"
             ]
            ],
            "type": "histogram2d"
           }
          ],
          "histogram2dcontour": [
           {
            "colorbar": {
             "outlinewidth": 0,
             "ticks": ""
            },
            "colorscale": [
             [
              0,
              "#0d0887"
             ],
             [
              0.1111111111111111,
              "#46039f"
             ],
             [
              0.2222222222222222,
              "#7201a8"
             ],
             [
              0.3333333333333333,
              "#9c179e"
             ],
             [
              0.4444444444444444,
              "#bd3786"
             ],
             [
              0.5555555555555556,
              "#d8576b"
             ],
             [
              0.6666666666666666,
              "#ed7953"
             ],
             [
              0.7777777777777778,
              "#fb9f3a"
             ],
             [
              0.8888888888888888,
              "#fdca26"
             ],
             [
              1,
              "#f0f921"
             ]
            ],
            "type": "histogram2dcontour"
           }
          ],
          "mesh3d": [
           {
            "colorbar": {
             "outlinewidth": 0,
             "ticks": ""
            },
            "type": "mesh3d"
           }
          ],
          "parcoords": [
           {
            "line": {
             "colorbar": {
              "outlinewidth": 0,
              "ticks": ""
             }
            },
            "type": "parcoords"
           }
          ],
          "pie": [
           {
            "automargin": true,
            "type": "pie"
           }
          ],
          "scatter": [
           {
            "fillpattern": {
             "fillmode": "overlay",
             "size": 10,
             "solidity": 0.2
            },
            "type": "scatter"
           }
          ],
          "scatter3d": [
           {
            "line": {
             "colorbar": {
              "outlinewidth": 0,
              "ticks": ""
             }
            },
            "marker": {
             "colorbar": {
              "outlinewidth": 0,
              "ticks": ""
             }
            },
            "type": "scatter3d"
           }
          ],
          "scattercarpet": [
           {
            "marker": {
             "colorbar": {
              "outlinewidth": 0,
              "ticks": ""
             }
            },
            "type": "scattercarpet"
           }
          ],
          "scattergeo": [
           {
            "marker": {
             "colorbar": {
              "outlinewidth": 0,
              "ticks": ""
             }
            },
            "type": "scattergeo"
           }
          ],
          "scattergl": [
           {
            "marker": {
             "colorbar": {
              "outlinewidth": 0,
              "ticks": ""
             }
            },
            "type": "scattergl"
           }
          ],
          "scattermap": [
           {
            "marker": {
             "colorbar": {
              "outlinewidth": 0,
              "ticks": ""
             }
            },
            "type": "scattermap"
           }
          ],
          "scattermapbox": [
           {
            "marker": {
             "colorbar": {
              "outlinewidth": 0,
              "ticks": ""
             }
            },
            "type": "scattermapbox"
           }
          ],
          "scatterpolar": [
           {
            "marker": {
             "colorbar": {
              "outlinewidth": 0,
              "ticks": ""
             }
            },
            "type": "scatterpolar"
           }
          ],
          "scatterpolargl": [
           {
            "marker": {
             "colorbar": {
              "outlinewidth": 0,
              "ticks": ""
             }
            },
            "type": "scatterpolargl"
           }
          ],
          "scatterternary": [
           {
            "marker": {
             "colorbar": {
              "outlinewidth": 0,
              "ticks": ""
             }
            },
            "type": "scatterternary"
           }
          ],
          "surface": [
           {
            "colorbar": {
             "outlinewidth": 0,
             "ticks": ""
            },
            "colorscale": [
             [
              0,
              "#0d0887"
             ],
             [
              0.1111111111111111,
              "#46039f"
             ],
             [
              0.2222222222222222,
              "#7201a8"
             ],
             [
              0.3333333333333333,
              "#9c179e"
             ],
             [
              0.4444444444444444,
              "#bd3786"
             ],
             [
              0.5555555555555556,
              "#d8576b"
             ],
             [
              0.6666666666666666,
              "#ed7953"
             ],
             [
              0.7777777777777778,
              "#fb9f3a"
             ],
             [
              0.8888888888888888,
              "#fdca26"
             ],
             [
              1,
              "#f0f921"
             ]
            ],
            "type": "surface"
           }
          ],
          "table": [
           {
            "cells": {
             "fill": {
              "color": "#EBF0F8"
             },
             "line": {
              "color": "white"
             }
            },
            "header": {
             "fill": {
              "color": "#C8D4E3"
             },
             "line": {
              "color": "white"
             }
            },
            "type": "table"
           }
          ]
         },
         "layout": {
          "annotationdefaults": {
           "arrowcolor": "#2a3f5f",
           "arrowhead": 0,
           "arrowwidth": 1
          },
          "autotypenumbers": "strict",
          "coloraxis": {
           "colorbar": {
            "outlinewidth": 0,
            "ticks": ""
           }
          },
          "colorscale": {
           "diverging": [
            [
             0,
             "#8e0152"
            ],
            [
             0.1,
             "#c51b7d"
            ],
            [
             0.2,
             "#de77ae"
            ],
            [
             0.3,
             "#f1b6da"
            ],
            [
             0.4,
             "#fde0ef"
            ],
            [
             0.5,
             "#f7f7f7"
            ],
            [
             0.6,
             "#e6f5d0"
            ],
            [
             0.7,
             "#b8e186"
            ],
            [
             0.8,
             "#7fbc41"
            ],
            [
             0.9,
             "#4d9221"
            ],
            [
             1,
             "#276419"
            ]
           ],
           "sequential": [
            [
             0,
             "#0d0887"
            ],
            [
             0.1111111111111111,
             "#46039f"
            ],
            [
             0.2222222222222222,
             "#7201a8"
            ],
            [
             0.3333333333333333,
             "#9c179e"
            ],
            [
             0.4444444444444444,
             "#bd3786"
            ],
            [
             0.5555555555555556,
             "#d8576b"
            ],
            [
             0.6666666666666666,
             "#ed7953"
            ],
            [
             0.7777777777777778,
             "#fb9f3a"
            ],
            [
             0.8888888888888888,
             "#fdca26"
            ],
            [
             1,
             "#f0f921"
            ]
           ],
           "sequentialminus": [
            [
             0,
             "#0d0887"
            ],
            [
             0.1111111111111111,
             "#46039f"
            ],
            [
             0.2222222222222222,
             "#7201a8"
            ],
            [
             0.3333333333333333,
             "#9c179e"
            ],
            [
             0.4444444444444444,
             "#bd3786"
            ],
            [
             0.5555555555555556,
             "#d8576b"
            ],
            [
             0.6666666666666666,
             "#ed7953"
            ],
            [
             0.7777777777777778,
             "#fb9f3a"
            ],
            [
             0.8888888888888888,
             "#fdca26"
            ],
            [
             1,
             "#f0f921"
            ]
           ]
          },
          "colorway": [
           "#636efa",
           "#EF553B",
           "#00cc96",
           "#ab63fa",
           "#FFA15A",
           "#19d3f3",
           "#FF6692",
           "#B6E880",
           "#FF97FF",
           "#FECB52"
          ],
          "font": {
           "color": "#2a3f5f"
          },
          "geo": {
           "bgcolor": "white",
           "lakecolor": "white",
           "landcolor": "#E5ECF6",
           "showlakes": true,
           "showland": true,
           "subunitcolor": "white"
          },
          "hoverlabel": {
           "align": "left"
          },
          "hovermode": "closest",
          "mapbox": {
           "style": "light"
          },
          "paper_bgcolor": "white",
          "plot_bgcolor": "#E5ECF6",
          "polar": {
           "angularaxis": {
            "gridcolor": "white",
            "linecolor": "white",
            "ticks": ""
           },
           "bgcolor": "#E5ECF6",
           "radialaxis": {
            "gridcolor": "white",
            "linecolor": "white",
            "ticks": ""
           }
          },
          "scene": {
           "xaxis": {
            "backgroundcolor": "#E5ECF6",
            "gridcolor": "white",
            "gridwidth": 2,
            "linecolor": "white",
            "showbackground": true,
            "ticks": "",
            "zerolinecolor": "white"
           },
           "yaxis": {
            "backgroundcolor": "#E5ECF6",
            "gridcolor": "white",
            "gridwidth": 2,
            "linecolor": "white",
            "showbackground": true,
            "ticks": "",
            "zerolinecolor": "white"
           },
           "zaxis": {
            "backgroundcolor": "#E5ECF6",
            "gridcolor": "white",
            "gridwidth": 2,
            "linecolor": "white",
            "showbackground": true,
            "ticks": "",
            "zerolinecolor": "white"
           }
          },
          "shapedefaults": {
           "line": {
            "color": "#2a3f5f"
           }
          },
          "ternary": {
           "aaxis": {
            "gridcolor": "white",
            "linecolor": "white",
            "ticks": ""
           },
           "baxis": {
            "gridcolor": "white",
            "linecolor": "white",
            "ticks": ""
           },
           "bgcolor": "#E5ECF6",
           "caxis": {
            "gridcolor": "white",
            "linecolor": "white",
            "ticks": ""
           }
          },
          "title": {
           "x": 0.05
          },
          "xaxis": {
           "automargin": true,
           "gridcolor": "white",
           "linecolor": "white",
           "ticks": "",
           "title": {
            "standoff": 15
           },
           "zerolinecolor": "white",
           "zerolinewidth": 2
          },
          "yaxis": {
           "automargin": true,
           "gridcolor": "white",
           "linecolor": "white",
           "ticks": "",
           "title": {
            "standoff": 15
           },
           "zerolinecolor": "white",
           "zerolinewidth": 2
          }
         }
        },
        "width": 900,
        "xaxis": {
         "gridcolor": "#1f292f",
         "nticks": 5,
         "rangeslider": {
          "visible": false
         }
        },
        "yaxis": {
         "gridcolor": "#1f292f"
        }
       }
      }
     },
     "metadata": {},
     "output_type": "display_data"
    }
   ],
   "source": [
    "fig = go.Figure()\n",
    "fig.add_trace(go.Candlestick(\n",
    "    x = df_plot.sTime,\n",
    "    open = df_plot.mid_o,\n",
    "    high= df_plot.mid_h,\n",
    "    low = df_plot.mid_l,\n",
    "    close = df_plot.mid_c,\n",
    "    line=dict(width=1), opacity=1,\n",
    "    increasing_fillcolor = \"#24A06B\",\n",
    "    decreasing_fillcolor=\"#CC2E3C\",\n",
    "    increasing_line_color = \"#2EC886\",\n",
    "    decreasing_line_color = \"#FF3A4C\"\n",
    "))\n",
    "fig.update_yaxes(\n",
    "    gridcolor = \"#1f292f\"\n",
    ")\n",
    "\n",
    "fig.update_xaxes(\n",
    "    gridcolor = \"#1f292f\",\n",
    "    rangeslider=dict(visible=False),\n",
    "    nticks = 5\n",
    ")\n",
    "\n",
    "fig.update_layout(\n",
    "    width=900,\n",
    "    height=400,\n",
    "    margin=dict(l=10, r=10, b=10, t=10),\n",
    "    paper_bgcolor = \"#2c303c\",\n",
    "    plot_bgcolor = \"#2c303c\",\n",
    "    font=dict(size=8, color=\"#e1e1e1\"),\n",
    "\n",
    ")\n",
    "\n",
    "fig.show()"
   ]
  },
  {
   "cell_type": "code",
   "execution_count": null,
   "id": "60196171",
   "metadata": {},
   "outputs": [],
   "source": []
  }
 ],
 "metadata": {
  "kernelspec": {
   "display_name": "trade-framework-nii59TSx-py3.12",
   "language": "python",
   "name": "python3"
  },
  "language_info": {
   "codemirror_mode": {
    "name": "ipython",
    "version": 3
   },
   "file_extension": ".py",
   "mimetype": "text/x-python",
   "name": "python",
   "nbconvert_exporter": "python",
   "pygments_lexer": "ipython3",
   "version": "3.12.7"
  }
 },
 "nbformat": 4,
 "nbformat_minor": 5
}
