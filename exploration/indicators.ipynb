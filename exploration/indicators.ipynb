{
 "cells": [
  {
   "cell_type": "code",
   "execution_count": 1,
   "id": "13e28d8e",
   "metadata": {},
   "outputs": [],
   "source": [
    "import sys \n",
    "sys.path.append(\"../\")\n",
    "from plotting import CandlePlot\n",
    "import pandas as pd \n",
    "from technical.indicators import ATR, keltner_channels, rsi, macd"
   ]
  },
  {
   "cell_type": "code",
   "execution_count": 2,
   "id": "79bb5b2e",
   "metadata": {},
   "outputs": [],
   "source": [
    "df = pd.read_pickle(\"../data/AUD_CAD_H1.pkl\")"
   ]
  },
  {
   "cell_type": "code",
   "execution_count": 3,
   "id": "45166915",
   "metadata": {},
   "outputs": [],
   "source": [
    "df_an = df.copy()"
   ]
  },
  {
   "cell_type": "code",
   "execution_count": 4,
   "id": "6307760f",
   "metadata": {},
   "outputs": [],
   "source": [
    "df_an = macd(df_an)"
   ]
  },
  {
   "cell_type": "code",
   "execution_count": 5,
   "id": "b673d6f4",
   "metadata": {},
   "outputs": [
    {
     "data": {
      "application/vnd.plotly.v1+json": {
       "config": {
        "plotlyServerURL": "https://plot.ly"
       },
       "data": [
        {
         "close": {
          "bdata": "I9v5fmq87D/rHAOy17vsP2O5pdWQuOw/LCtNSkG37D+AYI4ev7fsPzV7oBUYsuw/QPuRIjKs7D/bheY6jbTsP7yuX7Abtuw/mUf+YOC57D8FNBE2PL3sP0ZCW86luOw/54wo7Q2+7D/vrN12obnsP2TpQxfUt+w/KcsQx7q47D+zXgzlRLvsPxHkoISZtuw/vw6cM6K07D8N/RNcrKjsP2ACt+7mqew/9kVCW86l7D+DaRg+IqbsP+llFMstrew/Fk1nJ4Oj7D89m1Wfq63sP97lIr4Ts+w/lDDT9q+s7D/PTgZHyavsP8u+K4L/rew/MxtkkpGz7D9sCfmgZ7PsP5Qw0/avrOw/W0I+6Nms7D8f9GxWfa7sP/ksz4O7s+w/HZQw0/av7D8+y/Pg7qzsP3VZTGw+ruw/G2SSkbOw7D/pZRTLLa3sP+qVsgxxrOw/zR5oBYas7D+YwK27earsP8X+snvysOw//bypSIWx7D/3zJIANbXsPzV7oBUYsuw/xf6ye/Kw7D9aEqCmlq3sPw4tsp3vp+w/bmk1JO6x7D/hRV9BmrHsPx2UMNP2r+w/Bg39E1ys7D8MzXUaaansP4uJzce1oew/P3RBfcuc7D9FuwopP6nsPwStwJDVrew/v7fpz36k7D8DJnDrbp7sPzm0yHa+n+w/GH0Facai7D9V+3Q8ZqDsPy8012mkpew/cEIhAg6h7D+hEAGHUKXsP16iemtgq+w/W0I+6Nms7D/LviuC/63sP+llFMstrew/IlSp2QOt7D/e5SK+E7PsPyU7NgLxuuw/46WbxCCw7D81e6AVGLLsPxIUP8bctew/KJtyhXe57D82AvG6fsHsP6oOuRluwOw/OWItPgXA7D8IlE25wrvsP3cQO1PovOw/q+ek942v7D9+qZ83FansP6hXyjLEsew/ZkmAmlq27D8tW+uLhLbsP9Pe4AuTqew/ONvcmJ6w7D88FAX6RJ7sPyntDb4wmew/7Z48LNSa7D/qPgCpTZzsP4CCixU1mOw/TrSrkPKT7D+/YDdsW5TsP8rgKHl1juw/yxDHuriN7D8=",
          "dtype": "f8"
         },
         "decreasing": {
          "fillcolor": "#CC2E3C",
          "line": {
           "color": "#FF3A4C"
          }
         },
         "high": {
          "bdata": "dbD+z2G+7D87wmnBi77sP1Sp2QOtwOw/lbcjnBa87D990LNZ9bnsP38w8Nx7uOw/DVTGv8+47D++3v3xXrXsP9j1C3bDtuw/XynLEMe67D8C1NSytb7sPyB7vfvjvew/qz5XW7G/7D/kLOxph7/sP+rsZHCUvOw/0QX1LXO67D924JwRpb3sP8aFAyFZwOw/EeSghJm27D+7fsFu2LbsP+YF2Eenruw/cclxp3Sw7D+VYHE486vsP49wWvCir+w/kdCWcymu7D+HUKVmD7TsP97lIr4Ts+w/VoLF4cyv7D8BTYQNT6/sP1jiAWVTruw/SwLU1LK17D9HcvkP6bfsP2wJ+aBns+w/MxtkkpGz7D86OxkcJa/sP4dQpWYPtOw/MevFUE607D/8jAsHQrLsP3CZ02Uxsew/qFfKMsSx7D/F/rJ78rDsP+J1/YLdsOw/q+ek942v7D85C3va4a/sPxo09E9wsew/GQRWDi2y7D/0bFZ9rrbsP/fMkgA1tew/+1xtxf6y7D+MEB5tHLHsP4PAyqFFtuw/F9S3zOmy7D9OYhBYObTsPxkEVg4tsuw/qYdodAex7D+xpx3+mqzsPybkg57Nquw/h/nyAuyj7D/T3uALk6nsP3Qprir7ruw/qFfKMsSx7D9oImx4eqXsP6kwthDkoOw/3C4012mk7D9jYvNxbajsP0p7gy9Mpuw/KnReY5eo7D8qdF5jl6jsPwXdXtIYrew/rRdDOdGu7D9y+Q/pt6/sP8X+snvysOw/kdCWcymu7D9sCfmgZ7PsPyU7NgLxuuw/0NVW7C+77D8tW+uLhLbsP2TpQxfUt+w/fdCzWfW57D/fbHNjesLsP/qzHykiw+w/ob5lTpfF7D+I1/ULdsPsP1Sp2QOtwOw/sP7PYb687D9TIoleRrHsP98Vwf9Wsuw/Y7ml1ZC47D+4HoXrUbjsP9RlMbH5uOw/T5KumXyz7D8aNPRPcLHsP+IeSx+6oOw/z/dT46Wb7D88FAX6RJ7sP5OpglFJnew/zJcXYB+d7D8wDcNHxJTsP197ZkmAmuw/5Pc2/dmP7D8=",
          "dtype": "f8"
         },
         "increasing": {
          "fillcolor": "#24A06B",
          "line": {
           "color": "#2EC886"
          }
         },
         "line": {
          "width": 1
         },
         "low": {
          "bdata": "76zddqG57D9D4h5LH7rsP2O5pdWQuOw/hPBo44i17D8VdHtJY7TsP5HQlnMpruw/eekmMQis7D+DaRg+IqbsP8X+snvysOw/24XmOo207D9LAtTUsrXsP2ZJgJpatuw/ndfYJaq37D8om3KFd7nsPy1b64uEtuw/2SWqtwa27D+4HoXrUbjsP8A+OnXls+w/z04GR8mr7D/z5QXYR6fsP0urIXGPpew/aCJseHql7D9PO/w1WaPsP/5l9+Rhoew/Fk1nJ4Oj7D809E9wsaLsP23i5H6Houw/3C4012mk7D8m5IOezarsP2Ni83FtqOw/BK3AkNWt7D+L4H8r2bHsP+vFUE60q+w/Bg39E1ys7D9BKzBkdavsPyS05VyKq+w/lDDT9q+s7D/uJY3ROqrsP7LXuz/eq+w/IlSp2QOt7D/QfqSIDKvsPybkg57Nquw/7iWN0Tqq7D/T3uALk6nsPyhEwCFUqew/kdCWcymu7D+oV8oyxLHsPzV7oBUYsuw/VFInoImw7D94uYjvxKzsP/PlBdhHp+w/SUvl7Qin7D+R0JZzKa7sPyOERxtHrOw/68VQTrSr7D8SvYxiuaXsP/5l9+Rhoew/Iy2VtyOc7D/qPgCpTZzsP03bv7LSpOw/iSmRRC+j7D/tnjws1JrsPyMtlbcjnOw/V1uxv+ye7D/LZ3ke3J3sP5YJv9TPm+w/6N7DJced7D9ApN++DpzsP9r+lZUmpew/LNSa5h2n7D+y17s/3qvsP0D7kSIyrOw/tTf4wmSq7D/a/pWVJqXsPycUIuAQquw/VoLF4cyv7D+XkA96NqvsP8u+K4L/rew/pMfvbfqz7D9k6UMX1LfsP+eMKO0Nvuw/yeU/pN++7D9BguLHmLvsP2GJB5RNuew/dVlMbD6u7D+3lzRG66jsPyzUmuYdp+w/jBAebRyx7D/5LM+Du7PsP0p7gy9Mpuw/2v6VlSal7D+0sKcd/prsPxE2PL1Sluw/o+nsZHCU7D8NpmH4iJjsP4CCixU1mOw/igJ9Ik+S7D/k9zb92Y/sP3Wr56T3jew/Q61p3nGK7D8=",
          "dtype": "f8"
         },
         "opacity": 1,
         "open": {
          "bdata": "si5uowG87D/q7GRwlLzsPwiUTbnCu+w/K/uuCP637D9JopdRLLfsPw6EZAETuOw/NXugFRiy7D/NHmgFhqzsP9uF5jqNtOw/2SWqtwa27D/vrN12obnsPwU0ETY8vew/nKc65Ga47D8EBHP0+L3sP++s3Xahuew/D7QCQ1a37D8NVMa/z7jsP3pwd9Zuu+w/StI1k2+27D+/DpwzorTsP7eXNEbrqOw/097gC5Op7D+DaRg+IqbsP0p7gy9Mpuw/IlSp2QOt7D/dXtIYraPsP23i5H6Houw/DM11Gmmp7D9bQj7o2azsP3npJjEIrOw/rkfhehSu7D/Bbti2KLPsP/tcbcX+suw/IlSp2QOt7D8jhEcbR6zsPzxrt11oruw/h1ClZg+07D8dlDDT9q/sP1tCPujZrOw/y74rgv+t7D8429yYnrDsP693f7xXrew/XHLcKR2s7D94uYjvxKzsPwqd19glquw/cclxp3Sw7D+oV8oyxLHsP2mpvB3htOw//IwLB0Ky7D/idf2C3bDsP+llFMstrew/nYAmwoan7D/hRV9BmrHsP4vgfyvZsew/j3Ba8KKv7D9A+5EiMqzsPwzNdRppqew/i4nNx7Wh7D/qPgCpTZzsP36pnzcVqew/6WUUyy2t7D/4pX7eVKTsP5BJRs7Cnuw/x9eeWRKg7D809E9wsaLsP47pCUs8oOw/LzTXaaSl7D/h7qzddqHsP2gibHh6pew/XqJ6a2Cr7D94uYjvxKzsPz2bVZ+rrew/r3d/vFet7D/pZRTLLa3sP3VZTGw+ruw/mBdgH5267D/HLlG9NbDsP6YnLPGAsuw/2SWqtwa27D9+AFKbOLnsP2/whclUwew/jZduEoPA7D85Yi0+BcDsP+scA7LXu+w/zXUaaam87D/l1TkGZK/sP/CFyVTBqOw/bmk1JO6x7D8tW+uLhLbsP0rSNZNvtuw/RbsKKT+p7D8429yYnrDsPwMmcOtunuw/7/54r1qZ7D9fe2ZJgJrsP7FQa5p3nOw/DaZh+IiY7D+j6exkcJTsPzNt/8pKk+w/yxDHuriN7D8=",
          "dtype": "f8"
         },
         "type": "candlestick",
         "x": [
          "s24-12-23 20:00",
          "s24-12-23 21:00",
          "s24-12-23 22:00",
          "s24-12-23 23:00",
          "s24-12-24 00:00",
          "s24-12-24 01:00",
          "s24-12-24 02:00",
          "s24-12-24 03:00",
          "s24-12-24 04:00",
          "s24-12-24 05:00",
          "s24-12-24 06:00",
          "s24-12-24 07:00",
          "s24-12-24 08:00",
          "s24-12-24 09:00",
          "s24-12-24 10:00",
          "s24-12-24 11:00",
          "s24-12-24 12:00",
          "s24-12-24 13:00",
          "s24-12-24 14:00",
          "s24-12-24 15:00",
          "s24-12-24 16:00",
          "s24-12-24 17:00",
          "s24-12-24 18:00",
          "s24-12-24 19:00",
          "s24-12-24 20:00",
          "s24-12-24 21:00",
          "s24-12-25 22:00",
          "s24-12-25 23:00",
          "s24-12-26 00:00",
          "s24-12-26 01:00",
          "s24-12-26 02:00",
          "s24-12-26 03:00",
          "s24-12-26 04:00",
          "s24-12-26 05:00",
          "s24-12-26 06:00",
          "s24-12-26 07:00",
          "s24-12-26 08:00",
          "s24-12-26 09:00",
          "s24-12-26 10:00",
          "s24-12-26 11:00",
          "s24-12-26 12:00",
          "s24-12-26 13:00",
          "s24-12-26 14:00",
          "s24-12-26 15:00",
          "s24-12-26 16:00",
          "s24-12-26 17:00",
          "s24-12-26 18:00",
          "s24-12-26 19:00",
          "s24-12-26 20:00",
          "s24-12-26 21:00",
          "s24-12-26 22:00",
          "s24-12-26 23:00",
          "s24-12-27 00:00",
          "s24-12-27 01:00",
          "s24-12-27 02:00",
          "s24-12-27 03:00",
          "s24-12-27 04:00",
          "s24-12-27 05:00",
          "s24-12-27 06:00",
          "s24-12-27 07:00",
          "s24-12-27 08:00",
          "s24-12-27 09:00",
          "s24-12-27 10:00",
          "s24-12-27 11:00",
          "s24-12-27 12:00",
          "s24-12-27 13:00",
          "s24-12-27 14:00",
          "s24-12-27 15:00",
          "s24-12-27 16:00",
          "s24-12-27 17:00",
          "s24-12-27 18:00",
          "s24-12-27 19:00",
          "s24-12-27 20:00",
          "s24-12-27 21:00",
          "s24-12-29 22:00",
          "s24-12-29 23:00",
          "s24-12-30 00:00",
          "s24-12-30 01:00",
          "s24-12-30 02:00",
          "s24-12-30 03:00",
          "s24-12-30 04:00",
          "s24-12-30 05:00",
          "s24-12-30 06:00",
          "s24-12-30 07:00",
          "s24-12-30 08:00",
          "s24-12-30 09:00",
          "s24-12-30 10:00",
          "s24-12-30 11:00",
          "s24-12-30 12:00",
          "s24-12-30 13:00",
          "s24-12-30 14:00",
          "s24-12-30 15:00",
          "s24-12-30 16:00",
          "s24-12-30 17:00",
          "s24-12-30 18:00",
          "s24-12-30 19:00",
          "s24-12-30 20:00",
          "s24-12-30 21:00",
          "s24-12-30 22:00",
          "s24-12-30 23:00"
         ]
        }
       ],
       "layout": {
        "font": {
         "color": "#e1e1e1",
         "size": 8
        },
        "height": 900,
        "margin": {
         "b": 10,
         "l": 10,
         "r": 10,
         "t": 10
        },
        "paper_bgcolor": "#2c303c",
        "plot_bgcolor": "#2c303c",
        "template": {
         "data": {
          "bar": [
           {
            "error_x": {
             "color": "#2a3f5f"
            },
            "error_y": {
             "color": "#2a3f5f"
            },
            "marker": {
             "line": {
              "color": "#E5ECF6",
              "width": 0.5
             },
             "pattern": {
              "fillmode": "overlay",
              "size": 10,
              "solidity": 0.2
             }
            },
            "type": "bar"
           }
          ],
          "barpolar": [
           {
            "marker": {
             "line": {
              "color": "#E5ECF6",
              "width": 0.5
             },
             "pattern": {
              "fillmode": "overlay",
              "size": 10,
              "solidity": 0.2
             }
            },
            "type": "barpolar"
           }
          ],
          "carpet": [
           {
            "aaxis": {
             "endlinecolor": "#2a3f5f",
             "gridcolor": "white",
             "linecolor": "white",
             "minorgridcolor": "white",
             "startlinecolor": "#2a3f5f"
            },
            "baxis": {
             "endlinecolor": "#2a3f5f",
             "gridcolor": "white",
             "linecolor": "white",
             "minorgridcolor": "white",
             "startlinecolor": "#2a3f5f"
            },
            "type": "carpet"
           }
          ],
          "choropleth": [
           {
            "colorbar": {
             "outlinewidth": 0,
             "ticks": ""
            },
            "type": "choropleth"
           }
          ],
          "contour": [
           {
            "colorbar": {
             "outlinewidth": 0,
             "ticks": ""
            },
            "colorscale": [
             [
              0,
              "#0d0887"
             ],
             [
              0.1111111111111111,
              "#46039f"
             ],
             [
              0.2222222222222222,
              "#7201a8"
             ],
             [
              0.3333333333333333,
              "#9c179e"
             ],
             [
              0.4444444444444444,
              "#bd3786"
             ],
             [
              0.5555555555555556,
              "#d8576b"
             ],
             [
              0.6666666666666666,
              "#ed7953"
             ],
             [
              0.7777777777777778,
              "#fb9f3a"
             ],
             [
              0.8888888888888888,
              "#fdca26"
             ],
             [
              1,
              "#f0f921"
             ]
            ],
            "type": "contour"
           }
          ],
          "contourcarpet": [
           {
            "colorbar": {
             "outlinewidth": 0,
             "ticks": ""
            },
            "type": "contourcarpet"
           }
          ],
          "heatmap": [
           {
            "colorbar": {
             "outlinewidth": 0,
             "ticks": ""
            },
            "colorscale": [
             [
              0,
              "#0d0887"
             ],
             [
              0.1111111111111111,
              "#46039f"
             ],
             [
              0.2222222222222222,
              "#7201a8"
             ],
             [
              0.3333333333333333,
              "#9c179e"
             ],
             [
              0.4444444444444444,
              "#bd3786"
             ],
             [
              0.5555555555555556,
              "#d8576b"
             ],
             [
              0.6666666666666666,
              "#ed7953"
             ],
             [
              0.7777777777777778,
              "#fb9f3a"
             ],
             [
              0.8888888888888888,
              "#fdca26"
             ],
             [
              1,
              "#f0f921"
             ]
            ],
            "type": "heatmap"
           }
          ],
          "histogram": [
           {
            "marker": {
             "pattern": {
              "fillmode": "overlay",
              "size": 10,
              "solidity": 0.2
             }
            },
            "type": "histogram"
           }
          ],
          "histogram2d": [
           {
            "colorbar": {
             "outlinewidth": 0,
             "ticks": ""
            },
            "colorscale": [
             [
              0,
              "#0d0887"
             ],
             [
              0.1111111111111111,
              "#46039f"
             ],
             [
              0.2222222222222222,
              "#7201a8"
             ],
             [
              0.3333333333333333,
              "#9c179e"
             ],
             [
              0.4444444444444444,
              "#bd3786"
             ],
             [
              0.5555555555555556,
              "#d8576b"
             ],
             [
              0.6666666666666666,
              "#ed7953"
             ],
             [
              0.7777777777777778,
              "#fb9f3a"
             ],
             [
              0.8888888888888888,
              "#fdca26"
             ],
             [
              1,
              "#f0f921"
             ]
            ],
            "type": "histogram2d"
           }
          ],
          "histogram2dcontour": [
           {
            "colorbar": {
             "outlinewidth": 0,
             "ticks": ""
            },
            "colorscale": [
             [
              0,
              "#0d0887"
             ],
             [
              0.1111111111111111,
              "#46039f"
             ],
             [
              0.2222222222222222,
              "#7201a8"
             ],
             [
              0.3333333333333333,
              "#9c179e"
             ],
             [
              0.4444444444444444,
              "#bd3786"
             ],
             [
              0.5555555555555556,
              "#d8576b"
             ],
             [
              0.6666666666666666,
              "#ed7953"
             ],
             [
              0.7777777777777778,
              "#fb9f3a"
             ],
             [
              0.8888888888888888,
              "#fdca26"
             ],
             [
              1,
              "#f0f921"
             ]
            ],
            "type": "histogram2dcontour"
           }
          ],
          "mesh3d": [
           {
            "colorbar": {
             "outlinewidth": 0,
             "ticks": ""
            },
            "type": "mesh3d"
           }
          ],
          "parcoords": [
           {
            "line": {
             "colorbar": {
              "outlinewidth": 0,
              "ticks": ""
             }
            },
            "type": "parcoords"
           }
          ],
          "pie": [
           {
            "automargin": true,
            "type": "pie"
           }
          ],
          "scatter": [
           {
            "fillpattern": {
             "fillmode": "overlay",
             "size": 10,
             "solidity": 0.2
            },
            "type": "scatter"
           }
          ],
          "scatter3d": [
           {
            "line": {
             "colorbar": {
              "outlinewidth": 0,
              "ticks": ""
             }
            },
            "marker": {
             "colorbar": {
              "outlinewidth": 0,
              "ticks": ""
             }
            },
            "type": "scatter3d"
           }
          ],
          "scattercarpet": [
           {
            "marker": {
             "colorbar": {
              "outlinewidth": 0,
              "ticks": ""
             }
            },
            "type": "scattercarpet"
           }
          ],
          "scattergeo": [
           {
            "marker": {
             "colorbar": {
              "outlinewidth": 0,
              "ticks": ""
             }
            },
            "type": "scattergeo"
           }
          ],
          "scattergl": [
           {
            "marker": {
             "colorbar": {
              "outlinewidth": 0,
              "ticks": ""
             }
            },
            "type": "scattergl"
           }
          ],
          "scattermap": [
           {
            "marker": {
             "colorbar": {
              "outlinewidth": 0,
              "ticks": ""
             }
            },
            "type": "scattermap"
           }
          ],
          "scattermapbox": [
           {
            "marker": {
             "colorbar": {
              "outlinewidth": 0,
              "ticks": ""
             }
            },
            "type": "scattermapbox"
           }
          ],
          "scatterpolar": [
           {
            "marker": {
             "colorbar": {
              "outlinewidth": 0,
              "ticks": ""
             }
            },
            "type": "scatterpolar"
           }
          ],
          "scatterpolargl": [
           {
            "marker": {
             "colorbar": {
              "outlinewidth": 0,
              "ticks": ""
             }
            },
            "type": "scatterpolargl"
           }
          ],
          "scatterternary": [
           {
            "marker": {
             "colorbar": {
              "outlinewidth": 0,
              "ticks": ""
             }
            },
            "type": "scatterternary"
           }
          ],
          "surface": [
           {
            "colorbar": {
             "outlinewidth": 0,
             "ticks": ""
            },
            "colorscale": [
             [
              0,
              "#0d0887"
             ],
             [
              0.1111111111111111,
              "#46039f"
             ],
             [
              0.2222222222222222,
              "#7201a8"
             ],
             [
              0.3333333333333333,
              "#9c179e"
             ],
             [
              0.4444444444444444,
              "#bd3786"
             ],
             [
              0.5555555555555556,
              "#d8576b"
             ],
             [
              0.6666666666666666,
              "#ed7953"
             ],
             [
              0.7777777777777778,
              "#fb9f3a"
             ],
             [
              0.8888888888888888,
              "#fdca26"
             ],
             [
              1,
              "#f0f921"
             ]
            ],
            "type": "surface"
           }
          ],
          "table": [
           {
            "cells": {
             "fill": {
              "color": "#EBF0F8"
             },
             "line": {
              "color": "white"
             }
            },
            "header": {
             "fill": {
              "color": "#C8D4E3"
             },
             "line": {
              "color": "white"
             }
            },
            "type": "table"
           }
          ]
         },
         "layout": {
          "annotationdefaults": {
           "arrowcolor": "#2a3f5f",
           "arrowhead": 0,
           "arrowwidth": 1
          },
          "autotypenumbers": "strict",
          "coloraxis": {
           "colorbar": {
            "outlinewidth": 0,
            "ticks": ""
           }
          },
          "colorscale": {
           "diverging": [
            [
             0,
             "#8e0152"
            ],
            [
             0.1,
             "#c51b7d"
            ],
            [
             0.2,
             "#de77ae"
            ],
            [
             0.3,
             "#f1b6da"
            ],
            [
             0.4,
             "#fde0ef"
            ],
            [
             0.5,
             "#f7f7f7"
            ],
            [
             0.6,
             "#e6f5d0"
            ],
            [
             0.7,
             "#b8e186"
            ],
            [
             0.8,
             "#7fbc41"
            ],
            [
             0.9,
             "#4d9221"
            ],
            [
             1,
             "#276419"
            ]
           ],
           "sequential": [
            [
             0,
             "#0d0887"
            ],
            [
             0.1111111111111111,
             "#46039f"
            ],
            [
             0.2222222222222222,
             "#7201a8"
            ],
            [
             0.3333333333333333,
             "#9c179e"
            ],
            [
             0.4444444444444444,
             "#bd3786"
            ],
            [
             0.5555555555555556,
             "#d8576b"
            ],
            [
             0.6666666666666666,
             "#ed7953"
            ],
            [
             0.7777777777777778,
             "#fb9f3a"
            ],
            [
             0.8888888888888888,
             "#fdca26"
            ],
            [
             1,
             "#f0f921"
            ]
           ],
           "sequentialminus": [
            [
             0,
             "#0d0887"
            ],
            [
             0.1111111111111111,
             "#46039f"
            ],
            [
             0.2222222222222222,
             "#7201a8"
            ],
            [
             0.3333333333333333,
             "#9c179e"
            ],
            [
             0.4444444444444444,
             "#bd3786"
            ],
            [
             0.5555555555555556,
             "#d8576b"
            ],
            [
             0.6666666666666666,
             "#ed7953"
            ],
            [
             0.7777777777777778,
             "#fb9f3a"
            ],
            [
             0.8888888888888888,
             "#fdca26"
            ],
            [
             1,
             "#f0f921"
            ]
           ]
          },
          "colorway": [
           "#636efa",
           "#EF553B",
           "#00cc96",
           "#ab63fa",
           "#FFA15A",
           "#19d3f3",
           "#FF6692",
           "#B6E880",
           "#FF97FF",
           "#FECB52"
          ],
          "font": {
           "color": "#2a3f5f"
          },
          "geo": {
           "bgcolor": "white",
           "lakecolor": "white",
           "landcolor": "#E5ECF6",
           "showlakes": true,
           "showland": true,
           "subunitcolor": "white"
          },
          "hoverlabel": {
           "align": "left"
          },
          "hovermode": "closest",
          "mapbox": {
           "style": "light"
          },
          "paper_bgcolor": "white",
          "plot_bgcolor": "#E5ECF6",
          "polar": {
           "angularaxis": {
            "gridcolor": "white",
            "linecolor": "white",
            "ticks": ""
           },
           "bgcolor": "#E5ECF6",
           "radialaxis": {
            "gridcolor": "white",
            "linecolor": "white",
            "ticks": ""
           }
          },
          "scene": {
           "xaxis": {
            "backgroundcolor": "#E5ECF6",
            "gridcolor": "white",
            "gridwidth": 2,
            "linecolor": "white",
            "showbackground": true,
            "ticks": "",
            "zerolinecolor": "white"
           },
           "yaxis": {
            "backgroundcolor": "#E5ECF6",
            "gridcolor": "white",
            "gridwidth": 2,
            "linecolor": "white",
            "showbackground": true,
            "ticks": "",
            "zerolinecolor": "white"
           },
           "zaxis": {
            "backgroundcolor": "#E5ECF6",
            "gridcolor": "white",
            "gridwidth": 2,
            "linecolor": "white",
            "showbackground": true,
            "ticks": "",
            "zerolinecolor": "white"
           }
          },
          "shapedefaults": {
           "line": {
            "color": "#2a3f5f"
           }
          },
          "ternary": {
           "aaxis": {
            "gridcolor": "white",
            "linecolor": "white",
            "ticks": ""
           },
           "baxis": {
            "gridcolor": "white",
            "linecolor": "white",
            "ticks": ""
           },
           "bgcolor": "#E5ECF6",
           "caxis": {
            "gridcolor": "white",
            "linecolor": "white",
            "ticks": ""
           }
          },
          "title": {
           "x": 0.05
          },
          "xaxis": {
           "automargin": true,
           "gridcolor": "white",
           "linecolor": "white",
           "ticks": "",
           "title": {
            "standoff": 15
           },
           "zerolinecolor": "white",
           "zerolinewidth": 2
          },
          "yaxis": {
           "automargin": true,
           "gridcolor": "white",
           "linecolor": "white",
           "ticks": "",
           "title": {
            "standoff": 15
           },
           "zerolinecolor": "white",
           "zerolinewidth": 2
          }
         }
        },
        "width": 900,
        "xaxis": {
         "anchor": "y",
         "domain": [
          0,
          0.94
         ],
         "gridcolor": "#1f292f",
         "nticks": 5,
         "rangeslider": {
          "visible": false
         }
        },
        "yaxis": {
         "anchor": "x",
         "domain": [
          0,
          1
         ],
         "gridcolor": "#1f292f"
        },
        "yaxis2": {
         "anchor": "x",
         "gridcolor": "#1f292f",
         "overlaying": "y",
         "side": "right"
        }
       }
      }
     },
     "metadata": {},
     "output_type": "display_data"
    }
   ],
   "source": [
    "dfp = df_an.iloc[-100:]\n",
    "cp = CandlePlot(dfp, candles=True)\n",
    "cp.show_plot(line_traces=[], sec_traces=[])"
   ]
  },
  {
   "cell_type": "code",
   "execution_count": 6,
   "id": "3f283068",
   "metadata": {},
   "outputs": [
    {
     "data": {
      "application/vnd.plotly.v1+json": {
       "config": {
        "plotlyServerURL": "https://plot.ly"
       },
       "data": [
        {
         "line": {
          "shape": "spline",
          "width": 2
         },
         "name": "SIGNAL",
         "type": "scatter",
         "x": [
          "s24-12-23 20:00",
          "s24-12-23 21:00",
          "s24-12-23 22:00",
          "s24-12-23 23:00",
          "s24-12-24 00:00",
          "s24-12-24 01:00",
          "s24-12-24 02:00",
          "s24-12-24 03:00",
          "s24-12-24 04:00",
          "s24-12-24 05:00",
          "s24-12-24 06:00",
          "s24-12-24 07:00",
          "s24-12-24 08:00",
          "s24-12-24 09:00",
          "s24-12-24 10:00",
          "s24-12-24 11:00",
          "s24-12-24 12:00",
          "s24-12-24 13:00",
          "s24-12-24 14:00",
          "s24-12-24 15:00",
          "s24-12-24 16:00",
          "s24-12-24 17:00",
          "s24-12-24 18:00",
          "s24-12-24 19:00",
          "s24-12-24 20:00",
          "s24-12-24 21:00",
          "s24-12-25 22:00",
          "s24-12-25 23:00",
          "s24-12-26 00:00",
          "s24-12-26 01:00",
          "s24-12-26 02:00",
          "s24-12-26 03:00",
          "s24-12-26 04:00",
          "s24-12-26 05:00",
          "s24-12-26 06:00",
          "s24-12-26 07:00",
          "s24-12-26 08:00",
          "s24-12-26 09:00",
          "s24-12-26 10:00",
          "s24-12-26 11:00",
          "s24-12-26 12:00",
          "s24-12-26 13:00",
          "s24-12-26 14:00",
          "s24-12-26 15:00",
          "s24-12-26 16:00",
          "s24-12-26 17:00",
          "s24-12-26 18:00",
          "s24-12-26 19:00",
          "s24-12-26 20:00",
          "s24-12-26 21:00",
          "s24-12-26 22:00",
          "s24-12-26 23:00",
          "s24-12-27 00:00",
          "s24-12-27 01:00",
          "s24-12-27 02:00",
          "s24-12-27 03:00",
          "s24-12-27 04:00",
          "s24-12-27 05:00",
          "s24-12-27 06:00",
          "s24-12-27 07:00",
          "s24-12-27 08:00",
          "s24-12-27 09:00",
          "s24-12-27 10:00",
          "s24-12-27 11:00",
          "s24-12-27 12:00",
          "s24-12-27 13:00",
          "s24-12-27 14:00",
          "s24-12-27 15:00",
          "s24-12-27 16:00",
          "s24-12-27 17:00",
          "s24-12-27 18:00",
          "s24-12-27 19:00",
          "s24-12-27 20:00",
          "s24-12-27 21:00",
          "s24-12-29 22:00",
          "s24-12-29 23:00",
          "s24-12-30 00:00",
          "s24-12-30 01:00",
          "s24-12-30 02:00",
          "s24-12-30 03:00",
          "s24-12-30 04:00",
          "s24-12-30 05:00",
          "s24-12-30 06:00",
          "s24-12-30 07:00",
          "s24-12-30 08:00",
          "s24-12-30 09:00",
          "s24-12-30 10:00",
          "s24-12-30 11:00",
          "s24-12-30 12:00",
          "s24-12-30 13:00",
          "s24-12-30 14:00",
          "s24-12-30 15:00",
          "s24-12-30 16:00",
          "s24-12-30 17:00",
          "s24-12-30 18:00",
          "s24-12-30 19:00",
          "s24-12-30 20:00",
          "s24-12-30 21:00",
          "s24-12-30 22:00",
          "s24-12-30 23:00"
         ],
         "xaxis": "x",
         "y": {
          "bdata": "Jd+m3EbvAT98+usVU3nTPlE0Cu6/kv2+RVfdhW2+EL+fciQWbscZv9rdfxUnfCK/SW6ejBztKb896MttM/Evv+aMvmDBIzK/7FvjKGglM7+KuX6KKuYyv2/sLOb6azK/81kNjtcXMb+4rF6N/aYvv8ZTV45nty2/oPwvXYn1K7+zk90mo7Epv135Dv3JXCi/sroAeeghKL/Da+T5XJorv+gvDfPNajC/hzkEudruM79t/Fflz703vybNU/SPlDq/uQ2cY/zVPb/Ihw26QtE/v1C2MWQlEUC/QMhqaPkQQL8zZf1QUPk/vyqkq9qgXj+/vcmJYT+8Pb9kKXABhn47v4Nnptj0yDm/nYdWCkVrOL9L0WS2NhM3v9YFrDTzFzW/eOHNrM0/M79gjKiUOe4xvxotAu9lzTC/kO476lMAL79zuCfCPCUtv5ADcdYt+iu/QIlWOHQ3K79mZ6ouSTYrvx8pNRGz9ym/gEqzqDzOJ7+a66xFxy8kv0hZm0DAlyC/P1VMEYDqGr/MHb66PDQXv6TkZexlHxi/hLB1pOy8Fr/QBr15BRkUv9rrTqZ+mRG/4g/A4h8fEb+CmYzGxGYTv2n0TGl0LRu/kR4CTx84JL9C1f6eDf8ov2lHCIQdIiu/Vfwi51XTLb+8+ZaRIxoxv2QJW4e4fzO/HXkp3QJ4Nb/l6OdFdlI3v1IiI91rSDi/D5UyCgAqOb/aQNa2G1k5v0na3MIEQTi/CE3uuTIsNr8HDCy9fWIzvwZw6DtHXDC/1pyAnRGpKr8SZ8sCSU0jv08rKXyS7RK/iXsqL8s55b60DeReC0sHP3ylnPwu2xk/MzKqQdmFJD/2JFWFdQcuP8p2pnKM8jM/Cf/Oo/yiOD+jhW9a1VM8P4N0FSXlRz8/ndvp9nDXPz9+FM/Sgvk9PwAKoMRYuTs/manQt4jfOT9I6Tvr91Q4P9SdDO+jWzU/quyw5BN+Mj/cvZEYAOwqP/cCA4hOoBo/4rnMvAGr5r4zLNyKGWUfv33O9tU19S2/AGkmPBE9Nr/OeLtcgxg9v4fzLHuOA0K/04YiTeFTRb8=",
          "dtype": "f8"
         },
         "yaxis": "y"
        },
        {
         "line": {
          "shape": "spline",
          "width": 2
         },
         "name": "MACD",
         "type": "scatter",
         "x": [
          "s24-12-23 20:00",
          "s24-12-23 21:00",
          "s24-12-23 22:00",
          "s24-12-23 23:00",
          "s24-12-24 00:00",
          "s24-12-24 01:00",
          "s24-12-24 02:00",
          "s24-12-24 03:00",
          "s24-12-24 04:00",
          "s24-12-24 05:00",
          "s24-12-24 06:00",
          "s24-12-24 07:00",
          "s24-12-24 08:00",
          "s24-12-24 09:00",
          "s24-12-24 10:00",
          "s24-12-24 11:00",
          "s24-12-24 12:00",
          "s24-12-24 13:00",
          "s24-12-24 14:00",
          "s24-12-24 15:00",
          "s24-12-24 16:00",
          "s24-12-24 17:00",
          "s24-12-24 18:00",
          "s24-12-24 19:00",
          "s24-12-24 20:00",
          "s24-12-24 21:00",
          "s24-12-25 22:00",
          "s24-12-25 23:00",
          "s24-12-26 00:00",
          "s24-12-26 01:00",
          "s24-12-26 02:00",
          "s24-12-26 03:00",
          "s24-12-26 04:00",
          "s24-12-26 05:00",
          "s24-12-26 06:00",
          "s24-12-26 07:00",
          "s24-12-26 08:00",
          "s24-12-26 09:00",
          "s24-12-26 10:00",
          "s24-12-26 11:00",
          "s24-12-26 12:00",
          "s24-12-26 13:00",
          "s24-12-26 14:00",
          "s24-12-26 15:00",
          "s24-12-26 16:00",
          "s24-12-26 17:00",
          "s24-12-26 18:00",
          "s24-12-26 19:00",
          "s24-12-26 20:00",
          "s24-12-26 21:00",
          "s24-12-26 22:00",
          "s24-12-26 23:00",
          "s24-12-27 00:00",
          "s24-12-27 01:00",
          "s24-12-27 02:00",
          "s24-12-27 03:00",
          "s24-12-27 04:00",
          "s24-12-27 05:00",
          "s24-12-27 06:00",
          "s24-12-27 07:00",
          "s24-12-27 08:00",
          "s24-12-27 09:00",
          "s24-12-27 10:00",
          "s24-12-27 11:00",
          "s24-12-27 12:00",
          "s24-12-27 13:00",
          "s24-12-27 14:00",
          "s24-12-27 15:00",
          "s24-12-27 16:00",
          "s24-12-27 17:00",
          "s24-12-27 18:00",
          "s24-12-27 19:00",
          "s24-12-27 20:00",
          "s24-12-27 21:00",
          "s24-12-29 22:00",
          "s24-12-29 23:00",
          "s24-12-30 00:00",
          "s24-12-30 01:00",
          "s24-12-30 02:00",
          "s24-12-30 03:00",
          "s24-12-30 04:00",
          "s24-12-30 05:00",
          "s24-12-30 06:00",
          "s24-12-30 07:00",
          "s24-12-30 08:00",
          "s24-12-30 09:00",
          "s24-12-30 10:00",
          "s24-12-30 11:00",
          "s24-12-30 12:00",
          "s24-12-30 13:00",
          "s24-12-30 14:00",
          "s24-12-30 15:00",
          "s24-12-30 16:00",
          "s24-12-30 17:00",
          "s24-12-30 18:00",
          "s24-12-30 19:00",
          "s24-12-30 20:00",
          "s24-12-30 21:00",
          "s24-12-30 22:00",
          "s24-12-30 23:00"
         ],
         "xaxis": "x",
         "y": {
          "bdata": "AKB/nyalGL8AAHTCo8gdvwDgg1fi6iS/AECk17ESK78AcKAruPUuvwA4m5/zbjS/AFiMNHnYO78A6EB5xwA8vwDwIAhg0Dq/AJh2SQMsN78AMOwQNOkxvwC45VQ8gzC/ACAeW5SOJ78AkG5SN4QlvwDwOZIP+SW/AKCSmBDuJL8A8JNNCqIgvwCQ1FVlCSO/AMDHaGI2J78AmLl+F740vwAYectL4Tq/ADBw6Ib/QL8AhFNL0nxDvwCIIRjI90K/AIheENdtRb8AuOkJLt9DvwCA3YA1s0C/ABBPeUkQQL8AuJxRxlY/vwCgZAHj8zy/AGACfbkyN78AqAmBoIcyvwBgfzWw8jK/AAgX0YX0Mr8A+J1m/bIxvwCwkVvKVSq/AKCqGm++J78AcCZo0k8pvwBg0bAulCi/AEAaG3SWJL8A4NYh4LglvwAwlifyTSe/AKDsv40sKL8A4PkHnTErvwAwYJta/SS/AKBXDcZQHr8AwE3mxtcGvwCAqGIhvfG+AAAuGuVn3b4AgArBXrYAvwAABbMKzBu/AOC0hAczEb8AwLSd0RIDvwAAWmKNbf6+AEAJqUlrDr8AwL5VWIUcvwAwJ3oZJC2/AFg43NleN78A2HhvYw02vwAIF4wu1zG/AOjGuRtMNL8A6KwJBtw5vwBIa14MFj2/ADhjNCxZPb8AqOHoQ7w+vwAIEDpCIDy/AGBwvlCwPL8A8GRpihU6vwBA9/Ko4DO/ADBoLNWxK78AEEaUU3cgvwAAaNu0DRG/AID8ofFY874A4BLQskMUPwCwxtQ14y0/ABCVeRU5Lz8A2DOBIDYxPwDIUQx1rDQ/ANiMJ3BzOT8APACleQNBPwAES5np1kM/AJA4tF6yRT8A0HganItFPwCY1icSjEU/ALwdH9AKQT8A+GNCyoE2PwDg44uwuDI/ACiThEh4Mj8A6Oi4tCoyPwDgnvyn7CI/AKAI7U4fHD8AYF1VPakavwC4HweejzS/AACDzQYrPr8A0PzafzRCvwBsBob2v0W/ADhpQHWjSb8A3IfvJUNMvwDQaa7B4E+/AGp8SpZKUb8=",
          "dtype": "f8"
         },
         "yaxis": "y"
        }
       ],
       "layout": {
        "font": {
         "color": "#e1e1e1",
         "size": 8
        },
        "height": 900,
        "margin": {
         "b": 10,
         "l": 10,
         "r": 10,
         "t": 10
        },
        "paper_bgcolor": "#2c303c",
        "plot_bgcolor": "#2c303c",
        "template": {
         "data": {
          "bar": [
           {
            "error_x": {
             "color": "#2a3f5f"
            },
            "error_y": {
             "color": "#2a3f5f"
            },
            "marker": {
             "line": {
              "color": "#E5ECF6",
              "width": 0.5
             },
             "pattern": {
              "fillmode": "overlay",
              "size": 10,
              "solidity": 0.2
             }
            },
            "type": "bar"
           }
          ],
          "barpolar": [
           {
            "marker": {
             "line": {
              "color": "#E5ECF6",
              "width": 0.5
             },
             "pattern": {
              "fillmode": "overlay",
              "size": 10,
              "solidity": 0.2
             }
            },
            "type": "barpolar"
           }
          ],
          "carpet": [
           {
            "aaxis": {
             "endlinecolor": "#2a3f5f",
             "gridcolor": "white",
             "linecolor": "white",
             "minorgridcolor": "white",
             "startlinecolor": "#2a3f5f"
            },
            "baxis": {
             "endlinecolor": "#2a3f5f",
             "gridcolor": "white",
             "linecolor": "white",
             "minorgridcolor": "white",
             "startlinecolor": "#2a3f5f"
            },
            "type": "carpet"
           }
          ],
          "choropleth": [
           {
            "colorbar": {
             "outlinewidth": 0,
             "ticks": ""
            },
            "type": "choropleth"
           }
          ],
          "contour": [
           {
            "colorbar": {
             "outlinewidth": 0,
             "ticks": ""
            },
            "colorscale": [
             [
              0,
              "#0d0887"
             ],
             [
              0.1111111111111111,
              "#46039f"
             ],
             [
              0.2222222222222222,
              "#7201a8"
             ],
             [
              0.3333333333333333,
              "#9c179e"
             ],
             [
              0.4444444444444444,
              "#bd3786"
             ],
             [
              0.5555555555555556,
              "#d8576b"
             ],
             [
              0.6666666666666666,
              "#ed7953"
             ],
             [
              0.7777777777777778,
              "#fb9f3a"
             ],
             [
              0.8888888888888888,
              "#fdca26"
             ],
             [
              1,
              "#f0f921"
             ]
            ],
            "type": "contour"
           }
          ],
          "contourcarpet": [
           {
            "colorbar": {
             "outlinewidth": 0,
             "ticks": ""
            },
            "type": "contourcarpet"
           }
          ],
          "heatmap": [
           {
            "colorbar": {
             "outlinewidth": 0,
             "ticks": ""
            },
            "colorscale": [
             [
              0,
              "#0d0887"
             ],
             [
              0.1111111111111111,
              "#46039f"
             ],
             [
              0.2222222222222222,
              "#7201a8"
             ],
             [
              0.3333333333333333,
              "#9c179e"
             ],
             [
              0.4444444444444444,
              "#bd3786"
             ],
             [
              0.5555555555555556,
              "#d8576b"
             ],
             [
              0.6666666666666666,
              "#ed7953"
             ],
             [
              0.7777777777777778,
              "#fb9f3a"
             ],
             [
              0.8888888888888888,
              "#fdca26"
             ],
             [
              1,
              "#f0f921"
             ]
            ],
            "type": "heatmap"
           }
          ],
          "histogram": [
           {
            "marker": {
             "pattern": {
              "fillmode": "overlay",
              "size": 10,
              "solidity": 0.2
             }
            },
            "type": "histogram"
           }
          ],
          "histogram2d": [
           {
            "colorbar": {
             "outlinewidth": 0,
             "ticks": ""
            },
            "colorscale": [
             [
              0,
              "#0d0887"
             ],
             [
              0.1111111111111111,
              "#46039f"
             ],
             [
              0.2222222222222222,
              "#7201a8"
             ],
             [
              0.3333333333333333,
              "#9c179e"
             ],
             [
              0.4444444444444444,
              "#bd3786"
             ],
             [
              0.5555555555555556,
              "#d8576b"
             ],
             [
              0.6666666666666666,
              "#ed7953"
             ],
             [
              0.7777777777777778,
              "#fb9f3a"
             ],
             [
              0.8888888888888888,
              "#fdca26"
             ],
             [
              1,
              "#f0f921"
             ]
            ],
            "type": "histogram2d"
           }
          ],
          "histogram2dcontour": [
           {
            "colorbar": {
             "outlinewidth": 0,
             "ticks": ""
            },
            "colorscale": [
             [
              0,
              "#0d0887"
             ],
             [
              0.1111111111111111,
              "#46039f"
             ],
             [
              0.2222222222222222,
              "#7201a8"
             ],
             [
              0.3333333333333333,
              "#9c179e"
             ],
             [
              0.4444444444444444,
              "#bd3786"
             ],
             [
              0.5555555555555556,
              "#d8576b"
             ],
             [
              0.6666666666666666,
              "#ed7953"
             ],
             [
              0.7777777777777778,
              "#fb9f3a"
             ],
             [
              0.8888888888888888,
              "#fdca26"
             ],
             [
              1,
              "#f0f921"
             ]
            ],
            "type": "histogram2dcontour"
           }
          ],
          "mesh3d": [
           {
            "colorbar": {
             "outlinewidth": 0,
             "ticks": ""
            },
            "type": "mesh3d"
           }
          ],
          "parcoords": [
           {
            "line": {
             "colorbar": {
              "outlinewidth": 0,
              "ticks": ""
             }
            },
            "type": "parcoords"
           }
          ],
          "pie": [
           {
            "automargin": true,
            "type": "pie"
           }
          ],
          "scatter": [
           {
            "fillpattern": {
             "fillmode": "overlay",
             "size": 10,
             "solidity": 0.2
            },
            "type": "scatter"
           }
          ],
          "scatter3d": [
           {
            "line": {
             "colorbar": {
              "outlinewidth": 0,
              "ticks": ""
             }
            },
            "marker": {
             "colorbar": {
              "outlinewidth": 0,
              "ticks": ""
             }
            },
            "type": "scatter3d"
           }
          ],
          "scattercarpet": [
           {
            "marker": {
             "colorbar": {
              "outlinewidth": 0,
              "ticks": ""
             }
            },
            "type": "scattercarpet"
           }
          ],
          "scattergeo": [
           {
            "marker": {
             "colorbar": {
              "outlinewidth": 0,
              "ticks": ""
             }
            },
            "type": "scattergeo"
           }
          ],
          "scattergl": [
           {
            "marker": {
             "colorbar": {
              "outlinewidth": 0,
              "ticks": ""
             }
            },
            "type": "scattergl"
           }
          ],
          "scattermap": [
           {
            "marker": {
             "colorbar": {
              "outlinewidth": 0,
              "ticks": ""
             }
            },
            "type": "scattermap"
           }
          ],
          "scattermapbox": [
           {
            "marker": {
             "colorbar": {
              "outlinewidth": 0,
              "ticks": ""
             }
            },
            "type": "scattermapbox"
           }
          ],
          "scatterpolar": [
           {
            "marker": {
             "colorbar": {
              "outlinewidth": 0,
              "ticks": ""
             }
            },
            "type": "scatterpolar"
           }
          ],
          "scatterpolargl": [
           {
            "marker": {
             "colorbar": {
              "outlinewidth": 0,
              "ticks": ""
             }
            },
            "type": "scatterpolargl"
           }
          ],
          "scatterternary": [
           {
            "marker": {
             "colorbar": {
              "outlinewidth": 0,
              "ticks": ""
             }
            },
            "type": "scatterternary"
           }
          ],
          "surface": [
           {
            "colorbar": {
             "outlinewidth": 0,
             "ticks": ""
            },
            "colorscale": [
             [
              0,
              "#0d0887"
             ],
             [
              0.1111111111111111,
              "#46039f"
             ],
             [
              0.2222222222222222,
              "#7201a8"
             ],
             [
              0.3333333333333333,
              "#9c179e"
             ],
             [
              0.4444444444444444,
              "#bd3786"
             ],
             [
              0.5555555555555556,
              "#d8576b"
             ],
             [
              0.6666666666666666,
              "#ed7953"
             ],
             [
              0.7777777777777778,
              "#fb9f3a"
             ],
             [
              0.8888888888888888,
              "#fdca26"
             ],
             [
              1,
              "#f0f921"
             ]
            ],
            "type": "surface"
           }
          ],
          "table": [
           {
            "cells": {
             "fill": {
              "color": "#EBF0F8"
             },
             "line": {
              "color": "white"
             }
            },
            "header": {
             "fill": {
              "color": "#C8D4E3"
             },
             "line": {
              "color": "white"
             }
            },
            "type": "table"
           }
          ]
         },
         "layout": {
          "annotationdefaults": {
           "arrowcolor": "#2a3f5f",
           "arrowhead": 0,
           "arrowwidth": 1
          },
          "autotypenumbers": "strict",
          "coloraxis": {
           "colorbar": {
            "outlinewidth": 0,
            "ticks": ""
           }
          },
          "colorscale": {
           "diverging": [
            [
             0,
             "#8e0152"
            ],
            [
             0.1,
             "#c51b7d"
            ],
            [
             0.2,
             "#de77ae"
            ],
            [
             0.3,
             "#f1b6da"
            ],
            [
             0.4,
             "#fde0ef"
            ],
            [
             0.5,
             "#f7f7f7"
            ],
            [
             0.6,
             "#e6f5d0"
            ],
            [
             0.7,
             "#b8e186"
            ],
            [
             0.8,
             "#7fbc41"
            ],
            [
             0.9,
             "#4d9221"
            ],
            [
             1,
             "#276419"
            ]
           ],
           "sequential": [
            [
             0,
             "#0d0887"
            ],
            [
             0.1111111111111111,
             "#46039f"
            ],
            [
             0.2222222222222222,
             "#7201a8"
            ],
            [
             0.3333333333333333,
             "#9c179e"
            ],
            [
             0.4444444444444444,
             "#bd3786"
            ],
            [
             0.5555555555555556,
             "#d8576b"
            ],
            [
             0.6666666666666666,
             "#ed7953"
            ],
            [
             0.7777777777777778,
             "#fb9f3a"
            ],
            [
             0.8888888888888888,
             "#fdca26"
            ],
            [
             1,
             "#f0f921"
            ]
           ],
           "sequentialminus": [
            [
             0,
             "#0d0887"
            ],
            [
             0.1111111111111111,
             "#46039f"
            ],
            [
             0.2222222222222222,
             "#7201a8"
            ],
            [
             0.3333333333333333,
             "#9c179e"
            ],
            [
             0.4444444444444444,
             "#bd3786"
            ],
            [
             0.5555555555555556,
             "#d8576b"
            ],
            [
             0.6666666666666666,
             "#ed7953"
            ],
            [
             0.7777777777777778,
             "#fb9f3a"
            ],
            [
             0.8888888888888888,
             "#fdca26"
            ],
            [
             1,
             "#f0f921"
            ]
           ]
          },
          "colorway": [
           "#636efa",
           "#EF553B",
           "#00cc96",
           "#ab63fa",
           "#FFA15A",
           "#19d3f3",
           "#FF6692",
           "#B6E880",
           "#FF97FF",
           "#FECB52"
          ],
          "font": {
           "color": "#2a3f5f"
          },
          "geo": {
           "bgcolor": "white",
           "lakecolor": "white",
           "landcolor": "#E5ECF6",
           "showlakes": true,
           "showland": true,
           "subunitcolor": "white"
          },
          "hoverlabel": {
           "align": "left"
          },
          "hovermode": "closest",
          "mapbox": {
           "style": "light"
          },
          "paper_bgcolor": "white",
          "plot_bgcolor": "#E5ECF6",
          "polar": {
           "angularaxis": {
            "gridcolor": "white",
            "linecolor": "white",
            "ticks": ""
           },
           "bgcolor": "#E5ECF6",
           "radialaxis": {
            "gridcolor": "white",
            "linecolor": "white",
            "ticks": ""
           }
          },
          "scene": {
           "xaxis": {
            "backgroundcolor": "#E5ECF6",
            "gridcolor": "white",
            "gridwidth": 2,
            "linecolor": "white",
            "showbackground": true,
            "ticks": "",
            "zerolinecolor": "white"
           },
           "yaxis": {
            "backgroundcolor": "#E5ECF6",
            "gridcolor": "white",
            "gridwidth": 2,
            "linecolor": "white",
            "showbackground": true,
            "ticks": "",
            "zerolinecolor": "white"
           },
           "zaxis": {
            "backgroundcolor": "#E5ECF6",
            "gridcolor": "white",
            "gridwidth": 2,
            "linecolor": "white",
            "showbackground": true,
            "ticks": "",
            "zerolinecolor": "white"
           }
          },
          "shapedefaults": {
           "line": {
            "color": "#2a3f5f"
           }
          },
          "ternary": {
           "aaxis": {
            "gridcolor": "white",
            "linecolor": "white",
            "ticks": ""
           },
           "baxis": {
            "gridcolor": "white",
            "linecolor": "white",
            "ticks": ""
           },
           "bgcolor": "#E5ECF6",
           "caxis": {
            "gridcolor": "white",
            "linecolor": "white",
            "ticks": ""
           }
          },
          "title": {
           "x": 0.05
          },
          "xaxis": {
           "automargin": true,
           "gridcolor": "white",
           "linecolor": "white",
           "ticks": "",
           "title": {
            "standoff": 15
           },
           "zerolinecolor": "white",
           "zerolinewidth": 2
          },
          "yaxis": {
           "automargin": true,
           "gridcolor": "white",
           "linecolor": "white",
           "ticks": "",
           "title": {
            "standoff": 15
           },
           "zerolinecolor": "white",
           "zerolinewidth": 2
          }
         }
        },
        "width": 900,
        "xaxis": {
         "anchor": "y",
         "domain": [
          0,
          0.94
         ],
         "gridcolor": "#1f292f",
         "nticks": 5,
         "rangeslider": {
          "visible": false
         }
        },
        "yaxis": {
         "anchor": "x",
         "domain": [
          0,
          1
         ],
         "gridcolor": "#1f292f"
        },
        "yaxis2": {
         "anchor": "x",
         "gridcolor": "#1f292f",
         "overlaying": "y",
         "side": "right"
        }
       }
      }
     },
     "metadata": {},
     "output_type": "display_data"
    }
   ],
   "source": [
    "cp = CandlePlot(dfp, candles=False)\n",
    "cp.show_plot(line_traces=[\"SIGNAL\", \"MACD\"], sec_traces=[])"
   ]
  },
  {
   "cell_type": "code",
   "execution_count": null,
   "id": "6949e396",
   "metadata": {},
   "outputs": [],
   "source": []
  }
 ],
 "metadata": {
  "kernelspec": {
   "display_name": "trade-framework-nii59TSx-py3.12",
   "language": "python",
   "name": "python3"
  },
  "language_info": {
   "codemirror_mode": {
    "name": "ipython",
    "version": 3
   },
   "file_extension": ".py",
   "mimetype": "text/x-python",
   "name": "python",
   "nbconvert_exporter": "python",
   "pygments_lexer": "ipython3",
   "version": "3.12.7"
  }
 },
 "nbformat": 4,
 "nbformat_minor": 5
}
